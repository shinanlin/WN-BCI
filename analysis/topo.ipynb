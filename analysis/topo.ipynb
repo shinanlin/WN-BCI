{
 "cells": [
  {
   "cell_type": "code",
   "execution_count": 1,
   "metadata": {},
   "outputs": [],
   "source": [
    "import random\n",
    "import sys\n",
    "sys.path.append('..')\n",
    "from mne.viz import plot_topomap\n",
    "from spatialFilters import TDCA\n",
    "import mne\n",
    "import os\n",
    "import numpy as np\n",
    "import pickle\n"
   ]
  },
  {
   "cell_type": "code",
   "execution_count": 34,
   "metadata": {},
   "outputs": [
    {
     "data": {
      "text/plain": [
       "'zhangtiantian'"
      ]
     },
     "execution_count": 34,
     "metadata": {},
     "output_type": "execute_result"
    }
   ],
   "source": [
    "expName = 'sweep'\n",
    "dir = '../datasets/%s.pickle' % expName\n",
    "with open(dir, \"rb\") as fp:\n",
    "    wholeset = pickle.load(fp)\n",
    "\n",
    "sub = -1\n",
    "chNames = wholeset[sub]['channel']\n",
    "X = wholeset[sub]['wn']['X']\n",
    "y = wholeset[sub]['wn']['y']\n",
    "\n",
    "chnINX = [chNames.index(i) for i in chNames if i not in ['M1','M2','CB1','CB2']]\n",
    "X = X[:, chnINX]\n",
    "for i in ['M1','M2','CB1','CB2']:\n",
    "    chNames.remove(i)\n",
    "wholeset[sub]['name']"
   ]
  },
  {
   "cell_type": "code",
   "execution_count": 35,
   "metadata": {},
   "outputs": [],
   "source": [
    "Add = 'Alpha-S1.mat'\n",
    "from scipy.io import loadmat\n",
    "X = loadmat(Add)['data'][0][0]['data']\n",
    "_, _, classNUM, blockNUM = X.shape\n",
    "\n",
    "X = X[chnINX, 125:]\n",
    "X = X.transpose((-2, -1, 0, 1))\n",
    "X = np.concatenate(X, axis=0)\n",
    "y = np.repeat(np.arange(0, classNUM), blockNUM)\n"
   ]
  },
  {
   "cell_type": "code",
   "execution_count": 37,
   "metadata": {},
   "outputs": [
    {
     "data": {
      "text/html": [
       "<table class=\"table table-hover table-striped table-sm table-responsive small\">\n",
       "    <tr>\n",
       "        <th>Measurement date</th>\n",
       "        \n",
       "        <td>Unknown</td>\n",
       "        \n",
       "    </tr>\n",
       "    <tr>\n",
       "        <th>Experimenter</th>\n",
       "        \n",
       "        <td>Unknown</td>\n",
       "        \n",
       "    </tr>\n",
       "        <th>Participant</th>\n",
       "        \n",
       "        <td>Unknown</td>\n",
       "        \n",
       "    </tr>\n",
       "    <tr>\n",
       "        <th>Digitized points</th>\n",
       "        \n",
       "        <td>0 points</td>\n",
       "        \n",
       "    </tr>\n",
       "    <tr>\n",
       "        <th>Good channels</th>\n",
       "        <td>60 EEG</td>\n",
       "    </tr>\n",
       "    <tr>\n",
       "        <th>Bad channels</th>\n",
       "        <td>None</td>\n",
       "    </tr>\n",
       "    <tr>\n",
       "        <th>EOG channels</th>\n",
       "        <td>Not available</td>\n",
       "    </tr>\n",
       "    <tr>\n",
       "        <th>ECG channels</th>\n",
       "        <td>Not available</td>\n",
       "    \n",
       "    <tr>\n",
       "        <th>Sampling frequency</th>\n",
       "        <td>250.00 Hz</td>\n",
       "    </tr>\n",
       "    \n",
       "    \n",
       "    <tr>\n",
       "        <th>Highpass</th>\n",
       "        <td>0.00 Hz</td>\n",
       "    </tr>\n",
       "    \n",
       "    \n",
       "    <tr>\n",
       "        <th>Lowpass</th>\n",
       "        <td>125.00 Hz</td>\n",
       "    </tr>\n",
       "    \n",
       "    \n",
       "</table>"
      ],
      "text/plain": [
       "<Info | 8 non-empty values\n",
       " bads: []\n",
       " ch_names: FP1, FPZ, FP2, AF3, AF4, F7, F5, F3, F1, FZ, F2, F4, F6, F8, ...\n",
       " chs: 60 EEG\n",
       " custom_ref_applied: False\n",
       " dig: 60 items (60 EEG)\n",
       " highpass: 0.0 Hz\n",
       " lowpass: 125.0 Hz\n",
       " meas_date: unspecified\n",
       " nchan: 60\n",
       " projs: []\n",
       " sfreq: 250.0 Hz\n",
       ">"
      ]
     },
     "execution_count": 37,
     "metadata": {},
     "output_type": "execute_result"
    }
   ],
   "source": [
    "info = mne.create_info(ch_names=chNames, sfreq=250,ch_types='eeg')\n",
    "fname = 'montage.loc'\n",
    "montage = mne.channels.read_custom_montage(fname)\n",
    "info.set_montage(montage)"
   ]
  },
  {
   "cell_type": "code",
   "execution_count": 49,
   "metadata": {},
   "outputs": [],
   "source": [
    "bigModel = TDCA(srate=250,montage=40,lag=0.14,winLEN=3)\n",
    "bigModel.fit(X,y)\n",
    "bigPattern = np.squeeze(bigModel.pattern)\n",
    "\n",
    "# targetNUM = 40\n",
    "# picked = random.sample(list(np.unique(y)), targetNUM)\n",
    "# X_picked = np.concatenate([X[y == i] for i in picked])\n",
    "# y_picked = np.concatenate([y[y == i] for i in picked])\n",
    "\n",
    "# lilModel = TDCA(srate=250, montage=160, lag=0.14, winLEN=0.3)\n",
    "# lilModel.fit(X_picked, y_picked)\n",
    "\n",
    "# lilPattern = np.squeeze(lilModel.pattern)"
   ]
  },
  {
   "cell_type": "code",
   "execution_count": null,
   "metadata": {},
   "outputs": [],
   "source": []
  },
  {
   "cell_type": "code",
   "execution_count": 47,
   "metadata": {},
   "outputs": [],
   "source": [
    "# X_picked = X_picked-np.mean(X_picked,axis=0,keepdims=True)\n",
    "# X_Cov = [np.cov(x) for x in X_picked]\n",
    "\n",
    "# S_cov = [np.cov(np.dot(lilModel.filters[0].T,x)) for x in X_picked]\n",
    "# filters = lilModel.filters[0]\n",
    "# patterns = np.stack([x.T.dot(lilModel.pattern.T).dot(s) for (x,s) in zip(X_Cov,S_cov)])\n",
    "# patterns = np.squeeze(patterns)"
   ]
  },
  {
   "cell_type": "markdown",
   "metadata": {},
   "source": []
  },
  {
   "cell_type": "code",
   "execution_count": 51,
   "metadata": {},
   "outputs": [
    {
     "data": {
      "image/png": "[encoded data removed]",
      "text/plain": [
       "<Figure size 640x480 with 2 Axes>"
      ]
     },
     "metadata": {},
     "output_type": "display_data"
    }
   ],
   "source": [
    "import seaborn as sns\n",
    "import matplotlib.pyplot as plt\n",
    "\n",
    "m = sns.diverging_palette(255, 15, as_cmap=True)\n",
    "m = sns.color_palette(\"vlag\", as_cmap=True)\n",
    "\n",
    "f,axes = plt.subplots(1,2)\n",
    "# ax1 = plot_topomap(data=patterns.mean(axis=0), pos=info, cmap=m, contours=0,\n",
    "#                    image_interp='bicubic', axes=axes[0], show=False)\n",
    "ax2 = plot_topomap(data=bigPattern, pos=info, cmap=m,contours=0, image_interp='bicubic', axes=axes[1], show=False)"
   ]
  },
  {
   "cell_type": "code",
   "execution_count": null,
   "metadata": {},
   "outputs": [],
   "source": []
  }
 ],
 "metadata": {
  "kernelspec": {
   "display_name": "base",
   "language": "python",
   "name": "python3"
  },
  "language_info": {
   "codemirror_mode": {
    "name": "ipython",
    "version": 3
   },
   "file_extension": ".py",
   "mimetype": "text/x-python",
   "name": "python",
   "nbconvert_exporter": "python",
   "pygments_lexer": "ipython3",
   "version": "3.8.5"
  },
  "orig_nbformat": 4,
  "vscode": {
   "interpreter": {
    "hash": "738b996afe2da5960d326b652730d0fe79e83941aa5e7e236ea36fecd662bb25"
   }
  }
 },
 "nbformat": 4,
 "nbformat_minor": 2
}
