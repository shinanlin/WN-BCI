{
 "cells": [
  {
   "cell_type": "code",
   "execution_count": 16,
   "metadata": {},
   "outputs": [],
   "source": [
    "import numpy as np\n",
    "import pickle\n",
    "from scipy.io import savemat\n",
    "import sys\n",
    "sys.path.append('..')\n"
   ]
  },
  {
   "cell_type": "code",
   "execution_count": 17,
   "metadata": {},
   "outputs": [],
   "source": [
    "expName = 'sweep'\n",
    "chnNames = ['PZ', 'PO5', 'POZ', 'PO3', 'PO4',\n",
    "            'PO6', 'PO7', 'PO8', 'O1', 'OZ', 'O2']\n",
    "\n",
    "dir = '../datasets/%s.pickle' % expName\n",
    "with open(dir, \"rb\") as fp:\n",
    "    wholeset = pickle.load(fp)\n",
    "\n",
    "\n",
    "rep  = wholeset[0]\n",
    "\n",
    "chnNames = ['PZ', 'PO5', 'POZ', 'PO4', 'PO6', 'O1', 'OZ','O2']\n",
    "chnINX = [wholeset[0]['channel'].index(i) for i in chnNames]\n",
    "\n",
    "X = np.concatenate([sub['wn']['X'][:, chnINX] for sub in wholeset])\n",
    "y = np.concatenate([sub['wn']['y'] for sub in wholeset])\n",
    "S = rep['wn']['STI']\n",
    "_class = np.unique(y)"
   ]
  },
  {
   "cell_type": "code",
   "execution_count": 18,
   "metadata": {},
   "outputs": [
    {
     "data": {
      "text/plain": [
       "<modeling.Code2EEG at 0x7fee399782b0>"
      ]
     },
     "execution_count": 18,
     "metadata": {},
     "output_type": "execute_result"
    }
   ],
   "source": [
    "from modeling import Code2EEG\n",
    "srate = 240\n",
    "winLEN = 1 \n",
    "classNUM = 160\n",
    "tmin, tmax = 0, .8\n",
    "n_band = 1\n",
    "# penalty\n",
    "p = 0.9\n",
    "\n",
    "code2EEG = Code2EEG(srate=srate, winLEN=winLEN, tmin=tmin, tmax=tmax, S=(S, _class), estimator=p, padding=True, n_band=n_band, component=1)\n",
    "code2EEG.fit(X, y)"
   ]
  },
  {
   "cell_type": "code",
   "execution_count": 23,
   "metadata": {},
   "outputs": [
    {
     "data": {
      "text/plain": [
       "(160, 240)"
      ]
     },
     "execution_count": 23,
     "metadata": {},
     "output_type": "execute_result"
    }
   ],
   "source": [
    "pattern = np.squeeze(code2EEG.enhanced)\n",
    "STI = S\n",
    "\n",
    "data=dict()\n",
    "data['input'] = pattern\n",
    "data['output'] = STI\n",
    "\n",
    "savemat(\"../mat/FRF.mat\", data)"
   ]
  },
  {
   "cell_type": "code",
   "execution_count": 32,
   "metadata": {},
   "outputs": [],
   "source": [
    "for sub in wholeset:\n",
    "    name=sub['name']\n",
    "    chnINX = [sub['channel'].index(i) for i in chnNames]\n",
    "    data = dict()\n",
    "    for paradigm in ['ssvep','wn','high']:\n",
    "        X = sub[paradigm]['X'][:,chnINX,:]\n",
    "        y = sub[paradigm]['y']\n",
    "\n",
    "        X = np.stack([X[y==i] for i in np.unique(y)])\n",
    "        X = np.transpose(X,axes=(0,2,3,1))\n",
    "\n",
    "        data[paradigm] = X\n",
    "\n",
    "    savemat(\"../mat/S_%s.mat\"%name, data)\n"
   ]
  },
  {
   "cell_type": "code",
   "execution_count": null,
   "metadata": {},
   "outputs": [],
   "source": []
  }
 ],
 "metadata": {
  "kernelspec": {
   "display_name": "Python 3.8.5 ('base')",
   "language": "python",
   "name": "python3"
  },
  "language_info": {
   "codemirror_mode": {
    "name": "ipython",
    "version": 3
   },
   "file_extension": ".py",
   "mimetype": "text/x-python",
   "name": "python",
   "nbconvert_exporter": "python",
   "pygments_lexer": "ipython3",
   "version": "3.8.5"
  },
  "orig_nbformat": 4,
  "vscode": {
   "interpreter": {
    "hash": "738b996afe2da5960d326b652730d0fe79e83941aa5e7e236ea36fecd662bb25"
   }
  }
 },
 "nbformat": 4,
 "nbformat_minor": 2
}
