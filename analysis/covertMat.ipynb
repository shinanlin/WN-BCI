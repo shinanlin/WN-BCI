{
 "cells": [
  {
   "cell_type": "code",
   "execution_count": 26,
   "metadata": {},
   "outputs": [],
   "source": [
    "import numpy as np\n",
    "import pickle\n",
    "from scipy.io import savemat"
   ]
  },
  {
   "cell_type": "code",
   "execution_count": 22,
   "metadata": {},
   "outputs": [],
   "source": [
    "expName = 'confirm'\n",
    "chnNames = ['PZ', 'PO5', 'POZ', 'PO3', 'PO4',\n",
    "            'PO6', 'PO7', 'PO8', 'O1', 'OZ', 'O2']\n",
    "\n",
    "dir = '../datasets/%s.pickle' % expName\n",
    "with open(dir, \"rb\") as fp:\n",
    "    wholeset = pickle.load(fp)"
   ]
  },
  {
   "cell_type": "code",
   "execution_count": 32,
   "metadata": {},
   "outputs": [],
   "source": [
    "for sub in wholeset:\n",
    "    name=sub['name']\n",
    "    chnINX = [sub['channel'].index(i) for i in chnNames]\n",
    "    data = dict()\n",
    "    for paradigm in ['ssvep','wn','high']:\n",
    "        X = sub[paradigm]['X'][:,chnINX,:]\n",
    "        y = sub[paradigm]['y']\n",
    "\n",
    "        X = np.stack([X[y==i] for i in np.unique(y)])\n",
    "        X = np.transpose(X,axes=(0,2,3,1))\n",
    "\n",
    "        data[paradigm] = X\n",
    "\n",
    "    savemat(\"../mat/S_%s.mat\"%name, data)\n",
    "\n",
    "    "
   ]
  },
  {
   "cell_type": "code",
   "execution_count": null,
   "metadata": {},
   "outputs": [],
   "source": []
  }
 ],
 "metadata": {
  "kernelspec": {
   "display_name": "Python 3.8.5 ('base')",
   "language": "python",
   "name": "python3"
  },
  "language_info": {
   "codemirror_mode": {
    "name": "ipython",
    "version": 3
   },
   "file_extension": ".py",
   "mimetype": "text/x-python",
   "name": "python",
   "nbconvert_exporter": "python",
   "pygments_lexer": "ipython3",
   "version": "3.8.5"
  },
  "orig_nbformat": 4,
  "vscode": {
   "interpreter": {
    "hash": "738b996afe2da5960d326b652730d0fe79e83941aa5e7e236ea36fecd662bb25"
   }
  }
 },
 "nbformat": 4,
 "nbformat_minor": 2
}
