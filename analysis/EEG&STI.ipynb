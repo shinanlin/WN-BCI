{
 "cells": [
  {
   "cell_type": "code",
   "execution_count": null,
   "metadata": {},
   "outputs": [],
   "source": []
  }
 ],
 "metadata": {
  "kernelspec": {
   "display_name": "Python 3.8.5 ('base')",
   "language": "python",
   "name": "python3"
  },
  "language_info": {
   "name": "python",
   "version": "3.7.6"
  },
  "orig_nbformat": 4,
  "vscode": {
   "interpreter": {
    "hash": "738b996afe2da5960d326b652730d0fe79e83941aa5e7e236ea36fecd662bb25"
   }
  }
 },
 "nbformat": 4,
 "nbformat_minor": 2
}
