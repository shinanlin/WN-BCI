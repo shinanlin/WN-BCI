{
 "cells": [
  {
   "cell_type": "code",
   "execution_count": 1,
   "metadata": {},
   "outputs": [
    {
     "name": "stderr",
     "output_type": "stream",
     "text": [
      "/Users/shinanlin/opt/anaconda3/lib/python3.8/site-packages/pandas/core/computation/expressions.py:20: UserWarning: Pandas requires version '2.7.3' or newer of 'numexpr' (version '2.7.1' currently installed).\n",
      "  from pandas.core.computation.check import NUMEXPR_INSTALLED\n",
      "/Users/shinanlin/opt/anaconda3/lib/python3.8/site-packages/numba/core/types/__init__.py:108: FutureWarning: In the future `np.long` will be defined as the corresponding NumPy scalar.  (This may have returned Python scalars in past versions.\n",
      "  long_ = _make_signed(np.long)\n"
     ]
    }
   ],
   "source": [
    "# from plotnine.data import *\n",
    "# from plotnine import *\n",
    "from matplotlib import ticker\n",
    "import sys\n",
    "sys.path.append('.')\n",
    "sys.path.append('..')\n",
    "\n",
    "import matplotlib.pyplot as plt\n",
    "import seaborn as sns\n",
    "import pickle\n",
    "import math\n",
    "import numpy as np\n",
    "import os\n",
    "import mne\n",
    "from scipy.io import loadmat\n",
    "import pandas as pd\n",
    "from tqdm import tqdm\n",
    "from matplotlib.pyplot import MultipleLocator\n",
    "from matplotlib.gridspec import GridSpec\n",
    "from matplotlib import cm\n",
    "from matplotlib.colors import ListedColormap, LinearSegmentedColormap"
   ]
  },
  {
   "attachments": {},
   "cell_type": "markdown",
   "metadata": {},
   "source": [
    "### default parapmeters"
   ]
  },
  {
   "cell_type": "code",
   "execution_count": 2,
   "metadata": {},
   "outputs": [],
   "source": [
    "plt.rcParams['font.size'] = '5'\n",
    "plt.rcParams[\"font.family\"] = \"sans-serif\"\n",
    "plt.rcParams['svg.fonttype'] = 'none'\n",
    "\n",
    "cm = 1/2.54\n",
    "# 每次调用font dict\n",
    "fontdict = dict(fontsize=5, family='Arial')\n",
    "inearChn = ['L%s'%i for i in np.arange(1,6)]+['R%s'%i for i in np.arange(1,6)]"
   ]
  },
  {
   "attachments": {},
   "cell_type": "markdown",
   "metadata": {},
   "source": [
    "# Fig1"
   ]
  },
  {
   "cell_type": "code",
   "execution_count": null,
   "metadata": {},
   "outputs": [],
   "source": [
    "Add = '../stimulation/sweep/STI.mat'\n",
    "broad = loadmat(Add)['wn'][0]\n",
    "\n",
    "t = np.linspace(0,1,60)\n",
    "narrow = np.sin(2*np.pi*8*t)\n",
    "\n",
    "t = np.linspace(0,1,240)\n",
    "broad = np.repeat(broad,4)\n",
    "narrow = np.repeat(narrow, 4)"
   ]
  },
  {
   "cell_type": "code",
   "execution_count": null,
   "metadata": {},
   "outputs": [],
   "source": [
    "sns.set_theme(style='ticks',)\n",
    "f, (ax1, ax2) = plt.subplots(2, 1)\n",
    "\n",
    "ax1.plot(t, broad, color='black', linewidth=0.5)\n",
    "ax2.plot(t, narrow,color='black',linewidth=0.5)\n",
    "\n",
    "ax2.set_xlabel('Time(s)')\n",
    "ax2.set_ylabel('Luminosity')\n",
    "ax1.set_ylabel('Luminosity')\n",
    "\n",
    "ax1.tick_params(width=0.4, length=4, which='major')\n",
    "ax2.tick_params(width=0.4, length=4, which='major')\n",
    "\n",
    "sns.despine()\n",
    "plt.setp(ax1.spines.values(), linewidth=0.4)\n",
    "plt.setp(ax2.spines.values(), linewidth=0.4)\n",
    "\n",
    "plt.savefig('../images/sti.svg',dpi=300,format='svg')"
   ]
  },
  {
   "cell_type": "code",
   "execution_count": null,
   "metadata": {},
   "outputs": [],
   "source": [
    "f = np.linspace(0,50,200)\n",
    "\n",
    "broad = np.repeat(1,200)\n",
    "narrow = np.repeat(0,200)\n",
    "narrow[(np.argmin(np.abs(f-8)))]=2"
   ]
  },
  {
   "cell_type": "code",
   "execution_count": null,
   "metadata": {},
   "outputs": [],
   "source": [
    "sns.set_theme(style='ticks',)\n",
    "fig, (ax1, ax2) = plt.subplots(2, 1,figsize=(3,5))\n",
    "\n",
    "ax1.plot(f, broad, color='black', linewidth=0.5)\n",
    "ax2.plot(f, narrow, color='black', linewidth=0.5)\n",
    "\n",
    "ax2.set_xlabel('Frequency(Hz)')\n",
    "ax2.set_ylabel('PSD')\n",
    "ax1.set_ylabel('PSD')\n",
    "\n",
    "ax1.tick_params(width=0.4, length=4, which='major')\n",
    "ax2.tick_params(width=0.4, length=4, which='major')\n",
    "\n",
    "ax1.set_ylim(0,2)\n",
    "sns.despine()\n",
    "plt.setp(ax1.spines.values(), linewidth=0.4)\n",
    "plt.setp(ax2.spines.values(), linewidth=0.4)\n",
    "\n",
    "plt.savefig('../images/sti-spec.svg', dpi=300, format='svg')"
   ]
  },
  {
   "attachments": {},
   "cell_type": "markdown",
   "metadata": {},
   "source": [
    "# Fig 2"
   ]
  },
  {
   "cell_type": "code",
   "execution_count": null,
   "metadata": {},
   "outputs": [],
   "source": [
    "srate = 250\n",
    "expName = 'sweep'\n",
    "\n",
    "dir = '../datasets/%s.pickle' % expName\n",
    "winLENs = np.arange(0.2, 1, step=.2)\n",
    "with open(dir, \"rb\") as fp:\n",
    "    wholeset = pickle.load(fp)\n",
    "\n",
    "\n",
    "STIadd = '../stimulation/%s/STI.mat' % expName\n",
    "STI = loadmat(STIadd)['wn']\n",
    "\n",
    "sub = wholeset[4]\n",
    "\n",
    "chnNames = ['PZ', 'PO5', 'POZ', 'PO4', 'PO6', 'O1', 'OZ','O2']\n",
    "chnINX = [sub['channel'].index(i) for i in chnNames]\n",
    "X = sub['wn']['X'][:,chnINX]\n",
    "y = sub['wn']['y']\n",
    "S = sub['wn']['STI']\n",
    "sub['name']\n"
   ]
  },
  {
   "cell_type": "code",
   "execution_count": null,
   "metadata": {},
   "outputs": [],
   "source": [
    "srate = 250\n",
    "winLEN = 3\n",
    "classNUM = 160\n",
    "tmin, tmax = 0, .8\n",
    "n_band = 3\n",
    "# penalty\n",
    "p = 0.95"
   ]
  },
  {
   "cell_type": "code",
   "execution_count": null,
   "metadata": {},
   "outputs": [],
   "source": [
    "# reshape to class*block*chn*N\n",
    "X_ = np.stack(X[y == i] for i in np.unique(y))\n",
    "y_ = np.stack(y[y == i] for i in np.unique(y))\n",
    "\n",
    "# split conditions\n",
    "from sklearn.model_selection import train_test_split\n",
    "X_train, X_test, y_train, y_test = train_test_split(X_, y_,test_size=0.2,train_size=0.8,random_state=253)\n",
    "\n",
    "X_train,X_test = np.concatenate(X_train, axis=0), np.concatenate(X_test, axis=0)\n",
    "y_train,y_test = np.concatenate(y_train, axis=0), np.concatenate(y_test, axis=0)\n",
    "S_train,S_test = np.stack([S[i-1] for i in y_train]),np.stack([S[i-1] for i in y_test])"
   ]
  },
  {
   "cell_type": "code",
   "execution_count": null,
   "metadata": {},
   "outputs": [],
   "source": [
    "from modeling import Code2EEG\n",
    "code2EEG = Code2EEG(srate=srate,winLEN=winLEN,tmin=tmin,tmax=tmax,S=(S,np.unique(y)),estimator=p,padding=True,n_band=n_band,component=1)\n",
    "code2EEG.fit(X_train,y_train)\n",
    "\n",
    "R_ = code2EEG.predict(S_test)\n",
    "R = code2EEG.enhancer.transform(X_test)"
   ]
  },
  {
   "cell_type": "code",
   "execution_count": null,
   "metadata": {},
   "outputs": [],
   "source": [
    "inx = 1\n",
    "R_ave = np.stack([R[y_test == i] for i in np.unique(y_test)]).mean(axis=1)\n",
    "R_ave_ = np.stack([R_[y_test == i] for i in np.unique(y_test)]).mean(axis=1)\n",
    "rhos = np.zeros((n_band, R_ave.shape[0], R_ave_.shape[0]))\n",
    "for i, r in enumerate(R_ave):\n",
    "    for j, r_ in enumerate(R_ave_):\n",
    "        for fbINX, (fb_r, fb_r_) in enumerate(zip(r, r_)):\n",
    "            rho = np.corrcoef(fb_r, fb_r_)[0, 1]\n",
    "            rhos[fbINX, i, j] = rho"
   ]
  },
  {
   "cell_type": "code",
   "execution_count": null,
   "metadata": {},
   "outputs": [],
   "source": [
    "fig = plt.figure(figsize=(8.8*cm, 10*cm))\n",
    "\n",
    "plt.subplots_adjust(wspace=1,hspace=1)\n",
    "ax1 = plt.subplot2grid((7, 6), (1, 0), colspan=2, rowspan=2)\n",
    "ax2 = plt.subplot2grid((7, 6), (0, 2), colspan=5, rowspan=2)\n",
    "ax3 = plt.subplot2grid((7, 6), (3, 2), colspan=5, rowspan=2)\n",
    "\n",
    "ax0 = plt.subplot2grid((7, 6), (2, 2), colspan=5,rowspan=1,)\n",
    "\n",
    "\n",
    "ax4 = plt.subplot2grid((7, 6), (5, 0), colspan=2, rowspan=2)\n",
    "ax5 = plt.subplot2grid((7, 6), (5, 2), colspan=2, rowspan=2)\n",
    "ax6 = plt.subplot2grid((7, 6), (5, 4), colspan=2, rowspan=2)\n",
    "\n",
    "for ax in fig.axes:\n",
    "    ax.tick_params(labelsize=5, width=0.5, length=2, which='major')\n",
    "    plt.setp(ax.spines.values(), linewidth=0.75)\n",
    "\n",
    "# TRF\n",
    "tau = np.arange(tmin, tmax, step=1/srate)\n",
    "ax1.plot(tau[:100], code2EEG.trf[0, :100], color='black',linewidth=1)\n",
    "ax1.set_ylim(-0.1,0.2)\n",
    "\n",
    "# stimulus\n",
    "s = np.repeat(STI[np.unique(y_) == y_test[inx]], 4)\n",
    "t = np.linspace(0, 1, len(s))\n",
    "ax2.plot(t, s,linewidth=1)\n",
    "\n",
    "\n",
    "for spine in ['top', 'right','bottom']:\n",
    "    ax2.spines[spine].set_visible(False)\n",
    "ax2.set_xticklabels([])\n",
    "ax2.set_xticks([])\n",
    "ax2.yaxis.set_major_locator(ticker.MultipleLocator(0.5))\n",
    "\n",
    "# ax2.spines['bottom'].set_position(('data', 0.5))\n",
    "\n",
    "t = np.linspace(0, 1, len(R[inx][0].T))\n",
    "ax3.plot(t,R[inx][0].T,linewidth=1)\n",
    "ax3.plot(t, R_[inx][0].T, linewidth=1)\n",
    "\n",
    "# ax3.spines['bottom'].set_position(('data', 0))\n",
    "for spine in ['top', 'right', 'bottom']:\n",
    "    ax3.spines[spine].set_visible(False)\n",
    "ax3.set_xticklabels([])\n",
    "ax3.set_xticks([])\n",
    "\n",
    "for spine in ['top', 'right', 'left']:\n",
    "    ax0.spines[spine].set_visible(False)\n",
    "ax0.spines['bottom'].set_position(('data', 1))\n",
    "ax0.set_yticklabels([])\n",
    "ax0.set_yticks([])\n",
    "\n",
    "ax0.set_xlabel('Time(s)',fontdict=fontdict)\n",
    "ax0.tick_params(direction='inout')\n",
    "\n",
    "ax4.pcolormesh(rhos[0], cmap='vlag')\n",
    "ax5.pcolormesh(rhos[1], cmap='vlag')\n",
    "ax6.pcolormesh(rhos[2], cmap='vlag')\n",
    "\n",
    "\n",
    "sns.despine(ax=ax1,offset=5,)\n",
    "plt.savefig('../images/modeling.svg',dpi=400)"
   ]
  },
  {
   "attachments": {},
   "cell_type": "markdown",
   "metadata": {},
   "source": [
    "# Fig3"
   ]
  },
  {
   "attachments": {},
   "cell_type": "markdown",
   "metadata": {},
   "source": [
    "### Fig 3(a) : distribution"
   ]
  },
  {
   "cell_type": "code",
   "execution_count": null,
   "metadata": {},
   "outputs": [],
   "source": [
    "sweep = []\n",
    "add = '../results/sweep'\n",
    "subs = os.listdir(add)\n",
    "\n",
    "for sub in subs:\n",
    "    subFolder = add+os.sep+sub\n",
    "    if os.path.exists(subFolder+os.sep+'classification.csv'):\n",
    "        f = pd.read_csv(subFolder+os.sep+'classification.csv')\n",
    "        sweep.append(f)\n",
    "\n",
    "sweep = pd.concat(sweep, ignore_index=True).drop_duplicates()\n",
    "sweepAve = sweep.groupby(['subject','seed','winLEN'],as_index=False).mean()\n",
    "sweepWhole = sweep[sweep.seed==1].groupby(['winLEN','subject'],as_index=False).mean()\n",
    "sweep.head()"
   ]
  },
  {
   "cell_type": "code",
   "execution_count": null,
   "metadata": {},
   "outputs": [],
   "source": [
    "groupOpt = []\n",
    "add = '../results/sweep'\n",
    "subs = os.listdir(add)\n",
    "\n",
    "for sub in subs:\n",
    "    subFolder = add+os.sep+sub\n",
    "    if os.path.exists(subFolder+os.sep+'groupOpt.csv'):\n",
    "        f = pd.read_csv(subFolder+os.sep+'groupOpt.csv')\n",
    "        groupOpt.append(f)\n",
    "\n",
    "groupOpt = pd.concat(groupOpt, ignore_index=True).drop_duplicates()\n",
    "groupOpt = groupOpt.groupby(['seed','method','subject'],as_index=False).mean()\n",
    "groupOpt.head()"
   ]
  },
  {
   "cell_type": "code",
   "execution_count": null,
   "metadata": {},
   "outputs": [],
   "source": [
    "f,(ax1) = plt.subplots(1,1,figsize=(6*cm,5.5*cm))\n",
    "\n",
    "for ax in f.axes:\n",
    "    ax.tick_params(labelsize=5, width=0.5, length=2, which='major')\n",
    "    plt.setp(ax.spines.values(), linewidth=0.75)\n",
    "    \n",
    "sns.set_theme(style='ticks')\n",
    "\n",
    "sns.boxplot(data=sweepWhole, x='winLEN', y='score',\n",
    "            ax=ax1, flierprops={\"marker\": \"x\"}, whis=4,palette='vlag',linewidth=0.5,fliersize=0.5)\n",
    "\n",
    "sns.swarmplot(data=sweepWhole, x='winLEN', y='score',\n",
    "            hue='subject', ax=ax1,palette='vlag',size=3)\n",
    "\n",
    "ax1.legend([])\n",
    "\n",
    "ax1.set_xlabel('Time(s)',fontdict=fontdict)\n",
    "ax1.set_ylabel('Accuracy',fontdict=fontdict)\n",
    "\n",
    "f.savefig('../images/fig3a1.svg',dpi=300)"
   ]
  },
  {
   "cell_type": "code",
   "execution_count": null,
   "metadata": {},
   "outputs": [],
   "source": [
    "df = sweepAve[sweepAve.winLEN==0.3][['subject','accuracy']]\n",
    "df['subINX'] = 0\n",
    "\n",
    "for i, subName in enumerate(df.subject.unique()):\n",
    "    df.loc[df.subject == subName, 'subINX'] = 'S%s' % (i+1)\n",
    "\n",
    "sns.set_theme(style=\"white\", rc={\"axes.facecolor\": (0, 0, 0, 0)})\n",
    "# Initialize the FacetGrid object\n",
    "pal = sns.cubehelix_palette(10, rot=-.25, light=.7)\n",
    "g = sns.FacetGrid(df, row=\"subINX\", hue=\"subINX\", aspect=10, height=.6*cm, palette='crest')\n",
    "\n",
    "# Draw the densities in a few steps\n",
    "g.map(sns.kdeplot, \"accuracy\",\n",
    "      bw_adjust=3, clip_on=False,\n",
    "      fill=True, alpha=1, linewidth=0.1,cut=1)\n",
    "g.map(sns.kdeplot, \"accuracy\", clip_on=False, color=\"w\", lw=0.5, bw_adjust=3)\n",
    "\n",
    "# passing color=None to refline() uses the hue mapping\n",
    "g.refline(y=0, linewidth=0.1, linestyle=\"-\", color=None, clip_on=False)\n",
    "\n",
    "# Define and use a simple function to label the plot in axes coordinates\n",
    "def label(x, color, label):\n",
    "    ax = plt.gca()\n",
    "    ax.set_xlim(0.76,1.01)\n",
    "    ax.text(0, .2, label, color=color,\n",
    "            ha=\"left\", va=\"center\", transform=ax.transAxes,fontdict=fontdict)\n",
    "g.map(label, \"accuracy\")\n",
    "# Set the subplots to overlap\n",
    "g.figure.subplots_adjust(hspace=-.7)\n",
    "\n",
    "for ax in g.axes.flatten():\n",
    "    ax.tick_params(labelsize=5, width=0.5, length=2, which='major')\n",
    "    plt.setp(ax.spines.values(), linewidth=0.75)\n",
    "\n",
    "# Remove axes details that don't play well with overlap\n",
    "g.set_titles(\"\")\n",
    "g.set(yticks=[], ylabel=\"\")\n",
    "g.set_xlabels('Accuracy',fontdict=fontdict)\n",
    "g.despine(bottom=False, left=True)\n",
    "g.savefig('../images/fig3a2.svg', dpi=300)"
   ]
  },
  {
   "attachments": {},
   "cell_type": "markdown",
   "metadata": {},
   "source": [
    "### Fig 3(b) : optimization efficiency"
   ]
  },
  {
   "cell_type": "code",
   "execution_count": null,
   "metadata": {},
   "outputs": [],
   "source": [
    "ave = groupOpt[(groupOpt.winLEN==0.3)&(groupOpt.subject!='chenziyu')].groupby(['method'],as_index=False).mean()\n",
    "\n",
    "sns.set_theme(style='ticks')\n",
    "\n",
    "f,ax=plt.subplots(figsize=(8.5*cm,5.6*cm))\n",
    "\n",
    "axins = ax.inset_axes((0.2, 0.5, 0.4, 0.4))\n",
    "\n",
    "hist = sns.histplot(data=groupOpt,\n",
    "             x='accuracy',hue='method',element='step',bins=50,legend=False)\n",
    "\n",
    "for (method, color) in zip(['random', 'simulate', 'real'], ['#2A2B2DFF', '#00239CFF', '#E10600FF']):\n",
    "    value = ave[ave.method == method].accuracy.mean()\n",
    "    hist.axvline(x=value, linestyle='dashed', color=color, linewidth=1,)\n",
    "\n",
    "sns.lineplot(data=groupOpt, x='method', y='accuracy',\n",
    "             ax=axins, err_style=\"bars\", errorbar='ci',markers=True,hue='method',legend=False,)\n",
    "\n",
    "sns.lineplot(data=groupOpt, x='method', y='accuracy',\n",
    "             ax=axins, err_style=\"bars\", errorbar='ci',linewidth=0.5,color='black')\n",
    "\n",
    "ax.set_xlim(0.82, 1)\n",
    "ax.set_xlabel('Accuracy',fontdict=fontdict)\n",
    "ax.set_ylabel('Count',fontdict=fontdict)\n",
    "\n",
    "axins.set_xlabel('Method',fontdict=fontdict)\n",
    "axins.set_ylabel('Accuracy',fontdict=fontdict)\n",
    "axins.set_ylim(0.945,0.97)\n",
    "\n",
    "\n",
    "for ax in [ax,axins]:\n",
    "    ax.tick_params(labelsize=5, width=0.5, length=2, which='major')\n",
    "    plt.setp(ax.spines.values(), linewidth=0.75)\n",
    "\n",
    "f.savefig('../images/fig3b.svg', dpi=300)"
   ]
  },
  {
   "cell_type": "code",
   "execution_count": null,
   "metadata": {},
   "outputs": [],
   "source": [
    "from scipy import stats\n",
    "\n",
    "c = [['real','random'],['real','simulate'],['simulate','random']]\n",
    "pairwise=[]\n",
    "for i,(m1,m2) in enumerate(c):\n",
    "\n",
    "        print(m1,m2)\n",
    "\n",
    "        test = stats.ttest_rel(groupOpt.loc[groupOpt.method == m1].accuracy.to_numpy(),\n",
    "                               groupOpt.loc[groupOpt.method == m2].accuracy.to_numpy())\n",
    "        pairwise.append({\n",
    "            'methods':'%s-%s'%(m1,m2),\n",
    "            'pval':test.pvalue,\n",
    "        })\n",
    "pairwise"
   ]
  },
  {
   "attachments": {},
   "cell_type": "markdown",
   "metadata": {},
   "source": [
    "### Fig 3(c) : codeset comparsion"
   ]
  },
  {
   "cell_type": "code",
   "execution_count": null,
   "metadata": {},
   "outputs": [],
   "source": [
    "distance = []\n",
    "add = '../results/sweep'\n",
    "subs = os.listdir(add)\n",
    "\n",
    "for sub in subs:\n",
    "    subFolder = add+os.sep+sub\n",
    "    if os.path.exists(subFolder+os.sep+'distance.csv'):\n",
    "        f = pd.read_csv(subFolder+os.sep+'distance.csv')\n",
    "        distance.append(f)\n",
    "    \n",
    "distance = pd.concat(distance, ignore_index=True)\n",
    "\n",
    "d1 = distance[distance.codeset=='C1'].pivot_table(index='i',columns='j',values='distance')\n",
    "d2 = distance[distance.codeset == 'C2'].pivot_table(\n",
    "    index='i', columns='j', values='distance')\n",
    "\n",
    "distance.head()"
   ]
  },
  {
   "cell_type": "code",
   "execution_count": null,
   "metadata": {},
   "outputs": [],
   "source": [
    "sns.set_theme(style='ticks')\n",
    "fig = plt.figure(figsize=(6.5*cm, 5.6*cm))\n",
    "\n",
    "plt.subplots_adjust(wspace=0.4,hspace=0.5)\n",
    "\n",
    "ax1 = plt.subplot2grid((2, 2), (0, 0), colspan=2, rowspan=1)\n",
    "ax2 = plt.subplot2grid((2, 2), (1, 0), colspan=1, rowspan=1)\n",
    "ax3 = plt.subplot2grid((2, 2), (1, 1), colspan=1, rowspan=1)\n",
    "\n",
    "hist = sns.histplot(data=distance, x='distance', hue='codeset', ax=ax1, legend=False, palette=[\n",
    "                    '#21468B', '#AE1C28'], bins=80, kde=False, line_kws={'linewidth': 0.5})\n",
    "\n",
    "ax1.set_ylabel('Count',fontdict=fontdict)\n",
    "ax1.set_xlabel('Codeset Distance',fontdict=fontdict)\n",
    "\n",
    "a = ax2.imshow(d1, cmap='vlag', vmin=50, vmax=500, interpolation='none')\n",
    "ax3.imshow(d2, cmap='vlag', vmin=50, vmax=500,)\n",
    "\n",
    "cax = plt.axes([0.3, 0.1, 0.02, 0.31])\n",
    "\n",
    "ax2.xaxis.set_major_locator(ticker.IndexLocator(base=79, offset=0.5))\n",
    "ax2.yaxis.set_major_locator(ticker.IndexLocator(base=79, offset=0.5))\n",
    "ax3.xaxis.set_major_locator(ticker.IndexLocator(base=79, offset=0.5))\n",
    "ax3.yaxis.set_major_locator(ticker.IndexLocator(base=79, offset=0.5))\n",
    "\n",
    "ax2.set_xlabel('class',fontdict=fontdict)\n",
    "ax3.set_xlabel('class',fontdict=fontdict)\n",
    "ax2.set_ylabel('class', fontdict=fontdict)\n",
    "\n",
    "\n",
    "for ax in fig.axes:\n",
    "    ax.tick_params(labelsize=5, width=0.5, length=2, which='major')\n",
    "    plt.setp(ax.spines.values(), linewidth=0.75)\n",
    "\n",
    "plt.colorbar(a, cax=cax,)\n",
    "plt.savefig('../images/fig3c.svg',dpi=300)"
   ]
  },
  {
   "cell_type": "code",
   "execution_count": null,
   "metadata": {},
   "outputs": [],
   "source": [
    "f,ax = plt.subplots()\n",
    "ax.imshow(d2.to_numpy()[:25][:, :25], cmap='vlag', interpolation='none')\n",
    "ax.set_axis_off()\n",
    "plt.savefig('../images/fig3c1.svg',dpi=300)"
   ]
  },
  {
   "attachments": {},
   "cell_type": "markdown",
   "metadata": {},
   "source": [
    "### Fig 3(d) : topography of 160 and 40 class"
   ]
  },
  {
   "cell_type": "code",
   "execution_count": null,
   "metadata": {},
   "outputs": [],
   "source": [
    "expName = 'sweep'\n",
    "\n",
    "dir = '../datasets/%s.pickle' % expName\n",
    "with open(dir, \"rb\") as fp:\n",
    "    wholeset = pickle.load(fp)\n",
    "\n",
    "sub = 2\n",
    "chNames = wholeset[sub]['channel']\n",
    "X = wholeset[sub]['wn']['X']\n",
    "y = wholeset[sub]['wn']['y']\n",
    "\n",
    "chnINX = [chNames.index(i) for i in chNames if i not in [\n",
    "    'M1', 'M2', 'CB1', 'CB2']]\n",
    "\n",
    "X = X[:, chnINX]\n",
    "for i in ['M1', 'M2', 'CB1', 'CB2']:\n",
    "    chNames.remove(i)\n",
    "\n",
    "wholeset[sub]['name']"
   ]
  },
  {
   "cell_type": "code",
   "execution_count": null,
   "metadata": {},
   "outputs": [],
   "source": [
    "info = mne.create_info(ch_names=chNames, sfreq=250, ch_types='eeg')\n",
    "fname = 'montage.loc'\n",
    "montage = mne.channels.read_custom_montage(fname)\n",
    "info.set_montage(montage)"
   ]
  },
  {
   "cell_type": "code",
   "execution_count": null,
   "metadata": {},
   "outputs": [],
   "source": [
    "from mne.viz import plot_topomap\n",
    "from spatialFilters import TDCA\n",
    "import random\n",
    "\n",
    "bigModel = TDCA(srate=250, montage=160, lag=0.14, winLEN=0.3)\n",
    "bigModel.fit(X, y)\n",
    "bigPattern = np.squeeze(bigModel.pattern)\n",
    "\n",
    "random.seed(2)\n",
    "targetNUM = 40\n",
    "picked = random.sample(list(np.unique(y)), targetNUM)\n",
    "X_picked = np.concatenate([X[y == i] for i in picked])\n",
    "y_picked = np.concatenate([y[y == i] for i in picked])\n",
    "\n",
    "lilModel = TDCA(srate=250, montage=160, lag=0.14, winLEN=0.3)\n",
    "lilModel.fit(X_picked, y_picked)\n",
    "lilPattern = np.squeeze(lilModel.pattern)"
   ]
  },
  {
   "cell_type": "code",
   "execution_count": null,
   "metadata": {},
   "outputs": [],
   "source": [
    "from sklearn.model_selection import LeaveOneOut\n",
    "\n",
    "X = np.stack([X[y == i] for i in np.unique(y)])\n",
    "y = np.stack([y[y == i] for i in np.unique(y)])\n",
    "\n",
    "# classification\n",
    "X = np.transpose(X, axes=(1, 0, -2, -1))\n",
    "y = np.transpose(y, axes=(-1, 0))\n",
    "\n",
    "loo = LeaveOneOut()\n",
    "loo.get_n_splits(X)\n",
    "\n",
    "matrices = []\n",
    "for cv, (train_index, test_index) in enumerate(loo.split(X, y)):\n",
    "\n",
    "    X_train, X_test = np.concatenate(\n",
    "        X[train_index]), np.concatenate(X[test_index])\n",
    "    y_train, y_test = np.concatenate(\n",
    "        y[train_index]), np.concatenate(y[test_index])\n",
    "\n",
    "    model = TDCA(winLEN=0.3,lag=0.14,srate=250,montage=160,n_band=1)\n",
    "    model.fit(X_train,y_train)\n",
    "    score = model.score(X_test,y_test)\n",
    "    coefMatrix = model.rho\n",
    "\n",
    "    matrices.append(coefMatrix)\n",
    "\n",
    "matrices = np.stack(matrices)"
   ]
  },
  {
   "cell_type": "code",
   "execution_count": null,
   "metadata": {},
   "outputs": [],
   "source": [
    "m = sns.color_palette(\"vlag\", as_cmap=True)\n",
    "fig,(ax1,ax2) = plt.subplots(2,1,figsize=(3.3*cm,5.6*cm))\n",
    "\n",
    "plot_topomap(data=bigPattern, pos=info, cmap=m, contours=0,\n",
    "                   image_interp='bicubic', axes=ax1, show=False)\n",
    "plot_topomap(data=lilPattern, pos=info, cmap=m, contours=0,\n",
    "                   image_interp='bicubic', axes=ax2, show=False)\n",
    "\n",
    "ax1.set_title('160 classes',fontdict=fontdict)\n",
    "ax2.set_title('40 classes',fontdict=fontdict)\n",
    "\n",
    "fig.savefig('../images/fig3e.svg',dpi=300)\n"
   ]
  },
  {
   "cell_type": "code",
   "execution_count": null,
   "metadata": {},
   "outputs": [],
   "source": [
    "fig, axes = plt.subplots(1, 6,figsize=(10,1.5))\n",
    "for i in range(6):\n",
    "    axes[i].imshow(matrices[i],cmap='vlag',vmin=-0.5,vmax=0.8)\n",
    "    axes[i].set_xticks([])\n",
    "    axes[i].set_yticks([])\n",
    "\n",
    "fig.savefig('../images/fig3f.svg', dpi=300)"
   ]
  },
  {
   "attachments": {},
   "cell_type": "markdown",
   "metadata": {},
   "source": [
    "### Fig3(e) group response"
   ]
  },
  {
   "cell_type": "code",
   "execution_count": null,
   "metadata": {},
   "outputs": [],
   "source": [
    "fAdd = '../seqOpt/mat/preliminary.mat'\n",
    "data = loadmat(fAdd)['S11']\n",
    "real = data[0]['pattern'][0][0].T\n",
    "simulate = data[0]['simulate'][0][0].T\n",
    "\n",
    "sti = np.repeat(np.random.random((10, 60)),4,axis=-1)"
   ]
  },
  {
   "cell_type": "code",
   "execution_count": null,
   "metadata": {},
   "outputs": [],
   "source": [
    "f,axes = plt.subplots(6,3)\n",
    "plt.subplots_adjust(hspace=-0.3)\n",
    "\n",
    "\n",
    "for i,ax in enumerate(axes):\n",
    "\n",
    "    ax[0].plot(real[i+10,], linewidth=1,color='#21468B')\n",
    "    ax[1].plot(simulate[i+10], linewidth=1, color='#AE1C28')\n",
    "    ax[2].plot(sti[i],linewidth=1,color='black')\n",
    "\n",
    "    ax[0].axis('off')\n",
    "    ax[1].axis('off')\n",
    "    ax[2].axis('off')\n",
    "\n",
    "    ax[0].set_ylim(-5,5)\n",
    "    ax[1].set_ylim(-5, 5)\n",
    "    ax[2].set_ylim(-1.5, 1.5)\n",
    "    \n",
    "\n",
    "f.savefig('../images/fig3e.svg',dpi=300)"
   ]
  },
  {
   "attachments": {},
   "cell_type": "markdown",
   "metadata": {},
   "source": [
    "# Fig 4"
   ]
  },
  {
   "attachments": {},
   "cell_type": "markdown",
   "metadata": {},
   "source": [
    "### Fig 4(a) Accuracy with time"
   ]
  },
  {
   "cell_type": "code",
   "execution_count": null,
   "metadata": {},
   "outputs": [],
   "source": [
    "compare = []\n",
    "add = '../results/compare'\n",
    "subs = os.listdir(add)\n",
    "\n",
    "for sub in subs:\n",
    "    subFolder = add+os.sep+sub\n",
    "    if os.path.exists(subFolder+os.sep+'classification.csv'):\n",
    "        f = pd.read_csv(subFolder+os.sep+'classification.csv')\n",
    "        compare.append(f)\n",
    "    \n",
    "compare = pd.concat(compare, ignore_index=True)\n",
    "compare = compare.groupby(['subject','winLEN','method'],as_index=False).mean()\n",
    "compare.head()"
   ]
  },
  {
   "cell_type": "code",
   "execution_count": null,
   "metadata": {},
   "outputs": [],
   "source": [
    "compare.subject.unique()"
   ]
  },
  {
   "cell_type": "code",
   "execution_count": null,
   "metadata": {},
   "outputs": [],
   "source": [
    "sns.stripplot(data=f, x='winLEN', y='accuracy', hue='method',)\n",
    "sns.boxplot(data=f, x='winLEN', y='accuracy', hue='method',medianprops={\"color\": \"white\"})"
   ]
  },
  {
   "cell_type": "code",
   "execution_count": null,
   "metadata": {},
   "outputs": [],
   "source": [
    "sns.set_theme(style='ticks')\n",
    "fig,(ax1,ax2) = plt.subplots(1,2,figsize=(9.5*cm,3.5*cm))\n",
    "\n",
    "plt.subplots_adjust(wspace=0.3)\n",
    "\n",
    "list = ['yangyuxing', 'xuwenjia', 'jingyi',\n",
    "        'fanzixiao', 'wangchaoying','lijiayang','libowen','zhouyuqing']\n",
    "\n",
    "\n",
    "f = compare[compare.subject.isin(list)]\n",
    "fAve = f.groupby(['winLEN','method'],as_index=False).mean()\n",
    "\n",
    "\n",
    "# sns.lineplot(data=f, x='winLEN', y='accuracy', hue='method', ax=ax1, linewidth=0.75,\n",
    "#              err_style='band', dashes=True, legend=False, markers=True,)\n",
    "\n",
    "# sns.scatterplot(data=fAve, x='winLEN', y='accuracy',\n",
    "#                 hue='method', ax=ax1, style='method', s=20, markers=['o', 'P'])\n",
    "\n",
    "sns.stripplot(data=f, x='winLEN', y='accuracy', hue='method',ax=ax1,linewidth=0,size=2,dodge=True)\n",
    "sns.boxplot(data=f, x='winLEN', y='accuracy', hue='method', ax=ax1, width=0.5, flierprops={\n",
    "            \"marker\": \"x\"}, whis=2, linewidth=0.5, fliersize=2,)\n",
    "\n",
    "sns.lineplot(data=f, x='winLEN', y='ITR', hue='method', ax=ax2, linewidth=1,\n",
    "             err_style='band', dashes=True, legend=False,)\n",
    "\n",
    "sns.scatterplot(data=fAve, x='winLEN', y='ITR',\n",
    "                hue='method', ax=ax2, style='method',s=20,markers=['o', 'P'])\n",
    "\n",
    "\n",
    "ax1.set_ylabel('Accuracy',fontdict=fontdict)\n",
    "ax2.set_ylabel('ITR(bpm)', fontdict=fontdict)\n",
    "\n",
    "for ax in fig.axes:\n",
    "\n",
    "    ax.tick_params(labelsize=5, width=0.5, length=2, which='major')\n",
    "    plt.setp(ax.spines.values(), linewidth=0.75)\n",
    "    ax.set_xlabel('Time(s)',fontdict=fontdict)\n",
    "    ax.legend(fontsize=5, markerscale=0.4)\n",
    "    \n",
    "\n",
    "plt.show()\n",
    "fig.savefig('../images/fig4a.png', dpi=400, bbox_inches='tight')\n"
   ]
  },
  {
   "cell_type": "code",
   "execution_count": null,
   "metadata": {},
   "outputs": [],
   "source": [
    "list = ['yangyuxing', 'xuwenjia', 'jingyi',\n",
    "        'fanzixiao', 'wangchaoying', 'lijiayang', 'libowen', 'zhouyuqing']\n",
    "\n",
    "highITR = []\n",
    "\n",
    "for subject in list:\n",
    "    for method in compare.method.unique():\n",
    "            f = compare[(compare.subject == subject) & (compare.method == method)]\n",
    "            highITR.append(f.iloc[f['ITR'].argmax(), :].T)\n",
    "\n",
    "highITR = pd.concat(highITR, ignore_index=False, axis=1).T\n",
    "highITR.groupby('method').mean()"
   ]
  },
  {
   "cell_type": "code",
   "execution_count": null,
   "metadata": {},
   "outputs": [],
   "source": [
    "import pandas.api.types as pdtypes\n",
    "\n",
    "\n",
    "highITR['method'] = highITR['method'].astype(\n",
    "    pdtypes.CategoricalDtype(categories=['SSVEP', 'WN']))\n",
    "\n",
    "\n",
    "highITR['ITR'] = highITR['ITR'].astype('float64')\n",
    "    \n",
    "x = stage('when', after_scale='x+shift*alt_sign(x)')\n",
    "shift = 0.1\n",
    "\n",
    "def alt_sign(x):\n",
    "    \"Alternate +1/-1 if x is even/odd\"\n",
    "    return (-1) ** x\n",
    "\n",
    "# shift outward\n",
    "m1 = aes(x=stage('method', after_scale='x+shift*alt_sign(x)'),group='method')\n",
    "m2 = aes(x=stage('method', after_scale='x-shift*alt_sign(x)'), group='subject')  # shift inward\n",
    "\n",
    "lsize = 0.65\n",
    "fill_alpha=0.7\n",
    "\n",
    "fig =  (ggplot(highITR, aes('method', 'ITR', fill='method'),)\n",
    "    + theme_classic()\n",
    "    + theme(figure_size=(3*cm, 4*cm))\n",
    "\n",
    "    + geom_violin(m1, style='left-right', alpha=fill_alpha,\n",
    "                  size=lsize, show_legend=False)\n",
    "    + geom_point(m2, alpha=0.7, size=2, show_legend=False)\n",
    "    + geom_line(m2,color='gray')\n",
    "    + geom_boxplot(m1,width=shift, show_legend=False)\n",
    "    + scale_fill_manual(values=['dodgerblue', 'darkorange'])\n",
    "    \n",
    ")\n",
    "fig.save(filename='../images/fig4b.svg', dpi=300)\n",
    "fig"
   ]
  },
  {
   "attachments": {},
   "cell_type": "markdown",
   "metadata": {},
   "source": [
    "### Fig4(b) Topograghy comparision"
   ]
  },
  {
   "cell_type": "code",
   "execution_count": null,
   "metadata": {},
   "outputs": [],
   "source": [
    "pattern = []\n",
    "add = '../results/compare'\n",
    "subs = os.listdir(add)\n",
    "\n",
    "for sub in subs:\n",
    "    subFolder = add+os.sep+sub\n",
    "    if os.path.exists(subFolder+os.sep+'pattern.csv'):\n",
    "        f = pd.read_csv(subFolder+os.sep+'pattern.csv')\n",
    "        pattern.append(f)\n",
    "\n",
    "pattern = pd.concat(pattern, ignore_index=True)\n",
    "chNames = pattern.loc[(pattern.subject == 'yangyuxing')\n",
    "                      & (pattern.winLEN == 0.1) & (pattern.method == 'WN'), 'channel'].to_numpy().tolist()\n",
    "pattern.head()"
   ]
  },
  {
   "cell_type": "code",
   "execution_count": null,
   "metadata": {},
   "outputs": [],
   "source": [
    "from mne.viz import plot_topomap\n",
    "\n",
    "winLENs = [0.1,0.5]\n",
    "\n",
    "list = ['yangyuxing', 'xuwenjia', 'jingyi',\n",
    "        'fanzixiao', 'wangchaoying','lijiayang','libowen','zhouyuqing']\n",
    "\n",
    "list=['yangyuxing']\n",
    "wnPattern = pattern[(pattern.subject.isin(list))\n",
    "                        & (pattern.method == 'WN')].groupby(['channel','winLEN'], as_index=False).mean()\n",
    "\n",
    "ssvepPattern = pattern[(pattern.subject.isin(list))\n",
    "                        & (pattern.method == 'SSVEP')].groupby(['channel','winLEN'], as_index=False).mean()\n",
    "\n",
    "vmin = np.min([wnPattern['w'].min(), ssvepPattern['w'].min()])\n",
    "vmax = np.max([wnPattern['w'].max(), ssvepPattern['w'].max()])+0.3\n",
    "\n",
    "info = mne.create_info(ch_names=ssvepPattern[ssvepPattern.winLEN==0.1].channel.to_numpy().tolist(), sfreq=250, ch_types='eeg')\n",
    "fname = 'montage.loc'\n",
    "montage = mne.channels.read_custom_montage(fname)\n",
    "info.set_montage(montage)\n",
    "\n",
    "m = sns.color_palette(\"vlag\", as_cmap=True)\n",
    "fig,axes = plt.subplots(2,2,figsize=(4.5*2*cm,7.8*cm))\n",
    "\n",
    "for i,(winLEN,axs) in enumerate(zip(winLENs,axes.T)):\n",
    "\n",
    "    w1 = wnPattern[wnPattern.winLEN == winLEN].w\n",
    "    w2 = ssvepPattern[ssvepPattern.winLEN == winLEN].w\n",
    "\n",
    "    plot_topomap(data=w1, pos=info, cmap=m, contours=0,\n",
    "                    image_interp='bicubic', axes=axs[0], show=False,vmin=vmin,vmax=vmax,sensors=True,)\n",
    "\n",
    "    plot_topomap(data=w2, pos=info, cmap=m, contours=0,\n",
    "                 image_interp='bicubic', axes=axs[1], show=False, vmin=vmin, vmax=vmax, sensors=False)\n",
    "\n",
    "    axs[0].set_title('%s s'%winLEN)\n",
    "\n",
    "plt.show()\n",
    "fig.savefig('../images/fig4b.svg',dpi=300)"
   ]
  },
  {
   "attachments": {},
   "cell_type": "markdown",
   "metadata": {},
   "source": [
    "### Fig4 (c) Train size"
   ]
  },
  {
   "cell_type": "code",
   "execution_count": null,
   "metadata": {},
   "outputs": [],
   "source": [
    "trainsize = []\n",
    "add = '../results/compare'\n",
    "subs = os.listdir(add)\n",
    "\n",
    "for sub in subs:\n",
    "    subFolder = add+os.sep+sub\n",
    "    if os.path.exists(subFolder+os.sep+'trainSize.csv'):\n",
    "        f = pd.read_csv(subFolder+os.sep+'trainSize.csv')\n",
    "        trainsize.append(f)\n",
    "\n",
    "trainsize = pd.concat(trainsize, ignore_index=True)\n",
    "trainsize = trainsize.groupby(['subject','winLEN','trainsize','method'],as_index=False).mean()\n",
    "trainsize.head()"
   ]
  },
  {
   "cell_type": "code",
   "execution_count": null,
   "metadata": {},
   "outputs": [],
   "source": [
    "highTrain = []\n",
    "\n",
    "for subject in list:\n",
    "        for method in trainsize.method.unique():\n",
    "                for size in trainsize.trainsize.unique():\n",
    "                        f = trainsize[(trainsize.subject==subject)&(trainsize.method==method)&(trainsize.trainsize==size)]\n",
    "                        highTrain.append(f.iloc[f['ITR'].argmax(), :].T)\n",
    "highTrain = pd.concat(highTrain,ignore_index=False,axis=1).T"
   ]
  },
  {
   "cell_type": "code",
   "execution_count": null,
   "metadata": {},
   "outputs": [],
   "source": [
    "diff = highTrain.groupby(['trainsize', 'method'],as_index=False).mean().pivot_table(index='trainsize',columns='method',values='ITR')\n",
    "diff['diff'] = diff['WN']-diff['SSVEP']\n",
    "diff"
   ]
  },
  {
   "cell_type": "code",
   "execution_count": null,
   "metadata": {},
   "outputs": [],
   "source": [
    "sns.set_theme(style='ticks')\n",
    "fig,ax = plt.subplots(figsize=(4.5*cm,3*cm)) \n",
    "sns.barplot(data=highTrain,x='trainsize',y='ITR',hue='method',ax=ax,linewidth=0.5,errwidth=1,capsize=0.1)\n",
    "ax.set_ylim(300,470)\n",
    "\n",
    "for ax in fig.axes:\n",
    "\n",
    "    ax.tick_params(labelsize=5, width=0.5, length=2, which='major')\n",
    "    plt.setp(ax.spines.values(), linewidth=0.75)\n",
    "    ax.set_xlabel('Train Size',fontdict=fontdict)\n",
    "    ax.set_ylabel('ITR(bpm)', fontdict=fontdict)\n",
    "    ax.legend(fontsize=7)\n",
    "\n",
    "sns.despine()\n",
    "fig.savefig('../images/fig4c1.svg',dpi=300)\n"
   ]
  },
  {
   "attachments": {},
   "cell_type": "markdown",
   "metadata": {},
   "source": [
    "### Fig 4(d) Montage"
   ]
  },
  {
   "cell_type": "code",
   "execution_count": null,
   "metadata": {},
   "outputs": [],
   "source": [
    "montage = []\n",
    "add = '../results/compare'\n",
    "subs = os.listdir(add)\n",
    "\n",
    "for sub in subs:\n",
    "    subFolder = add+os.sep+sub\n",
    "    if os.path.exists(subFolder+os.sep+'montage.csv'):\n",
    "        f = pd.read_csv(subFolder+os.sep+'montage.csv')\n",
    "        montage.append(f)\n",
    "\n",
    "montage = pd.concat(montage, ignore_index=True)\n",
    "montage = montage.groupby(\n",
    "    ['subject', 'winLEN', 'method', 'monatage'], as_index=False).mean()\n",
    "montage.head()"
   ]
  },
  {
   "cell_type": "code",
   "execution_count": null,
   "metadata": {},
   "outputs": [],
   "source": [
    "list = ['yangyuxing', 'xuwenjia', 'jingyi',\n",
    "        'fanzixiao', 'wangchaoying', 'lijiayang', 'libowen', 'zhouyuqing']\n",
    "\n",
    "highMontage = []\n",
    "\n",
    "for subject in list:\n",
    "        for method in montage.method.unique():\n",
    "                for m in montage.monatage.unique():\n",
    "                        f = montage[(montage.subject==subject)&(montage.method==method)&(montage.monatage==m)]\n",
    "                        highMontage.append(f.iloc[f['ITR'].argmax(), :].T)\n",
    "\n",
    "highMontage = pd.concat(highMontage,ignore_index=False,axis=1).T"
   ]
  },
  {
   "cell_type": "code",
   "execution_count": null,
   "metadata": {},
   "outputs": [],
   "source": [
    "diff = highMontage.groupby(['monatage', 'method'],as_index=False).mean().pivot_table(index='monatage',columns='method',values='ITR')\n",
    "diff['diff'] = diff['WN']-diff['SSVEP']\n",
    "diff"
   ]
  },
  {
   "cell_type": "code",
   "execution_count": null,
   "metadata": {},
   "outputs": [],
   "source": [
    "sns.set_theme(style='ticks')\n",
    "fig,ax = plt.subplots(figsize=(4.5*cm,3*cm)) \n",
    "\n",
    "sns.barplot(data=highMontage[highMontage.monatage!='Central occipital'],x='monatage',y='ITR',hue='method',ax=ax,linewidth=0.5,errwidth=1,capsize=0.1)\n",
    "ax.set_ylim(350,480)\n",
    "\n",
    "for ax in fig.axes:\n",
    "\n",
    "    ax.tick_params(labelsize=5, width=0.5, length=2, which='major')\n",
    "    plt.setp(ax.spines.values(), linewidth=0.75)\n",
    "    ax.set_xlabel('Montage',fontdict=fontdict)\n",
    "    ax.set_ylabel('ITR(bpm)', fontdict=fontdict)\n",
    "    ax.legend(fontsize=7)\n",
    "\n",
    "sns.despine()\n",
    "fig.savefig('../images/fig4c2.svg',dpi=300)"
   ]
  },
  {
   "attachments": {},
   "cell_type": "markdown",
   "metadata": {},
   "source": [
    "### Fig 4(e) Bands"
   ]
  },
  {
   "cell_type": "code",
   "execution_count": null,
   "metadata": {},
   "outputs": [],
   "source": [
    "bands = []\n",
    "add = '../results/compare'\n",
    "subs = os.listdir(add)\n",
    "\n",
    "for sub in subs:\n",
    "    subFolder = add+os.sep+sub\n",
    "    if os.path.exists(subFolder+os.sep+'bands.csv'):\n",
    "        f = pd.read_csv(subFolder+os.sep+'bands.csv')\n",
    "        bands.append(f)\n",
    "\n",
    "bands = pd.concat(bands, ignore_index=True)\n",
    "bands = bands.groupby(\n",
    "    ['subject', 'winLEN', 'method', 'band'], as_index=False).mean()\n",
    "bands.head()"
   ]
  },
  {
   "cell_type": "code",
   "execution_count": null,
   "metadata": {},
   "outputs": [],
   "source": [
    "list = ['yangyuxing', 'xuwenjia', 'jingyi',\n",
    "        'fanzixiao', 'wangchaoying', 'lijiayang', 'libowen', 'zhouyuqing']\n",
    "\n",
    "# list = bands.subject.unique()\n",
    "highBand = []\n",
    "\n",
    "for subject in list:\n",
    "    for method in bands.method.unique():\n",
    "        for b in bands.band.unique():\n",
    "            f = bands[(bands.subject==subject)&(bands.method==method)&(bands.band==b)]\n",
    "            highBand.append(f.iloc[f['ITR'].argmax(), :].T)\n",
    "\n",
    "highBand = pd.concat(highBand,ignore_index=False,axis=1).T"
   ]
  },
  {
   "cell_type": "code",
   "execution_count": null,
   "metadata": {},
   "outputs": [],
   "source": [
    "diff = highBand.groupby(['band', 'method'], as_index=False).mean(\n",
    ").pivot_table(index='band', columns='method', values='ITR')\n",
    "diff['diff'] = diff['WN']-diff['SSVEP']\n",
    "diff\n"
   ]
  },
  {
   "cell_type": "code",
   "execution_count": null,
   "metadata": {},
   "outputs": [],
   "source": [
    "sns.set_theme(style='ticks')\n",
    "fig, ax = plt.subplots(figsize=(4.5*cm, 3*cm))\n",
    "\n",
    "sns.barplot(data=highBand,\n",
    "            x='band', y='ITR', hue='method', ax=ax, linewidth=0.5, errwidth=1, capsize=0.1)\n",
    "ax.set_ylim(250, 480)\n",
    "\n",
    "for ax in fig.axes:\n",
    "\n",
    "    ax.tick_params(labelsize=5, width=0.5, length=2, which='major')\n",
    "    plt.setp(ax.spines.values(), linewidth=0.75)\n",
    "    ax.set_xlabel('Bands Number', fontdict=fontdict)\n",
    "    ax.set_ylabel('ITR(bpm)', fontdict=fontdict)\n",
    "    ax.legend(fontsize=7)\n",
    "\n",
    "sns.despine()\n",
    "fig.savefig('../images/fig4c3.svg', dpi=300)"
   ]
  },
  {
   "attachments": {},
   "cell_type": "markdown",
   "metadata": {},
   "source": [
    "### Fig4(f) Evokeds"
   ]
  },
  {
   "cell_type": "code",
   "execution_count": null,
   "metadata": {},
   "outputs": [],
   "source": [
    "evokeds = []\n",
    "add = '../results/compare'\n",
    "subs = os.listdir(add)\n",
    "\n",
    "for sub in subs:\n",
    "    subFolder = add+os.sep+sub\n",
    "    if os.path.exists(subFolder+os.sep+'evoked.csv'):\n",
    "        f = pd.read_csv(subFolder+os.sep+'evoked.csv')\n",
    "        evokeds.append(f)\n",
    "\n",
    "evokeds = pd.concat(evokeds, ignore_index=True)\n",
    "evokeds.head()"
   ]
  },
  {
   "cell_type": "code",
   "execution_count": null,
   "metadata": {},
   "outputs": [],
   "source": [
    "coefs = []\n",
    "add = '../results/compare'\n",
    "subs = os.listdir(add)\n",
    "\n",
    "for sub in subs:\n",
    "    subFolder = add+os.sep+sub\n",
    "    if os.path.exists(subFolder+os.sep+'coef.csv'):\n",
    "        f = pd.read_csv(subFolder+os.sep+'coef.csv')\n",
    "        coefs.append(f)\n",
    "\n",
    "coefs = pd.concat(coefs, ignore_index=True)\n",
    "coefs.head()"
   ]
  },
  {
   "cell_type": "code",
   "execution_count": null,
   "metadata": {},
   "outputs": [],
   "source": [
    "psds = []\n",
    "add = '../results/compare'\n",
    "subs = os.listdir(add)\n",
    "\n",
    "for sub in subs:\n",
    "    subFolder = add+os.sep+sub\n",
    "    if os.path.exists(subFolder+os.sep+'psd.csv'):\n",
    "        f = pd.read_csv(subFolder+os.sep+'psd.csv')\n",
    "        psds.append(f)\n",
    "\n",
    "psds = pd.concat(psds, ignore_index=True)\n",
    "psds.head()\n"
   ]
  },
  {
   "cell_type": "code",
   "execution_count": null,
   "metadata": {},
   "outputs": [],
   "source": [
    "fig,aveax = plt.subplots(figsize=(6*cm, 1.5*cm))\n",
    "aves = evokeds[(evokeds.filtered=='no')&(evokeds.time < 0.5)].groupby(['time','tag'], as_index=False).mean()\n",
    "aveax.plot(aves[aves.tag == 'SSVEP'].time,aves[aves.tag == 'SSVEP'].evoked,linewidth=1)\n",
    "aveax.plot(aves[aves.tag == 'SSVEP'].time, -aves[aves.tag == 'WN'].evoked,linewidth=1)\n",
    "aveax.set_ylim(-0.3,0.3)"
   ]
  },
  {
   "cell_type": "code",
   "execution_count": null,
   "metadata": {},
   "outputs": [],
   "source": [
    "fig = plt.figure(figsize=(13.5*cm, 7*cm))\n",
    "\n",
    "plt.subplots_adjust(wspace=1, hspace=0.1)\n",
    "ax10 = plt.subplot2grid((5, 9), (0, 0), colspan=2, rowspan=2)\n",
    "ax20 = plt.subplot2grid((5, 9), (3, 0), colspan=2, rowspan=2)\n",
    "\n",
    "ax11 = plt.subplot2grid((5, 9), (0, 2), colspan=5, rowspan=2)\n",
    "axaxes = plt.subplot2grid((5, 9), (2, 2), colspan=5, rowspan=1)\n",
    "\n",
    "ax21 = plt.subplot2grid((5, 9), (3, 2), colspan=5, rowspan=2)\n",
    "ax12 = plt.subplot2grid((5, 9), (0, 7), colspan=2, rowspan=2)\n",
    "ax22 = plt.subplot2grid((5, 9), (3, 7), colspan=2, rowspan=2)\n",
    "\n",
    "\n",
    "for spine in ['top', 'right', 'bottom']:\n",
    "    ax11.spines[spine].set_visible(False)\n",
    "ax11.set_xticklabels([])\n",
    "ax11.set_xticks([])\n",
    "\n",
    "for spine in ['top', 'right', 'left']:\n",
    "    axaxes.spines[spine].set_visible(False)\n",
    "axaxes.spines['bottom'].set_position(('data', 1))\n",
    "axaxes.set_yticklabels([])\n",
    "axaxes.set_yticks([])\n",
    "axaxes.set_xlim(0,0.34)\n",
    "\n",
    "for spine in  ['top', 'right', 'bottom']:\n",
    "    ax21.spines[spine].set_visible(False)\n",
    "ax21.spines['bottom'].set_position(('data', 1))\n",
    "ax21.set_xticklabels([])\n",
    "ax21.set_xticks([])\n",
    "\n",
    "aves = psds.groupby(['frequency', 'tag','class'], as_index=False).mean()\n",
    "sns.lineplot(data=aves[aves.tag == 'SSVEP'], x='frequency',\n",
    "             y='evoked', hue='class', ax=ax10, legend=False, linewidth=0.5,palette='vlag')\n",
    "sns.lineplot(data=aves[aves.tag == 'WN'], x='frequency',\n",
    "             y='evoked', hue='class', ax=ax20, legend=False, linewidth=0.5, palette='vlag')\n",
    "\n",
    "ax10.set_xlabel('Frequency',fontdict=fontdict)\n",
    "ax20.set_xlabel('Frequency',fontdict=fontdict)\n",
    "ax10.set_ylabel('Amp',fontdict=fontdict)\n",
    "ax20.set_ylabel('Amp',fontdict=fontdict)\n",
    "ax10.set_ylim(0,1.8*1e-12)\n",
    "ax20.set_ylim(0,1.8*1e-12)\n",
    "\n",
    "\n",
    "list = ['zhouyuqing']\n",
    "\n",
    "aveSSVEP = evokeds[(evokeds.tag == 'SSVEP') & (evokeds.time < 0.34) & (evokeds.subject.isin(list)) & (\n",
    "    evokeds['class'].isin(np.arange(41, 81, 1)))].groupby(['class', 'time','filtered'], as_index=False).mean()\n",
    "\n",
    "sns.lineplot(data=aveSSVEP[aveSSVEP.filtered=='no'], x='time', y='evoked', hue='class',\n",
    "             linewidth=1, palette=['white'], alpha=1, ax=ax11, legend=False)\n",
    "sns.lineplot(data=aveSSVEP[aveSSVEP.filtered=='no'], x='time', y='evoked', hue='class',\n",
    "             linewidth=0.3, palette=['gray'], alpha=0.7, ax=ax11, legend=False)\n",
    "\n",
    "\n",
    "sns.lineplot(data=aveSSVEP[aveSSVEP['class'].isin([78, 79]) & (aveSSVEP.filtered == 'no')], x='time', y='evoked', hue='class',linewidth=1.5, palette=['white'], alpha=1,ax=ax11,legend=False)\n",
    "\n",
    "sns.lineplot(data=aveSSVEP[aveSSVEP['class'].isin([78, 79]) & (aveSSVEP.filtered == 'no')], x='time', y='evoked', hue='class',linewidth=1, palette='vlag', alpha=1,ax=ax11,legend=False)\n",
    "\n",
    "\n",
    "aveWN = evokeds[(evokeds.tag == 'WN') & (evokeds.time < 0.34) & (evokeds.subject.isin(list)) & (\n",
    "    evokeds['class'].isin(np.arange(1, 40, 1)))].groupby(['class', 'time','filtered'], as_index=False).mean()\n",
    "\n",
    "sns.lineplot(data=aveWN[aveWN.filtered=='no'], x='time', y='evoked', hue='class',\n",
    "             linewidth=0.3, palette=['gray'], alpha=0.7, ax=ax21,legend=False)\n",
    "\n",
    "sns.lineplot(data=aveWN[(aveWN['class'].isin([1, 6])) & (aveWN.filtered == 'no')], x='time',\n",
    "             y='evoked', hue='class', linewidth=1.5, palette=['white'], alpha=1, ax=ax21, legend=False)\n",
    "\n",
    "sns.lineplot(data=aveWN[(aveWN['class'].isin([1,6])) & (aveWN.filtered == 'no')], x='time', y='evoked', hue='class',linewidth=1, palette='vlag', alpha=1, ax=ax21, legend=False)\n",
    "\n",
    "ax11.set_ylim(-3,3)\n",
    "ax21.set_ylim(-3,3)\n",
    "\n",
    "\n",
    "\n",
    "list = ['yangyuxing', 'xuwenjia', 'jingyi',\n",
    "        'fanzixiao', 'wangchaoying', 'lijiayang', 'libowen', 'zhouyuqing']\n",
    "\n",
    "coefWN = pd.pivot_table(data=coefs[(coefs.method=='WN')&(coefs.subject.isin(list))],values='rho',index='i',columns='j').to_numpy()\n",
    "coefSSVEP = pd.pivot_table(data=coefs[(coefs.method == 'SSVEP') & (coefs.subject.isin(list))], values='rho', index='i', columns='j').to_numpy()\n",
    "\n",
    "mins = np.max([np.min(coefWN),np.min(coefSSVEP)])\n",
    "maxs = np.min([np.max(coefWN),np.max(coefSSVEP)])\n",
    "\n",
    "c = ax12.imshow(coefSSVEP,cmap='vlag',vmin=mins,vmax=maxs-1)\n",
    "c = ax22.imshow(coefWN, cmap='vlag', vmin=mins, vmax=maxs-1)\n",
    "\n",
    "ax12.xaxis.set_major_locator(ticker.IndexLocator(base=39, offset=0.5))\n",
    "ax12.yaxis.set_major_locator(ticker.IndexLocator(base=39, offset=0.5))\n",
    "ax22.xaxis.set_major_locator(ticker.IndexLocator(base=39, offset=0.5))\n",
    "ax22.yaxis.set_major_locator(ticker.IndexLocator(base=39, offset=0.5))\n",
    "\n",
    "\n",
    "for ax in fig.axes:\n",
    "    ax.tick_params(labelsize=5, width=0.5, length=2, which='major')\n",
    "    plt.setp(ax.spines.values(), linewidth=0.75)\n",
    "\n",
    "axaxes.set_xlabel('Time (s)',fontdict=fontdict)\n",
    "ax11.set_ylabel('Amp',fontdict=fontdict)\n",
    "ax21.set_ylabel('Amp',fontdict=fontdict)\n",
    "\n",
    "fig.savefig('../images/fig4f.png',dpi=300)"
   ]
  },
  {
   "attachments": {},
   "cell_type": "markdown",
   "metadata": {},
   "source": [
    "## Fig (g) SNR"
   ]
  },
  {
   "cell_type": "code",
   "execution_count": null,
   "metadata": {},
   "outputs": [],
   "source": [
    "snrs = []\n",
    "add = '../results/compare'\n",
    "subs = os.listdir(add)\n",
    "\n",
    "for sub in subs:\n",
    "    subFolder = add+os.sep+sub\n",
    "    if os.path.exists(subFolder+os.sep+'snr.csv'):\n",
    "        f = pd.read_csv(subFolder+os.sep+'snr.csv')\n",
    "        snrs.append(f)\n",
    "\n",
    "snrs = pd.concat(snrs, ignore_index=True)\n",
    "snrs.head()"
   ]
  },
  {
   "cell_type": "code",
   "execution_count": null,
   "metadata": {},
   "outputs": [],
   "source": [
    "list = ['yangyuxing', 'xuwenjia', 'jingyi',\n",
    "        'fanzixiao', 'wangchaoying', 'lijiayang', 'libowen', 'zhouyuqing']\n",
    "\n",
    "sns.set_theme(style='ticks',font='Arial',rc={\"lines.linewidth\": 1,'font.size':5,'legend.fontsize':5,'legend.title_fontsize':5,'axes.labelsize':5,'xtick.labelsize':5,'ytick.labelsize':5,})\n",
    "\n",
    "fig,ax = plt.subplots(figsize=(1.5*cm,5.5*cm))\n",
    "sns.kdeplot(data=snrs[snrs.subject.isin(list)],y='snr',hue='method')\n",
    "\n",
    "ax.set_ylabel('SNR(dB)')\n",
    "for ax in fig.axes:\n",
    "    ax.tick_params(labelsize=5, width=0.5, length=2, which='major')\n",
    "    plt.setp(ax.spines.values(), linewidth=0.75)\n",
    "\n",
    "fig.savefig('../images/fig4g.svg', dpi=300, bbox_inches='tight')\n"
   ]
  },
  {
   "attachments": {},
   "cell_type": "markdown",
   "metadata": {},
   "source": [
    "# Disccusion"
   ]
  },
  {
   "attachments": {},
   "cell_type": "markdown",
   "metadata": {},
   "source": [
    "## (1) SOTA"
   ]
  },
  {
   "cell_type": "code",
   "execution_count": 6,
   "metadata": {},
   "outputs": [
    {
     "data": {
      "text/html": [
       "<div>\n",
       "<style scoped>\n",
       "    .dataframe tbody tr th:only-of-type {\n",
       "        vertical-align: middle;\n",
       "    }\n",
       "\n",
       "    .dataframe tbody tr th {\n",
       "        vertical-align: top;\n",
       "    }\n",
       "\n",
       "    .dataframe thead th {\n",
       "        text-align: right;\n",
       "    }\n",
       "</style>\n",
       "<table border=\"1\" class=\"dataframe\">\n",
       "  <thead>\n",
       "    <tr style=\"text-align: right;\">\n",
       "      <th></th>\n",
       "      <th>Name</th>\n",
       "      <th>Year</th>\n",
       "      <th>Method</th>\n",
       "      <th>calibration</th>\n",
       "      <th>Field</th>\n",
       "      <th>Type</th>\n",
       "      <th>ITR</th>\n",
       "      <th>Tags</th>\n",
       "      <th>Authors</th>\n",
       "      <th>Ref</th>\n",
       "      <th>place</th>\n",
       "    </tr>\n",
       "  </thead>\n",
       "  <tbody>\n",
       "    <tr>\n",
       "      <th>0</th>\n",
       "      <td>JFPM SSVEP</td>\n",
       "      <td>2018</td>\n",
       "      <td>noninvasive</td>\n",
       "      <td>0.5</td>\n",
       "      <td>sensory tagging</td>\n",
       "      <td>visual</td>\n",
       "      <td>5.40</td>\n",
       "      <td>visual gaze direction</td>\n",
       "      <td>Nakanishi et al</td>\n",
       "      <td>https://ieeexplore.ieee.org/abstract/document/...</td>\n",
       "      <td>Type</td>\n",
       "    </tr>\n",
       "    <tr>\n",
       "      <th>1</th>\n",
       "      <td>brain-to-text</td>\n",
       "      <td>2021</td>\n",
       "      <td>invasive</td>\n",
       "      <td>1-1.5</td>\n",
       "      <td>intention</td>\n",
       "      <td>motor</td>\n",
       "      <td>4.80</td>\n",
       "      <td>handwriting movements attempts</td>\n",
       "      <td>Krishna V. Shenoy et al</td>\n",
       "      <td>https://www.nature.com/articles/s41586-021-035...</td>\n",
       "      <td>Type</td>\n",
       "    </tr>\n",
       "    <tr>\n",
       "      <th>2</th>\n",
       "      <td>limb movements</td>\n",
       "      <td>2020</td>\n",
       "      <td>invasive</td>\n",
       "      <td>3-5</td>\n",
       "      <td>intention</td>\n",
       "      <td>motor</td>\n",
       "      <td>4.52</td>\n",
       "      <td>limb movements</td>\n",
       "      <td>Krishna V. Shenoy et al</td>\n",
       "      <td>https://www.sciencedirect.com/science/article/...</td>\n",
       "      <td>Type</td>\n",
       "    </tr>\n",
       "    <tr>\n",
       "      <th>3</th>\n",
       "      <td>speech-to-text</td>\n",
       "      <td>2023</td>\n",
       "      <td>invasive</td>\n",
       "      <td>1.5</td>\n",
       "      <td>intention</td>\n",
       "      <td>speech</td>\n",
       "      <td>14.00</td>\n",
       "      <td>articulatory movement</td>\n",
       "      <td>Krishna V. Shenoy et al</td>\n",
       "      <td>https://www.biorxiv.org/content/10.1101/2023.0...</td>\n",
       "      <td>Type</td>\n",
       "    </tr>\n",
       "    <tr>\n",
       "      <th>4</th>\n",
       "      <td>Speech synthesis</td>\n",
       "      <td>2019</td>\n",
       "      <td>invasive</td>\n",
       "      <td>1.5</td>\n",
       "      <td>intention</td>\n",
       "      <td>speech</td>\n",
       "      <td>4.00</td>\n",
       "      <td>articulatory movement</td>\n",
       "      <td>David A. Moses et al</td>\n",
       "      <td>https://www.nejm.org/doi/full/10.1056/nejmoa20...</td>\n",
       "      <td>Type</td>\n",
       "    </tr>\n",
       "  </tbody>\n",
       "</table>\n",
       "</div>"
      ],
      "text/plain": [
       "               Name  Year       Method calibration            Field    Type  \\\n",
       "0        JFPM SSVEP  2018  noninvasive        0.5   sensory tagging  visual   \n",
       "1     brain-to-text  2021     invasive       1-1.5        intention   motor   \n",
       "2   limb movements   2020     invasive         3-5        intention   motor   \n",
       "3    speech-to-text  2023     invasive         1.5        intention  speech   \n",
       "4  Speech synthesis  2019     invasive         1.5        intention  speech   \n",
       "\n",
       "     ITR                            Tags                  Authors  \\\n",
       "0   5.40           visual gaze direction          Nakanishi et al   \n",
       "1   4.80  handwriting movements attempts  Krishna V. Shenoy et al   \n",
       "2   4.52                  limb movements  Krishna V. Shenoy et al   \n",
       "3  14.00           articulatory movement  Krishna V. Shenoy et al   \n",
       "4   4.00           articulatory movement     David A. Moses et al   \n",
       "\n",
       "                                                 Ref place  \n",
       "0  https://ieeexplore.ieee.org/abstract/document/...  Type  \n",
       "1  https://www.nature.com/articles/s41586-021-035...  Type  \n",
       "2  https://www.sciencedirect.com/science/article/...  Type  \n",
       "3  https://www.biorxiv.org/content/10.1101/2023.0...  Type  \n",
       "4  https://www.nejm.org/doi/full/10.1056/nejmoa20...  Type  "
      ]
     },
     "execution_count": 6,
     "metadata": {},
     "output_type": "execute_result"
    }
   ],
   "source": [
    "sota = pd.read_csv('SOTA.csv')\n",
    "sota['place'] = 'Type'\n",
    "sota.head()"
   ]
  },
  {
   "cell_type": "code",
   "execution_count": 15,
   "metadata": {},
   "outputs": [
    {
     "data": {
      "image/png": "[encoded data removed]",
      "text/plain": [
       "<seaborn._core.plot.Plot at 0x7fe7e2b97220>"
      ]
     },
     "execution_count": 15,
     "metadata": {
      "image/png": {
       "height": 378.25,
       "width": 630.275
      }
     },
     "output_type": "execute_result"
    }
   ],
   "source": [
    "from seaborn import axes_style\n",
    "import seaborn.objects as so\n",
    "\n",
    "(\n",
    "    so.Plot(sota, x=\"Type\", y=\"ITR\", color='Method').facet(col='Field')\n",
    "    .theme({**axes_style(\"ticks\"), \"grid.linestyle\": \":\"})\n",
    "    .add(\n",
    "        so.Dot()\n",
    "    )\n",
    ")"
   ]
  },
  {
   "cell_type": "code",
   "execution_count": 35,
   "metadata": {},
   "outputs": [
    {
     "data": {
      "text/plain": [
       "<matplotlib.legend.Legend at 0x7fb25f6576a0>"
      ]
     },
     "execution_count": 35,
     "metadata": {},
     "output_type": "execute_result"
    },
    {
     "data": {
      "image/png": "[encoded data removed]",
      "text/plain": [
       "<Figure size 196.85x196.85 with 1 Axes>"
      ]
     },
     "metadata": {},
     "output_type": "display_data"
    }
   ],
   "source": [
    "sns.set_theme(style='ticks',font='Arial',rc={\"lines.linewidth\": 1,'font.size':5,'legend.fontsize':5,'legend.title_fontsize':5,'axes.labelsize':5,'xtick.labelsize':5,'ytick.labelsize':5,})\n",
    "\n",
    "fig,ax = plt.subplots(figsize=(5*cm,5*cm))\n",
    "sns.scatterplot(data=sota, x='Year', y='ITR', hue='Method',style='Method',s=50)\n",
    "for row in sota.iterrows():\n",
    "    ax.text(x=row[1]['Year'], y=row[1]['ITR']-0.5, s='%s \\n %s'%(row[1]['Tags'],row[1]['Authors']),fontdict=fontdict)\n",
    "\n",
    "ax.tick_params(labelsize=5, width=0.5, length=2, which='major')\n",
    "plt.setp(ax.spines.values(), linewidth=0.75)\n",
    "\n",
    "ax.legend(fontsize=5)\n",
    "fig.savefig('../images/disscusion1.png',dpi=400,bbox_inches='tight')"
   ]
  },
  {
   "attachments": {},
   "cell_type": "markdown",
   "metadata": {},
   "source": [
    "## (2) TRF with diode"
   ]
  },
  {
   "cell_type": "code",
   "execution_count": 4,
   "metadata": {},
   "outputs": [
    {
     "data": {
      "text/html": [
       "<div>\n",
       "<style scoped>\n",
       "    .dataframe tbody tr th:only-of-type {\n",
       "        vertical-align: middle;\n",
       "    }\n",
       "\n",
       "    .dataframe tbody tr th {\n",
       "        vertical-align: top;\n",
       "    }\n",
       "\n",
       "    .dataframe thead th {\n",
       "        text-align: right;\n",
       "    }\n",
       "</style>\n",
       "<table border=\"1\" class=\"dataframe\">\n",
       "  <thead>\n",
       "    <tr style=\"text-align: right;\">\n",
       "      <th></th>\n",
       "      <th>Unnamed: 0</th>\n",
       "      <th>tau</th>\n",
       "      <th>band</th>\n",
       "      <th>trf</th>\n",
       "      <th>tag</th>\n",
       "      <th>subject</th>\n",
       "    </tr>\n",
       "  </thead>\n",
       "  <tbody>\n",
       "    <tr>\n",
       "      <th>0</th>\n",
       "      <td>0</td>\n",
       "      <td>0.000</td>\n",
       "      <td>0</td>\n",
       "      <td>6.368730e-08</td>\n",
       "      <td>WN</td>\n",
       "      <td>yangyuxing</td>\n",
       "    </tr>\n",
       "    <tr>\n",
       "      <th>1</th>\n",
       "      <td>1</td>\n",
       "      <td>0.004</td>\n",
       "      <td>0</td>\n",
       "      <td>6.914578e-08</td>\n",
       "      <td>WN</td>\n",
       "      <td>yangyuxing</td>\n",
       "    </tr>\n",
       "    <tr>\n",
       "      <th>2</th>\n",
       "      <td>2</td>\n",
       "      <td>0.008</td>\n",
       "      <td>0</td>\n",
       "      <td>5.549630e-08</td>\n",
       "      <td>WN</td>\n",
       "      <td>yangyuxing</td>\n",
       "    </tr>\n",
       "    <tr>\n",
       "      <th>3</th>\n",
       "      <td>3</td>\n",
       "      <td>0.012</td>\n",
       "      <td>0</td>\n",
       "      <td>1.956271e-08</td>\n",
       "      <td>WN</td>\n",
       "      <td>yangyuxing</td>\n",
       "    </tr>\n",
       "    <tr>\n",
       "      <th>4</th>\n",
       "      <td>4</td>\n",
       "      <td>0.016</td>\n",
       "      <td>0</td>\n",
       "      <td>-2.886349e-08</td>\n",
       "      <td>WN</td>\n",
       "      <td>yangyuxing</td>\n",
       "    </tr>\n",
       "  </tbody>\n",
       "</table>\n",
       "</div>"
      ],
      "text/plain": [
       "   Unnamed: 0    tau  band           trf tag     subject\n",
       "0           0  0.000     0  6.368730e-08  WN  yangyuxing\n",
       "1           1  0.004     0  6.914578e-08  WN  yangyuxing\n",
       "2           2  0.008     0  5.549630e-08  WN  yangyuxing\n",
       "3           3  0.012     0  1.956271e-08  WN  yangyuxing\n",
       "4           4  0.016     0 -2.886349e-08  WN  yangyuxing"
      ]
     },
     "execution_count": 4,
     "metadata": {},
     "output_type": "execute_result"
    }
   ],
   "source": [
    "trfs = []\n",
    "add = '../results/compare'\n",
    "subs = os.listdir(add)\n",
    "\n",
    "for sub in subs:\n",
    "    subFolder = add+os.sep+sub\n",
    "    if os.path.exists(subFolder+os.sep+'trf.csv'):\n",
    "        f = pd.read_csv(subFolder+os.sep+'trf.csv')\n",
    "        trfs.append(f)\n",
    "    \n",
    "trfs = pd.concat(trfs, ignore_index=True)\n",
    "trfs.head()"
   ]
  },
  {
   "cell_type": "code",
   "execution_count": 5,
   "metadata": {},
   "outputs": [
    {
     "name": "stderr",
     "output_type": "stream",
     "text": [
      "/var/folders/z8/m0rtcw1d0g37chf76qrvr9pw0000gn/T/ipykernel_2388/88207952.py:5: UserWarning: Ignoring `palette` because no `hue` variable has been assigned.\n"
     ]
    },
    {
     "data": {
      "text/plain": [
       "<AxesSubplot: xlabel='tau', ylabel='trf'>"
      ]
     },
     "execution_count": 5,
     "metadata": {},
     "output_type": "execute_result"
    },
    {
     "data": {
      "image/png": "[encoded data removed]",
      "text/plain": [
       "<Figure size 500x200 with 1 Axes>"
      ]
     },
     "metadata": {},
     "output_type": "display_data"
    }
   ],
   "source": [
    "list = ['zhouyuqing']\n",
    "\n",
    "sns.set_theme(style='ticks')\n",
    "f,ax = plt.subplots(figsize=(5,2))\n",
    "sns.lineplot(data=trfs[(trfs.subject.isin(list))&(trfs.tau<0.2)],x='tau',y='trf',linewidth=1,palette='crest',legend=False)"
   ]
  },
  {
   "cell_type": "code",
   "execution_count": 9,
   "metadata": {},
   "outputs": [
    {
     "ename": "NameError",
     "evalue": "name 'utils' is not defined",
     "output_type": "error",
     "traceback": [
      "\u001b[0;31m---------------------------------------------------------------------------\u001b[0m",
      "\u001b[0;31mNameError\u001b[0m                                 Traceback (most recent call last)",
      "Cell \u001b[0;32mIn [9], line 1\u001b[0m\n\u001b[0;32m----> 1\u001b[0m utils\u001b[39m.\u001b[39mITR()\n",
      "\u001b[0;31mNameError\u001b[0m: name 'utils' is not defined"
     ]
    }
   ],
   "source": [
    "\n",
    "utils.ITR()"
   ]
  },
  {
   "cell_type": "code",
   "execution_count": null,
   "metadata": {},
   "outputs": [],
   "source": []
  }
 ],
 "metadata": {
  "kernelspec": {
   "display_name": "base",
   "language": "python",
   "name": "python3"
  },
  "language_info": {
   "codemirror_mode": {
    "name": "ipython",
    "version": 3
   },
   "file_extension": ".py",
   "mimetype": "text/x-python",
   "name": "python",
   "nbconvert_exporter": "python",
   "pygments_lexer": "ipython3",
   "version": "3.8.5"
  },
  "orig_nbformat": 4,
  "vscode": {
   "interpreter": {
    "hash": "738b996afe2da5960d326b652730d0fe79e83941aa5e7e236ea36fecd662bb25"
   }
  }
 },
 "nbformat": 4,
 "nbformat_minor": 2
}
