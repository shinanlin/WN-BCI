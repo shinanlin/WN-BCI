{
 "cells": [
  {
   "cell_type": "code",
   "execution_count": 18,
   "metadata": {},
   "outputs": [],
   "source": [
    "import sys\n",
    "sys.path.append('..')\n",
    "import matplotlib.pyplot as plt\n",
    "import seaborn as sns\n",
    "from mne.decoding import ReceptiveField\n",
    "import pickle\n",
    "import numpy as np\n",
    "import  modin.pandas as pd\n",
    "import os\n",
    "from tqdm import tqdm\n",
    "from NRC import NRC,recordModule\n",
    "from matplotlib.pyplot import MultipleLocator\n",
    "from matplotlib.gridspec import GridSpec\n",
    "from utils import returnSpec\n",
    "from distributed import Client\n",
    "client = Client()"
   ]
  },
  {
   "cell_type": "markdown",
   "metadata": {},
   "source": [
    "## 数据导入\n",
    "可以选择导入 *exp* 文件夹中的‘EEG’，’TRF‘，或者’stimulus'文件。文件都是按照pickle格式存储。因为将所有的数据都汇总到一起，所以数据的读写时间会比较长。"
   ]
  },
  {
   "cell_type": "markdown",
   "metadata": {},
   "source": [
    "# TRF analysis"
   ]
  },
  {
   "cell_type": "code",
   "execution_count": 19,
   "metadata": {},
   "outputs": [
    {
     "data": {
      "text/html": [
       "<div>\n",
       "<style scoped>\n",
       "    .dataframe tbody tr th:only-of-type {\n",
       "        vertical-align: middle;\n",
       "    }\n",
       "\n",
       "    .dataframe tbody tr th {\n",
       "        vertical-align: top;\n",
       "    }\n",
       "\n",
       "    .dataframe thead th {\n",
       "        text-align: right;\n",
       "    }\n",
       "</style>\n",
       "<table border=\"1\" class=\"dataframe\">\n",
       "  <thead>\n",
       "    <tr style=\"text-align: right;\">\n",
       "      <th></th>\n",
       "      <th>Unnamed: 0</th>\n",
       "      <th>channel</th>\n",
       "      <th>lags</th>\n",
       "      <th>trf</th>\n",
       "      <th>condition</th>\n",
       "      <th>feauture</th>\n",
       "      <th>subject</th>\n",
       "      <th>type</th>\n",
       "      <th>tag</th>\n",
       "    </tr>\n",
       "  </thead>\n",
       "  <tbody>\n",
       "    <tr>\n",
       "      <th>0</th>\n",
       "      <td>0</td>\n",
       "      <td>PZ</td>\n",
       "      <td>-0.100000</td>\n",
       "      <td>-1.734371</td>\n",
       "      <td>1</td>\n",
       "      <td>0</td>\n",
       "      <td>chenyuzhen</td>\n",
       "      <td>locked</td>\n",
       "      <td>ssvep</td>\n",
       "    </tr>\n",
       "    <tr>\n",
       "      <th>1</th>\n",
       "      <td>1</td>\n",
       "      <td>POZ</td>\n",
       "      <td>-0.100000</td>\n",
       "      <td>-2.789234</td>\n",
       "      <td>1</td>\n",
       "      <td>0</td>\n",
       "      <td>chenyuzhen</td>\n",
       "      <td>locked</td>\n",
       "      <td>ssvep</td>\n",
       "    </tr>\n",
       "    <tr>\n",
       "      <th>2</th>\n",
       "      <td>2</td>\n",
       "      <td>OZ</td>\n",
       "      <td>-0.100000</td>\n",
       "      <td>-1.602552</td>\n",
       "      <td>1</td>\n",
       "      <td>0</td>\n",
       "      <td>chenyuzhen</td>\n",
       "      <td>locked</td>\n",
       "      <td>ssvep</td>\n",
       "    </tr>\n",
       "    <tr>\n",
       "      <th>3</th>\n",
       "      <td>3</td>\n",
       "      <td>PZ</td>\n",
       "      <td>-0.095833</td>\n",
       "      <td>-1.734360</td>\n",
       "      <td>1</td>\n",
       "      <td>0</td>\n",
       "      <td>chenyuzhen</td>\n",
       "      <td>locked</td>\n",
       "      <td>ssvep</td>\n",
       "    </tr>\n",
       "    <tr>\n",
       "      <th>4</th>\n",
       "      <td>4</td>\n",
       "      <td>POZ</td>\n",
       "      <td>-0.095833</td>\n",
       "      <td>-2.789206</td>\n",
       "      <td>1</td>\n",
       "      <td>0</td>\n",
       "      <td>chenyuzhen</td>\n",
       "      <td>locked</td>\n",
       "      <td>ssvep</td>\n",
       "    </tr>\n",
       "  </tbody>\n",
       "</table>\n",
       "</div>"
      ],
      "text/plain": [
       "   Unnamed: 0 channel      lags       trf  condition  feauture     subject  \\\n",
       "0           0      PZ -0.100000 -1.734371          1         0  chenyuzhen   \n",
       "1           1     POZ -0.100000 -2.789234          1         0  chenyuzhen   \n",
       "2           2      OZ -0.100000 -1.602552          1         0  chenyuzhen   \n",
       "3           3      PZ -0.095833 -1.734360          1         0  chenyuzhen   \n",
       "4           4     POZ -0.095833 -2.789206          1         0  chenyuzhen   \n",
       "\n",
       "     type    tag  \n",
       "0  locked  ssvep  \n",
       "1  locked  ssvep  \n",
       "2  locked  ssvep  \n",
       "3  locked  ssvep  \n",
       "4  locked  ssvep  "
      ]
     },
     "execution_count": 19,
     "metadata": {},
     "output_type": "execute_result"
    }
   ],
   "source": [
    "TRFs = []\n",
    "add = '../results/sweep'\n",
    "subs = os.listdir(add)\n",
    "subs.remove('.DS_Store')\n",
    "\n",
    "for sub in subs:\n",
    "    subFolder = add+os.sep+sub\n",
    "    f = pd.read_csv(subFolder+os.sep+'TRF.csv')\n",
    "    TRFs.append(f)\n",
    "\n",
    "TRFs = pd.concat(TRFs, ignore_index=True)\n",
    "TRFs.head()"
   ]
  },
  {
   "cell_type": "markdown",
   "metadata": {},
   "source": [
    "TRF的frame中\n",
    "1. channel 代表通道标签\n",
    "2. lags代表延迟的时间轴\n",
    "3. trf代表TRF的幅度\n",
    "4. condition是trigger标记，1-20是whitenoise;20-40是m-seq；40-60是ssvep\n",
    "5. type代表TRF有没有被正则化：whitened代表正则化，unwhitened是纯互相关\n",
    "6. tag是刺激类型：白噪声，ssvep和mseq"
   ]
  },
  {
   "cell_type": "code",
   "execution_count": 20,
   "metadata": {},
   "outputs": [
    {
     "data": {
      "text/html": [
       "<div>\n",
       "<style scoped>\n",
       "    .dataframe tbody tr th:only-of-type {\n",
       "        vertical-align: middle;\n",
       "    }\n",
       "\n",
       "    .dataframe tbody tr th {\n",
       "        vertical-align: top;\n",
       "    }\n",
       "\n",
       "    .dataframe thead th {\n",
       "        text-align: right;\n",
       "    }\n",
       "</style>\n",
       "<table border=\"1\" class=\"dataframe\">\n",
       "  <thead>\n",
       "    <tr style=\"text-align: right;\">\n",
       "      <th></th>\n",
       "      <th>tag</th>\n",
       "      <th>lags</th>\n",
       "      <th>type</th>\n",
       "      <th>subject</th>\n",
       "      <th>channel</th>\n",
       "      <th>trf</th>\n",
       "    </tr>\n",
       "  </thead>\n",
       "  <tbody>\n",
       "    <tr>\n",
       "      <th>0</th>\n",
       "      <td>ssvep</td>\n",
       "      <td>-0.1</td>\n",
       "      <td>locked</td>\n",
       "      <td>chenyuzhen</td>\n",
       "      <td>OZ</td>\n",
       "      <td>-1.948616</td>\n",
       "    </tr>\n",
       "    <tr>\n",
       "      <th>1</th>\n",
       "      <td>ssvep</td>\n",
       "      <td>-0.1</td>\n",
       "      <td>locked</td>\n",
       "      <td>chenyuzhen</td>\n",
       "      <td>POZ</td>\n",
       "      <td>-2.765089</td>\n",
       "    </tr>\n",
       "    <tr>\n",
       "      <th>2</th>\n",
       "      <td>ssvep</td>\n",
       "      <td>-0.1</td>\n",
       "      <td>locked</td>\n",
       "      <td>chenyuzhen</td>\n",
       "      <td>PZ</td>\n",
       "      <td>-1.460285</td>\n",
       "    </tr>\n",
       "    <tr>\n",
       "      <th>3</th>\n",
       "      <td>ssvep</td>\n",
       "      <td>-0.1</td>\n",
       "      <td>locked</td>\n",
       "      <td>huyijun</td>\n",
       "      <td>OZ</td>\n",
       "      <td>-0.055795</td>\n",
       "    </tr>\n",
       "    <tr>\n",
       "      <th>4</th>\n",
       "      <td>ssvep</td>\n",
       "      <td>-0.1</td>\n",
       "      <td>locked</td>\n",
       "      <td>huyijun</td>\n",
       "      <td>POZ</td>\n",
       "      <td>0.208371</td>\n",
       "    </tr>\n",
       "  </tbody>\n",
       "</table>\n",
       "</div>"
      ],
      "text/plain": [
       "     tag  lags    type     subject channel       trf\n",
       "0  ssvep  -0.1  locked  chenyuzhen      OZ -1.948616\n",
       "1  ssvep  -0.1  locked  chenyuzhen     POZ -2.765089\n",
       "2  ssvep  -0.1  locked  chenyuzhen      PZ -1.460285\n",
       "3  ssvep  -0.1  locked     huyijun      OZ -0.055795\n",
       "4  ssvep  -0.1  locked     huyijun     POZ  0.208371"
      ]
     },
     "execution_count": 20,
     "metadata": {},
     "output_type": "execute_result"
    }
   ],
   "source": [
    "ave = TRFs[['trf', 'lags', 'tag', 'type', 'subject', 'channel']].groupby(\n",
    "    by=['tag', 'lags', 'type', 'subject','channel'], as_index=False).mean()\n",
    "ave.head()"
   ]
  },
  {
   "cell_type": "code",
   "execution_count": 21,
   "metadata": {},
   "outputs": [
    {
     "data": {
      "image/png": "[encoded data removed]",
      "text/plain": [
       "<Figure size 432x288 with 1 Axes>"
      ]
     },
     "metadata": {},
     "output_type": "display_data"
    }
   ],
   "source": [
    "f,ax = plt.subplots()\n",
    "sns.set_theme(style='white')\n",
    "sns.lineplot(data=TRFs,\n",
    "             x='lags', y='trf', hue='channel', style='channel', linewidth=2)\n",
    "# ax.vlines(x=0,ymin=ave.trf.min(),ymax=ave.trf.max(),color='black',linestyles='dashed')\n",
    "sns.despine()\n",
    "\n",
    "# plt.savefig('./images/TRF.png' ,dpi=300)"
   ]
  },
  {
   "cell_type": "code",
   "execution_count": null,
   "metadata": {},
   "outputs": [],
   "source": []
  }
 ],
 "metadata": {
  "interpreter": {
   "hash": "738b996afe2da5960d326b652730d0fe79e83941aa5e7e236ea36fecd662bb25"
  },
  "kernelspec": {
   "display_name": "Python 3.8.5 ('base')",
   "language": "python",
   "name": "python3"
  },
  "language_info": {
   "codemirror_mode": {
    "name": "ipython",
    "version": 3
   },
   "file_extension": ".py",
   "mimetype": "text/x-python",
   "name": "python",
   "nbconvert_exporter": "python",
   "pygments_lexer": "ipython3",
   "version": "3.8.5"
  },
  "orig_nbformat": 4
 },
 "nbformat": 4,
 "nbformat_minor": 2
}
