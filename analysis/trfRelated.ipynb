{
 "cells": [
  {
   "cell_type": "code",
   "execution_count": 1,
   "metadata": {},
   "outputs": [],
   "source": [
    "import sys\n",
    "sys.path.append('..')\n",
    "import matplotlib.pyplot as plt\n",
    "import seaborn as sns\n",
    "from mne.decoding import ReceptiveField\n",
    "import pickle\n",
    "import numpy as np\n",
    "import  modin.pandas as pd\n",
    "import os\n",
    "from tqdm import tqdm\n",
    "from NRC import NRC,recordModule\n",
    "from matplotlib.pyplot import MultipleLocator\n",
    "from matplotlib.gridspec import GridSpec\n",
    "from utils import returnSpec\n",
    "from distributed import Client\n",
    "client = Client()"
   ]
  },
  {
   "cell_type": "markdown",
   "metadata": {},
   "source": [
    "## 数据导入\n",
    "可以选择导入 *exp* 文件夹中的‘EEG’，’TRF‘，或者’stimulus'文件。文件都是按照pickle格式存储。因为将所有的数据都汇总到一起，所以数据的读写时间会比较长。"
   ]
  },
  {
   "cell_type": "markdown",
   "metadata": {},
   "source": [
    "# TRF analysis"
   ]
  },
  {
   "cell_type": "code",
   "execution_count": 2,
   "metadata": {},
   "outputs": [
    {
     "data": {
      "text/html": [
       "<div>\n",
       "<style scoped>\n",
       "    .dataframe tbody tr th:only-of-type {\n",
       "        vertical-align: middle;\n",
       "    }\n",
       "\n",
       "    .dataframe tbody tr th {\n",
       "        vertical-align: top;\n",
       "    }\n",
       "\n",
       "    .dataframe thead th {\n",
       "        text-align: right;\n",
       "    }\n",
       "</style>\n",
       "<table border=\"1\" class=\"dataframe\">\n",
       "  <thead>\n",
       "    <tr style=\"text-align: right;\">\n",
       "      <th></th>\n",
       "      <th>Unnamed: 0.1</th>\n",
       "      <th>channel</th>\n",
       "      <th>lags</th>\n",
       "      <th>trf</th>\n",
       "      <th>condition</th>\n",
       "      <th>feauture</th>\n",
       "      <th>subject</th>\n",
       "      <th>type</th>\n",
       "      <th>tag</th>\n",
       "      <th>Unnamed: 0</th>\n",
       "    </tr>\n",
       "  </thead>\n",
       "  <tbody>\n",
       "    <tr>\n",
       "      <th>0</th>\n",
       "      <td>0</td>\n",
       "      <td>PZ</td>\n",
       "      <td>-0.1</td>\n",
       "      <td>-0.292243</td>\n",
       "      <td>24</td>\n",
       "      <td>0</td>\n",
       "      <td>huangchangxing</td>\n",
       "      <td>shuffled</td>\n",
       "      <td>ssvep</td>\n",
       "      <td>NaN</td>\n",
       "    </tr>\n",
       "    <tr>\n",
       "      <th>1</th>\n",
       "      <td>1</td>\n",
       "      <td>POZ</td>\n",
       "      <td>-0.1</td>\n",
       "      <td>0.510830</td>\n",
       "      <td>24</td>\n",
       "      <td>0</td>\n",
       "      <td>huangchangxing</td>\n",
       "      <td>shuffled</td>\n",
       "      <td>ssvep</td>\n",
       "      <td>NaN</td>\n",
       "    </tr>\n",
       "    <tr>\n",
       "      <th>2</th>\n",
       "      <td>2</td>\n",
       "      <td>O1</td>\n",
       "      <td>-0.1</td>\n",
       "      <td>-0.098796</td>\n",
       "      <td>24</td>\n",
       "      <td>0</td>\n",
       "      <td>huangchangxing</td>\n",
       "      <td>shuffled</td>\n",
       "      <td>ssvep</td>\n",
       "      <td>NaN</td>\n",
       "    </tr>\n",
       "    <tr>\n",
       "      <th>3</th>\n",
       "      <td>3</td>\n",
       "      <td>OZ</td>\n",
       "      <td>-0.1</td>\n",
       "      <td>1.265873</td>\n",
       "      <td>24</td>\n",
       "      <td>0</td>\n",
       "      <td>huangchangxing</td>\n",
       "      <td>shuffled</td>\n",
       "      <td>ssvep</td>\n",
       "      <td>NaN</td>\n",
       "    </tr>\n",
       "    <tr>\n",
       "      <th>4</th>\n",
       "      <td>4</td>\n",
       "      <td>O2</td>\n",
       "      <td>-0.1</td>\n",
       "      <td>0.959037</td>\n",
       "      <td>24</td>\n",
       "      <td>0</td>\n",
       "      <td>huangchangxing</td>\n",
       "      <td>shuffled</td>\n",
       "      <td>ssvep</td>\n",
       "      <td>NaN</td>\n",
       "    </tr>\n",
       "  </tbody>\n",
       "</table>\n",
       "</div>"
      ],
      "text/plain": [
       "   Unnamed: 0.1 channel  lags       trf  condition  feauture         subject  \\\n",
       "0             0      PZ  -0.1 -0.292243         24         0  huangchangxing   \n",
       "1             1     POZ  -0.1  0.510830         24         0  huangchangxing   \n",
       "2             2      O1  -0.1 -0.098796         24         0  huangchangxing   \n",
       "3             3      OZ  -0.1  1.265873         24         0  huangchangxing   \n",
       "4             4      O2  -0.1  0.959037         24         0  huangchangxing   \n",
       "\n",
       "       type    tag  Unnamed: 0  \n",
       "0  shuffled  ssvep         NaN  \n",
       "1  shuffled  ssvep         NaN  \n",
       "2  shuffled  ssvep         NaN  \n",
       "3  shuffled  ssvep         NaN  \n",
       "4  shuffled  ssvep         NaN  "
      ]
     },
     "execution_count": 2,
     "metadata": {},
     "output_type": "execute_result"
    }
   ],
   "source": [
    "TRFs = []\n",
    "add = '../results/confirm'\n",
    "subs = os.listdir(add)\n",
    "# subs.remove('.DS_Store')\n",
    "\n",
    "for sub in subs:\n",
    "    subFolder = add+os.sep+sub\n",
    "    f = pd.read_csv(subFolder+os.sep+'TRF.csv')\n",
    "    TRFs.append(f)\n",
    "\n",
    "TRFs = pd.concat(TRFs, ignore_index=True)\n",
    "TRFs.head()"
   ]
  },
  {
   "cell_type": "code",
   "execution_count": 3,
   "metadata": {},
   "outputs": [
    {
     "data": {
      "text/plain": [
       "array(['ssvep'], dtype=object)"
      ]
     },
     "execution_count": 3,
     "metadata": {},
     "output_type": "execute_result"
    }
   ],
   "source": [
    "TRFs.tag.unique()"
   ]
  },
  {
   "cell_type": "markdown",
   "metadata": {},
   "source": [
    "TRF的frame中\n",
    "1. channel 代表通道标签\n",
    "2. lags代表延迟的时间轴\n",
    "3. trf代表TRF的幅度\n",
    "4. condition是trigger标记，1-20是whitenoise;20-40是m-seq；40-60是ssvep\n",
    "5. type代表TRF有没有被正则化：whitened代表正则化，unwhitened是纯互相关\n",
    "6. tag是刺激类型：白噪声，ssvep和mseq"
   ]
  },
  {
   "cell_type": "code",
   "execution_count": 4,
   "metadata": {},
   "outputs": [
    {
     "data": {
      "text/html": [
       "<div>\n",
       "<style scoped>\n",
       "    .dataframe tbody tr th:only-of-type {\n",
       "        vertical-align: middle;\n",
       "    }\n",
       "\n",
       "    .dataframe tbody tr th {\n",
       "        vertical-align: top;\n",
       "    }\n",
       "\n",
       "    .dataframe thead th {\n",
       "        text-align: right;\n",
       "    }\n",
       "</style>\n",
       "<table border=\"1\" class=\"dataframe\">\n",
       "  <thead>\n",
       "    <tr style=\"text-align: right;\">\n",
       "      <th></th>\n",
       "      <th>tag</th>\n",
       "      <th>lags</th>\n",
       "      <th>type</th>\n",
       "      <th>subject</th>\n",
       "      <th>trf</th>\n",
       "    </tr>\n",
       "  </thead>\n",
       "  <tbody>\n",
       "    <tr>\n",
       "      <th>0</th>\n",
       "      <td>ssvep</td>\n",
       "      <td>-0.1</td>\n",
       "      <td>locked</td>\n",
       "      <td>huangchangxing</td>\n",
       "      <td>0.052966</td>\n",
       "    </tr>\n",
       "    <tr>\n",
       "      <th>1</th>\n",
       "      <td>ssvep</td>\n",
       "      <td>-0.1</td>\n",
       "      <td>locked</td>\n",
       "      <td>miaoyining</td>\n",
       "      <td>-0.075472</td>\n",
       "    </tr>\n",
       "    <tr>\n",
       "      <th>2</th>\n",
       "      <td>ssvep</td>\n",
       "      <td>-0.1</td>\n",
       "      <td>locked</td>\n",
       "      <td>shinanlin</td>\n",
       "      <td>0.048552</td>\n",
       "    </tr>\n",
       "    <tr>\n",
       "      <th>3</th>\n",
       "      <td>ssvep</td>\n",
       "      <td>-0.1</td>\n",
       "      <td>locked</td>\n",
       "      <td>suxiaohan</td>\n",
       "      <td>0.043076</td>\n",
       "    </tr>\n",
       "    <tr>\n",
       "      <th>4</th>\n",
       "      <td>ssvep</td>\n",
       "      <td>-0.1</td>\n",
       "      <td>shuffled</td>\n",
       "      <td>huangchangxing</td>\n",
       "      <td>0.007027</td>\n",
       "    </tr>\n",
       "  </tbody>\n",
       "</table>\n",
       "</div>"
      ],
      "text/plain": [
       "     tag  lags      type         subject       trf\n",
       "0  ssvep  -0.1    locked  huangchangxing  0.052966\n",
       "1  ssvep  -0.1    locked      miaoyining -0.075472\n",
       "2  ssvep  -0.1    locked       shinanlin  0.048552\n",
       "3  ssvep  -0.1    locked       suxiaohan  0.043076\n",
       "4  ssvep  -0.1  shuffled  huangchangxing  0.007027"
      ]
     },
     "execution_count": 4,
     "metadata": {},
     "output_type": "execute_result"
    }
   ],
   "source": [
    "ave = TRFs[['trf', 'lags', 'tag', 'type', 'subject']].groupby(\n",
    "    by=['tag', 'lags', 'type', 'subject'], as_index=False).mean()\n",
    "ave.head()"
   ]
  },
  {
   "cell_type": "code",
   "execution_count": 9,
   "metadata": {},
   "outputs": [
    {
     "data": {
      "image/png": "[encoded data removed]",
      "text/plain": [
       "<Figure size 432x288 with 1 Axes>"
      ]
     },
     "metadata": {},
     "output_type": "display_data"
    }
   ],
   "source": [
    "f,ax = plt.subplots()\n",
    "sns.set_theme(style='white')\n",
    "sns.lineplot(data=ave[(ave.subject == 'miaoyining')],\n",
    "             x='lags', y='trf', hue='type', style='type', linewidth=2)\n",
    "ax.vlines(x=0,ymin=ave.trf.min(),ymax=ave.trf.max(),color='black',linestyles='dashed')\n",
    "sns.despine()\n",
    "\n",
    "# plt.savefig('./images/TRF.png' ,dpi=300)"
   ]
  },
  {
   "cell_type": "code",
   "execution_count": null,
   "metadata": {},
   "outputs": [],
   "source": []
  }
 ],
 "metadata": {
  "interpreter": {
   "hash": "738b996afe2da5960d326b652730d0fe79e83941aa5e7e236ea36fecd662bb25"
  },
  "kernelspec": {
   "display_name": "Python 3.8.5 ('base')",
   "language": "python",
   "name": "python3"
  },
  "language_info": {
   "codemirror_mode": {
    "name": "ipython",
    "version": 3
   },
   "file_extension": ".py",
   "mimetype": "text/x-python",
   "name": "python",
   "nbconvert_exporter": "python",
   "pygments_lexer": "ipython3",
   "version": "3.8.5"
  },
  "orig_nbformat": 4
 },
 "nbformat": 4,
 "nbformat_minor": 2
}
