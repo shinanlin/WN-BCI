{
 "cells": [
  {
   "cell_type": "code",
   "execution_count": 1,
   "metadata": {},
   "outputs": [],
   "source": [
    "import sys\n",
    "sys.path.append('..')\n",
    "from sklearn.model_selection import train_test_split\n",
    "\n",
    "import numpy as np\n",
    "import pickle\n",
    "from scipy.io import savemat\n",
    "from scipy.io import loadmat\n",
    "import matplotlib.pyplot as plt\n",
    "import seaborn as sns\n",
    "from matplotlib.gridspec import GridSpec\n",
    "from tqdm import tqdm\n",
    "import random\n",
    "import utils\n",
    "import pandas as pd\n",
    "import os"
   ]
  },
  {
   "cell_type": "code",
   "execution_count": 2,
   "metadata": {},
   "outputs": [
    {
     "data": {
      "text/plain": [
       "'zhouyuqing'"
      ]
     },
     "execution_count": 2,
     "metadata": {},
     "output_type": "execute_result"
    }
   ],
   "source": [
    "expName = 'compare'\n",
    "\n",
    "dir = '../datasets/%s.pickle' % expName\n",
    "winLENs = np.arange(0.2, 1, step=.2)\n",
    "with open(dir, \"rb\") as fp:\n",
    "    wholeset = pickle.load(fp)\n",
    "\n",
    "sub = wholeset[-1]\n",
    "tag = 'SSVEP'\n",
    "# chnNames = ['PZ', 'PO5', 'POZ', 'PO4', 'PO6', 'O1', 'OZ', 'O2']\n",
    "chnNames = sub['channel']\n",
    "chnINX = [sub['channel'].index(i) for i in chnNames]\n",
    "X = sub[tag]['X'][:, chnINX]\n",
    "y = sub[tag]['y']\n",
    "S = sub[tag]['STI']\n",
    "sub['name']"
   ]
  },
  {
   "cell_type": "code",
   "execution_count": 8,
   "metadata": {},
   "outputs": [],
   "source": [
    "srate = 250\n",
    "winLEN = 0.3\n",
    "tmin=0\n",
    "tmax=0.3\n",
    "targtetNUM = 40"
   ]
  },
  {
   "cell_type": "code",
   "execution_count": 9,
   "metadata": {},
   "outputs": [],
   "source": [
    "from spatialFilters import TDCA\n",
    "X = X-np.mean(X,axis=-1,keepdims=True)\n",
    "model = TDCA(n_components=1,n_band=1,montage=targtetNUM,lag=0.14,srate=250,winLEN=winLEN)\n",
    "evokeds = model.fit_transform(X,y)\n",
    "X_ = model.filter(X)"
   ]
  },
  {
   "cell_type": "code",
   "execution_count": 10,
   "metadata": {},
   "outputs": [],
   "source": [
    "from scipy import signal\n",
    "\n",
    "snrs = np.zeros((40,8))\n",
    "N = 75\n",
    "_classes = np.unique(y)\n",
    "\n",
    "for i,(evoked,_class) in enumerate(zip(evokeds,_classes)):\n",
    "    \n",
    "    epochs = X_[ y == _class ]\n",
    "\n",
    "    for j,epoch in enumerate(epochs):\n",
    "\n",
    "        noise = epoch-evoked\n",
    "                    \n",
    "        s = np.abs(np.fft.fftshift(np.fft.fft(evoked,axis=-1)/N))**2\n",
    "        san = np.abs(np.fft.fftshift(np.fft.fft(epoch,axis=-1)/N))**2\n",
    "        n = np.abs(np.fft.fftshift(np.fft.fft(noise, axis=-1)/N))**2\n",
    "\n",
    "        # break\n",
    "        s_power = np.sum(s[:,N//2:],axis=-1)\n",
    "        all_power = np.sum(san[:,N//2:],axis=-1)\n",
    "        n_power = np.sum(n[:,N//2:],axis=-1)\n",
    "\n",
    "        snrs[i,j] = 10*np.log10(s_power/n_power)\n"
   ]
  },
  {
   "cell_type": "code",
   "execution_count": null,
   "metadata": {},
   "outputs": [],
   "source": []
  }
 ],
 "metadata": {
  "kernelspec": {
   "display_name": "Python 3.8.5 ('base')",
   "language": "python",
   "name": "python3"
  },
  "language_info": {
   "codemirror_mode": {
    "name": "ipython",
    "version": 3
   },
   "file_extension": ".py",
   "mimetype": "text/x-python",
   "name": "python",
   "nbconvert_exporter": "python",
   "pygments_lexer": "ipython3",
   "version": "3.8.5 (default, Sep  4 2020, 02:22:02) \n[Clang 10.0.0 ]"
  },
  "orig_nbformat": 4,
  "vscode": {
   "interpreter": {
    "hash": "738b996afe2da5960d326b652730d0fe79e83941aa5e7e236ea36fecd662bb25"
   }
  }
 },
 "nbformat": 4,
 "nbformat_minor": 2
}
