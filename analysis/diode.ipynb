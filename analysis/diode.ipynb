{
 "cells": [
  {
   "cell_type": "code",
   "execution_count": 69,
   "metadata": {},
   "outputs": [],
   "source": [
    "from matplotlib import ticker\n",
    "import sys\n",
    "sys.path.append('..')\n",
    "from sklearn.model_selection import train_test_split\n",
    "\n",
    "import numpy as np\n",
    "import pickle\n",
    "from scipy.io import savemat\n",
    "from scipy.io import loadmat\n",
    "import matplotlib.pyplot as plt\n",
    "import seaborn as sns\n",
    "from matplotlib.gridspec import GridSpec\n",
    "from tqdm import tqdm\n",
    "import random\n",
    "from modeling  import Code2EEG\n",
    "from utils import codeDistance\n",
    "import pandas as pd\n",
    "import os"
   ]
  },
  {
   "cell_type": "code",
   "execution_count": 70,
   "metadata": {},
   "outputs": [
    {
     "data": {
      "text/plain": [
       "'diode'"
      ]
     },
     "execution_count": 70,
     "metadata": {},
     "output_type": "execute_result"
    }
   ],
   "source": [
    "expName = 'diode'\n",
    "\n",
    "srate = 250\n",
    "winLEN = 1\n",
    "\n",
    "tmin=0\n",
    "tmax = 0.3\n",
    "\n",
    "key = 'WN'\n",
    "dir = '../datasets/%s.pickle' % expName\n",
    "with open(dir, \"rb\") as fp:\n",
    "    wholeset = pickle.load(fp)\n",
    "\n",
    "sub = wholeset[0]\n",
    "chnNames = ['OZ']\n",
    "chnINX = [sub['channel'].index(i) for i in chnNames]\n",
    "X = sub[key]['X'][:, chnINX]\n",
    "y = sub[key]['y']\n",
    "S = sub[key]['STI']\n",
    "_class = np.unique(y).tolist()\n",
    "sub['name']"
   ]
  },
  {
   "cell_type": "code",
   "execution_count": 71,
   "metadata": {},
   "outputs": [],
   "source": [
    "picked = X[:120]\n",
    "picked = np.transpose(picked,(1,-1,0))\n",
    "\n",
    "STI = S.T\n",
    "\n",
    "s = {\n",
    "    'pattern':picked,\n",
    "    'stimulus':STI\n",
    "    'name':'diode'\n",
    "}\n",
    "\n",
    "SS = {\n",
    "    'S001':s\n",
    "}\n",
    "\n",
    "savemat('../seqOpt/mat/diode.mat',SS)"
   ]
  },
  {
   "cell_type": "code",
   "execution_count": 47,
   "metadata": {},
   "outputs": [
    {
     "ename": "TypeError",
     "evalue": "only integer scalar arrays can be converted to a scalar index",
     "output_type": "error",
     "traceback": [
      "\u001b[0;31m---------------------------------------------------------------------------\u001b[0m",
      "\u001b[0;31mTypeError\u001b[0m                                 Traceback (most recent call last)",
      "\u001b[1;32m/Users/shinanlin/Desktop/WN-BCI/analysis/diode.ipynb Cell 6\u001b[0m in \u001b[0;36m<cell line: 2>\u001b[0;34m()\u001b[0m\n\u001b[1;32m      <a href='vscode-notebook-cell://ssh-remote%2B183.173.192.109/Users/shinanlin/Desktop/WN-BCI/analysis/diode.ipynb#W2sdnNjb2RlLXJlbW90ZQ%3D%3D?line=0'>1</a>\u001b[0m \u001b[39mfrom\u001b[39;00m \u001b[39mmodeling\u001b[39;00m \u001b[39mimport\u001b[39;00m Code2EEG\n\u001b[0;32m----> <a href='vscode-notebook-cell://ssh-remote%2B183.173.192.109/Users/shinanlin/Desktop/WN-BCI/analysis/diode.ipynb#W2sdnNjb2RlLXJlbW90ZQ%3D%3D?line=1'>2</a>\u001b[0m code2EEG \u001b[39m=\u001b[39m Code2EEG(srate\u001b[39m=\u001b[39;49msrate,winLEN\u001b[39m=\u001b[39;49mwinLEN,tmin\u001b[39m=\u001b[39;49mtmin,tmax\u001b[39m=\u001b[39;49mtmax,S\u001b[39m=\u001b[39;49m(S,np\u001b[39m.\u001b[39;49munique(y)),estimator\u001b[39m=\u001b[39;49m\u001b[39m0.98\u001b[39;49m,padding\u001b[39m=\u001b[39;49m\u001b[39mTrue\u001b[39;49;00m,n_band\u001b[39m=\u001b[39;49m\u001b[39m1\u001b[39;49m,component\u001b[39m=\u001b[39;49m\u001b[39m1\u001b[39;49m)\n\u001b[1;32m      <a href='vscode-notebook-cell://ssh-remote%2B183.173.192.109/Users/shinanlin/Desktop/WN-BCI/analysis/diode.ipynb#W2sdnNjb2RlLXJlbW90ZQ%3D%3D?line=2'>3</a>\u001b[0m code2EEG\u001b[39m.\u001b[39mfit(X,y)\n",
      "File \u001b[0;32m~/Desktop/WN-BCI/analysis/../modeling.py:22\u001b[0m, in \u001b[0;36mCode2EEG.__init__\u001b[0;34m(self, S, srate, winLEN, tmin, tmax, estimator, scoring, padding, n_band, component)\u001b[0m\n\u001b[1;32m     19\u001b[0m \u001b[39mself\u001b[39m\u001b[39m.\u001b[39mpadding \u001b[39m=\u001b[39m padding\n\u001b[1;32m     20\u001b[0m \u001b[39mself\u001b[39m\u001b[39m.\u001b[39mpadLEN \u001b[39m=\u001b[39m \u001b[39mint\u001b[39m(\u001b[39m0.2\u001b[39m\u001b[39m*\u001b[39msrate) \u001b[39mif\u001b[39;00m \u001b[39mself\u001b[39m\u001b[39m.\u001b[39mpadding \u001b[39melse\u001b[39;00m \u001b[39m0\u001b[39m\n\u001b[0;32m---> 22\u001b[0m \u001b[39mself\u001b[39;49m\u001b[39m.\u001b[39;49m_loadSTI(S)\n\u001b[1;32m     24\u001b[0m \u001b[39mpass\u001b[39;00m\n",
      "File \u001b[0;32m~/Desktop/WN-BCI/analysis/../modeling.py:33\u001b[0m, in \u001b[0;36mCode2EEG._loadSTI\u001b[0;34m(self, *S)\u001b[0m\n\u001b[1;32m     31\u001b[0m STI, y \u001b[39m=\u001b[39m S[\u001b[39m0\u001b[39m]\n\u001b[1;32m     32\u001b[0m \u001b[39mself\u001b[39m\u001b[39m.\u001b[39mmontage \u001b[39m=\u001b[39m np\u001b[39m.\u001b[39munique(y)\n\u001b[0;32m---> 33\u001b[0m \u001b[39mself\u001b[39m\u001b[39m.\u001b[39mSTI \u001b[39m=\u001b[39m np\u001b[39m.\u001b[39mstack([STI[y \u001b[39m==\u001b[39m i]\u001b[39m.\u001b[39mmean(axis\u001b[39m=\u001b[39m\u001b[39m0\u001b[39m) \u001b[39mfor\u001b[39;00m i \u001b[39min\u001b[39;00m \u001b[39mself\u001b[39m\u001b[39m.\u001b[39mmontage])\n\u001b[1;32m     34\u001b[0m \u001b[39mself\u001b[39m\u001b[39m.\u001b[39mSTI \u001b[39m=\u001b[39m zscore(\u001b[39mself\u001b[39m\u001b[39m.\u001b[39mSTI, axis\u001b[39m=\u001b[39m\u001b[39m-\u001b[39m\u001b[39m1\u001b[39m)\n\u001b[1;32m     35\u001b[0m \u001b[39mself\u001b[39m\u001b[39m.\u001b[39mSTI \u001b[39m=\u001b[39m \u001b[39mself\u001b[39m\u001b[39m.\u001b[39mSTI[:, :\u001b[39mself\u001b[39m\u001b[39m.\u001b[39mwinLEN]\n",
      "File \u001b[0;32m~/Desktop/WN-BCI/analysis/../modeling.py:33\u001b[0m, in \u001b[0;36m<listcomp>\u001b[0;34m(.0)\u001b[0m\n\u001b[1;32m     31\u001b[0m STI, y \u001b[39m=\u001b[39m S[\u001b[39m0\u001b[39m]\n\u001b[1;32m     32\u001b[0m \u001b[39mself\u001b[39m\u001b[39m.\u001b[39mmontage \u001b[39m=\u001b[39m np\u001b[39m.\u001b[39munique(y)\n\u001b[0;32m---> 33\u001b[0m \u001b[39mself\u001b[39m\u001b[39m.\u001b[39mSTI \u001b[39m=\u001b[39m np\u001b[39m.\u001b[39mstack([STI[y \u001b[39m==\u001b[39;49m i]\u001b[39m.\u001b[39mmean(axis\u001b[39m=\u001b[39m\u001b[39m0\u001b[39m) \u001b[39mfor\u001b[39;00m i \u001b[39min\u001b[39;00m \u001b[39mself\u001b[39m\u001b[39m.\u001b[39mmontage])\n\u001b[1;32m     34\u001b[0m \u001b[39mself\u001b[39m\u001b[39m.\u001b[39mSTI \u001b[39m=\u001b[39m zscore(\u001b[39mself\u001b[39m\u001b[39m.\u001b[39mSTI, axis\u001b[39m=\u001b[39m\u001b[39m-\u001b[39m\u001b[39m1\u001b[39m)\n\u001b[1;32m     35\u001b[0m \u001b[39mself\u001b[39m\u001b[39m.\u001b[39mSTI \u001b[39m=\u001b[39m \u001b[39mself\u001b[39m\u001b[39m.\u001b[39mSTI[:, :\u001b[39mself\u001b[39m\u001b[39m.\u001b[39mwinLEN]\n",
      "\u001b[0;31mTypeError\u001b[0m: only integer scalar arrays can be converted to a scalar index"
     ]
    }
   ],
   "source": [
    "from modeling import Code2EEG\n",
    "code2EEG = Code2EEG(srate=srate,winLEN=winLEN,tmin=tmin,tmax=tmax,S=(S,np.unique(y)),estimator=0.98,padding=True,n_band=1,component=1)\n",
    "code2EEG.fit(X,y)"
   ]
  },
  {
   "cell_type": "code",
   "execution_count": null,
   "metadata": {},
   "outputs": [
    {
     "data": {
      "text/plain": [
       "[<matplotlib.lines.Line2D at 0x182d21580>]"
      ]
     },
     "execution_count": 6,
     "metadata": {},
     "output_type": "execute_result"
    },
    {
     "data": {
      "image/png": "[encoded data removed]",
      "text/plain": [
       "<Figure size 432x288 with 1 Axes>"
      ]
     },
     "metadata": {
      "needs_background": "light"
     },
     "output_type": "display_data"
    }
   ],
   "source": [
    "plt.plot(code2EEG.trf[0])"
   ]
  },
  {
   "cell_type": "code",
   "execution_count": null,
   "metadata": {},
   "outputs": [],
   "source": []
  }
 ],
 "metadata": {
  "kernelspec": {
   "display_name": "eelbrain",
   "language": "python",
   "name": "python3"
  },
  "language_info": {
   "codemirror_mode": {
    "name": "ipython",
    "version": 3
   },
   "file_extension": ".py",
   "mimetype": "text/x-python",
   "name": "python",
   "nbconvert_exporter": "python",
   "pygments_lexer": "ipython3",
   "version": "3.9.13"
  },
  "orig_nbformat": 4,
  "vscode": {
   "interpreter": {
    "hash": "e1e6601d3d5e08f0ff723772ef0570f718c29c9a940fb87185d26815e38155cd"
   }
  }
 },
 "nbformat": 4,
 "nbformat_minor": 2
}
