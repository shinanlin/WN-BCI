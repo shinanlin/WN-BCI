{
 "cells": [
  {
   "cell_type": "code",
   "execution_count": 167,
   "metadata": {},
   "outputs": [],
   "source": [
    "import matplotlib.patches as patches\n",
    "import sys\n",
    "sys.path.append('..')\n",
    "sys.path.append('.')\n",
    "from scipy.signal import correlate\n",
    "from matplotlib.ticker import FuncFormatter, MultipleLocator\n",
    "import matplotlib.pyplot as plt\n",
    "import pickle\n",
    "import seaborn as sns\n",
    "from tqdm import tqdm\n",
    "import random\n",
    "import argparse\n",
    "import math\n",
    "import os\n",
    "import scipy.io as scio\n",
    "from scipy.signal import find_peaks\n",
    "import numpy as np\n",
    "from scipy import signal\n",
    "import pandas as pd\n",
    "import imageio\n"
   ]
  },
  {
   "attachments": {},
   "cell_type": "markdown",
   "metadata": {},
   "source": [
    "# Make sequence"
   ]
  },
  {
   "cell_type": "code",
   "execution_count": 168,
   "metadata": {},
   "outputs": [
    {
     "data": {
      "text/plain": [
       "(240,)"
      ]
     },
     "execution_count": 168,
     "metadata": {},
     "output_type": "execute_result"
    }
   ],
   "source": [
    "T = 1\n",
    "refreshRate = 60\n",
    "srate=240\n",
    "\n",
    "N = int(T*refreshRate)\n",
    "targetN = 40\n",
    "\n",
    "colNUM = 8\n",
    "rowNUM = 5\n",
    "\n",
    "cubicSize = 140\n",
    "interval = 50\n",
    "\n",
    "res_x,res_y = 1600,1200\n",
    "initWidth, initHeight = 65, 120\n",
    "\n",
    "freqs = freqs = np.linspace(8.0, 15.8, 40)\n",
    "phase = [i * np.pi for i in np.tile(np.arange(0, 2+0.5, 0.5),8)]\n",
    "ts = np.arange(0, T, step=1/refreshRate)\n",
    "Ns = np.arange(0, T, step=1/srate)\n",
    "Ns.shape"
   ]
  },
  {
   "cell_type": "code",
   "execution_count": 169,
   "metadata": {},
   "outputs": [
    {
     "data": {
      "text/plain": [
       "(40, 240)"
      ]
     },
     "execution_count": 169,
     "metadata": {},
     "output_type": "execute_result"
    }
   ],
   "source": [
    "np.random.seed(253)\n",
    "WN = np.random.random((targetN,N))\n",
    "SSVEP = np.stack([[np.sin(2*np.pi*f*t+omega) for t in ts]\n",
    "             for (f, omega) in zip(freqs, phase)])/2+0.5\n",
    "\n",
    "upWN = np.repeat(WN, srate//refreshRate, axis=-1)\n",
    "upSSVEP = np.repeat(SSVEP, srate//refreshRate, axis=-1)\n",
    "upWN.shape"
   ]
  },
  {
   "cell_type": "code",
   "execution_count": 170,
   "metadata": {},
   "outputs": [],
   "source": [
    "positions = []\n",
    "for colINX in range(colNUM):\n",
    "    for rowINX in range(rowNUM):\n",
    "        # 左下角\n",
    "        x = colINX*(cubicSize+interval)+initWidth\n",
    "        y = (rowNUM-rowINX-1)*(cubicSize+interval)+initHeight\n",
    "\n",
    "        x = x/res_x\n",
    "        y = y/res_y\n",
    "\n",
    "        positions.append((x,y))"
   ]
  },
  {
   "cell_type": "code",
   "execution_count": 171,
   "metadata": {},
   "outputs": [
    {
     "name": "stderr",
     "output_type": "stream",
     "text": [
      "60it [01:11,  1.20s/it]\n"
     ]
    }
   ],
   "source": [
    "\n",
    "for i,(wnV,ssvepV) in tqdm(enumerate(zip(WN.T,SSVEP.T))):\n",
    "\n",
    "    sns.set_theme(style='ticks')\n",
    "\n",
    "    fig = plt.figure(figsize=(2*res_x/100, (res_y+500)/100))\n",
    "\n",
    "    plt.subplots_adjust(wspace=10, hspace=5)\n",
    "    ax11 = plt.subplot2grid((10, 20), (0, 0), colspan=10, rowspan=7)\n",
    "    ax12 = plt.subplot2grid((10, 20), (7, 0), colspan=10, rowspan=3)\n",
    "\n",
    "    ax21 = plt.subplot2grid((10, 20), (0, 10), colspan=10, rowspan=7)\n",
    "    ax22 = plt.subplot2grid((10, 20), (7, 10), colspan=10, rowspan=3)\n",
    "\n",
    "    ax11.xaxis.set_major_locator(plt.NullLocator())\n",
    "    ax11.yaxis.set_major_locator(plt.NullLocator())\n",
    "    ax21.xaxis.set_major_locator(plt.NullLocator())\n",
    "    ax21.yaxis.set_major_locator(plt.NullLocator())\n",
    "\n",
    "    ax11.axis('off')\n",
    "    ax21.axis('off')\n",
    "\n",
    "    ax11.set_title('Broadband',fontsize=40)\n",
    "    ax21.set_title('Narrowband',fontsize=40)\n",
    "\n",
    "\n",
    "    for pos_i,pos in enumerate(positions):\n",
    "\n",
    "        target = patches.Rectangle(pos,\n",
    "                                cubicSize/res_x, cubicSize/res_y,\n",
    "                                linewidth=1, facecolor=[wnV[pos_i], wnV[pos_i], wnV[pos_i]])\n",
    "\n",
    "        ax11.add_patch(target)\n",
    "\n",
    "\n",
    "    for pos_i,pos in enumerate(positions):\n",
    "\n",
    "        target = patches.Rectangle(pos,\n",
    "                                cubicSize/res_x, cubicSize/res_y,\n",
    "                                linewidth=1, facecolor=[ssvepV[pos_i], ssvepV[pos_i], ssvepV[pos_i]])\n",
    "\n",
    "        ax21.add_patch(target)\n",
    "\n",
    "    cue = patches.Rectangle(positions[0],\n",
    "                            (cubicSize)/res_x, (cubicSize)/res_y,\n",
    "                            linewidth=5, facecolor='none',edgecolor='red')\n",
    "\n",
    "    ax11.add_patch(cue)\n",
    "    cue = patches.Rectangle(positions[0],\n",
    "                            (cubicSize)/res_x, (cubicSize)/res_y,\n",
    "                            linewidth=5, facecolor='none', edgecolor='red')\n",
    "    ax21.add_patch(cue)\n",
    "\n",
    "    ax12.plot(Ns,upWN[0],linewidth=5)\n",
    "    ax22.plot(Ns, upSSVEP[0], linewidth=5)\n",
    "\n",
    "    ax12.axvline(x=Ns[i*4], color='red', linewidth=3)\n",
    "    ax22.axvline(x=Ns[i*4], color='red', linewidth=3)\n",
    "    ax12.scatter([Ns[i*4]], [upWN[0, i*4]], color='red', s=500)\n",
    "    ax22.scatter([Ns[i*4]], [upSSVEP[0, i*4]], color='red', s=500)\n",
    "\n",
    "    for ax in [ax12,ax22]:\n",
    "        ax.tick_params(labelsize=30, width=0.5, length=2, which='major')\n",
    "        plt.setp(ax.spines.values(), linewidth=5)\n",
    "        ax.set_xlabel('Time(s)',fontsize=35)\n",
    "\n",
    "    sns.despine()\n",
    "    plt.savefig('frames/%s.png' % i, dpi=100,\n",
    "                format='png', bbox_inches='tight')\n",
    "    plt.close()\n",
    "    # break\n"
   ]
  },
  {
   "cell_type": "code",
   "execution_count": 172,
   "metadata": {},
   "outputs": [],
   "source": [
    "import cv2\n",
    "import numpy as np\n",
    "import glob\n",
    "\n",
    "img_array = []\n",
    "\n",
    "fps = 60.0\n",
    "filenames = os.listdir('frames')\n",
    "filenames.sort(key=lambda x: int(x[:-4]))\n",
    "\n",
    "for filename in filenames:\n",
    "    img = cv2.imread('frames'+os.sep+filename)\n",
    "    height, width, layers = img.shape\n",
    "    size = (width, height)\n",
    "    img_array.append(img)\n",
    "\n",
    "fourcc = cv2.VideoWriter_fourcc(*'XVID')\n",
    "# fourcc = cv2.VideoWriter_fourcc(*'mp4v')\n",
    "out = cv2.VideoWriter('project.avi', fourcc, fps,size)\n",
    "\n",
    "for i in range(len(img_array)):\n",
    "    out.write(img_array[i])\n",
    "out.release()\n"
   ]
  },
  {
   "cell_type": "code",
   "execution_count": null,
   "metadata": {},
   "outputs": [],
   "source": []
  }
 ],
 "metadata": {
  "kernelspec": {
   "display_name": "eelbrain",
   "language": "python",
   "name": "python3"
  },
  "language_info": {
   "codemirror_mode": {
    "name": "ipython",
    "version": 3
   },
   "file_extension": ".py",
   "mimetype": "text/x-python",
   "name": "python",
   "nbconvert_exporter": "python",
   "pygments_lexer": "ipython3",
   "version": "3.9.13"
  },
  "orig_nbformat": 4,
  "vscode": {
   "interpreter": {
    "hash": "e1e6601d3d5e08f0ff723772ef0570f718c29c9a940fb87185d26815e38155cd"
   }
  }
 },
 "nbformat": 4,
 "nbformat_minor": 2
}
