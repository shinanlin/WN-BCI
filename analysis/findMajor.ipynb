{
 "cells": [
  {
   "cell_type": "code",
   "execution_count": 3,
   "metadata": {},
   "outputs": [],
   "source": [
    "from matplotlib import ticker\n",
    "import sys\n",
    "sys.path.append('..')\n",
    "from sklearn.model_selection import train_test_split\n",
    "\n",
    "import numpy as np\n",
    "import pickle\n",
    "from scipy.io import savemat\n",
    "from scipy.io import loadmat\n",
    "import matplotlib.pyplot as plt\n",
    "import seaborn as sns\n",
    "from matplotlib.gridspec import GridSpec\n",
    "from tqdm import tqdm\n",
    "import random\n",
    "from matplotlib import ticker\n",
    "from modeling  import Code2EEG\n",
    "from utils import codeDistance\n",
    "import pandas as pd\n",
    "import os"
   ]
  },
  {
   "cell_type": "markdown",
   "metadata": {},
   "source": [
    "# Define the problem"
   ]
  },
  {
   "cell_type": "code",
   "execution_count": 19,
   "metadata": {},
   "outputs": [
    {
     "data": {
      "text/html": [
       "<div>\n",
       "<style scoped>\n",
       "    .dataframe tbody tr th:only-of-type {\n",
       "        vertical-align: middle;\n",
       "    }\n",
       "\n",
       "    .dataframe tbody tr th {\n",
       "        vertical-align: top;\n",
       "    }\n",
       "\n",
       "    .dataframe thead th {\n",
       "        text-align: right;\n",
       "    }\n",
       "</style>\n",
       "<table border=\"1\" class=\"dataframe\">\n",
       "  <thead>\n",
       "    <tr style=\"text-align: right;\">\n",
       "      <th></th>\n",
       "      <th>Unnamed: 0</th>\n",
       "      <th>class-1</th>\n",
       "      <th>class-2</th>\n",
       "      <th>coef</th>\n",
       "      <th>label-1</th>\n",
       "      <th>label-2</th>\n",
       "      <th>predicted</th>\n",
       "      <th>correct</th>\n",
       "      <th>p</th>\n",
       "      <th>seed</th>\n",
       "      <th>cv</th>\n",
       "      <th>accuracy</th>\n",
       "      <th>subject</th>\n",
       "    </tr>\n",
       "  </thead>\n",
       "  <tbody>\n",
       "    <tr>\n",
       "      <th>0</th>\n",
       "      <td>0</td>\n",
       "      <td>0</td>\n",
       "      <td>0</td>\n",
       "      <td>0.378506</td>\n",
       "      <td>2</td>\n",
       "      <td>2</td>\n",
       "      <td>147</td>\n",
       "      <td>False</td>\n",
       "      <td>0.024282</td>\n",
       "      <td>0</td>\n",
       "      <td>0</td>\n",
       "      <td>0.6</td>\n",
       "      <td>chenyuzhen</td>\n",
       "    </tr>\n",
       "    <tr>\n",
       "      <th>1</th>\n",
       "      <td>1</td>\n",
       "      <td>1</td>\n",
       "      <td>0</td>\n",
       "      <td>0.210989</td>\n",
       "      <td>8</td>\n",
       "      <td>2</td>\n",
       "      <td>8</td>\n",
       "      <td>True</td>\n",
       "      <td>0.020134</td>\n",
       "      <td>0</td>\n",
       "      <td>0</td>\n",
       "      <td>0.6</td>\n",
       "      <td>chenyuzhen</td>\n",
       "    </tr>\n",
       "    <tr>\n",
       "      <th>2</th>\n",
       "      <td>2</td>\n",
       "      <td>2</td>\n",
       "      <td>0</td>\n",
       "      <td>-0.002221</td>\n",
       "      <td>11</td>\n",
       "      <td>2</td>\n",
       "      <td>11</td>\n",
       "      <td>True</td>\n",
       "      <td>0.007920</td>\n",
       "      <td>0</td>\n",
       "      <td>0</td>\n",
       "      <td>0.6</td>\n",
       "      <td>chenyuzhen</td>\n",
       "    </tr>\n",
       "    <tr>\n",
       "      <th>3</th>\n",
       "      <td>3</td>\n",
       "      <td>3</td>\n",
       "      <td>0</td>\n",
       "      <td>-0.024019</td>\n",
       "      <td>12</td>\n",
       "      <td>2</td>\n",
       "      <td>137</td>\n",
       "      <td>False</td>\n",
       "      <td>0.011909</td>\n",
       "      <td>0</td>\n",
       "      <td>0</td>\n",
       "      <td>0.6</td>\n",
       "      <td>chenyuzhen</td>\n",
       "    </tr>\n",
       "    <tr>\n",
       "      <th>4</th>\n",
       "      <td>4</td>\n",
       "      <td>4</td>\n",
       "      <td>0</td>\n",
       "      <td>-0.146106</td>\n",
       "      <td>19</td>\n",
       "      <td>2</td>\n",
       "      <td>19</td>\n",
       "      <td>True</td>\n",
       "      <td>0.014364</td>\n",
       "      <td>0</td>\n",
       "      <td>0</td>\n",
       "      <td>0.6</td>\n",
       "      <td>chenyuzhen</td>\n",
       "    </tr>\n",
       "  </tbody>\n",
       "</table>\n",
       "</div>"
      ],
      "text/plain": [
       "   Unnamed: 0  class-1  class-2      coef  label-1  label-2  predicted  \\\n",
       "0           0        0        0  0.378506        2        2        147   \n",
       "1           1        1        0  0.210989        8        2          8   \n",
       "2           2        2        0 -0.002221       11        2         11   \n",
       "3           3        3        0 -0.024019       12        2        137   \n",
       "4           4        4        0 -0.146106       19        2         19   \n",
       "\n",
       "   correct         p  seed  cv  accuracy     subject  \n",
       "0    False  0.024282     0   0       0.6  chenyuzhen  \n",
       "1     True  0.020134     0   0       0.6  chenyuzhen  \n",
       "2     True  0.007920     0   0       0.6  chenyuzhen  \n",
       "3    False  0.011909     0   0       0.6  chenyuzhen  \n",
       "4     True  0.014364     0   0       0.6  chenyuzhen  "
      ]
     },
     "execution_count": 19,
     "metadata": {},
     "output_type": "execute_result"
    }
   ],
   "source": [
    "factor = []\n",
    "add = '../results/sweep'\n",
    "subs = os.listdir(add)\n",
    "subs.remove('.DS_Store')\n",
    "saveFILE = 'factors.csv'\n",
    "\n",
    "for sub in subs:\n",
    "    subFolder = add+os.sep+sub \n",
    "    s = subFolder+os.sep+saveFILE\n",
    "    if os.path.exists(s):\n",
    "        # random\n",
    "        f = pd.read_csv(subFolder+os.sep+saveFILE)\n",
    "        factor.append(f)\n",
    "        \n",
    "factor = pd.concat(factor,ignore_index=True)\n",
    "factor.head()"
   ]
  },
  {
   "cell_type": "markdown",
   "metadata": {},
   "source": [
    "## 160 $\\times$ 160 confusion matrix"
   ]
  },
  {
   "cell_type": "code",
   "execution_count": 20,
   "metadata": {},
   "outputs": [],
   "source": [
    "f,ax = plt.subplots(1,1,figsize=(10,8.3))\n",
    "\n",
    "heats = factor.pivot_table(index='label-1',columns='label-2',values='coef')\n",
    "sns.heatmap(heats,cmap='vlag',ax=ax)\n",
    "\n",
    "\n",
    "ax.xaxis.set_major_locator(ticker.MultipleLocator(20))\n",
    "ax.yaxis.set_major_locator(ticker.MultipleLocator(20))\n",
    "ax.xaxis.set_major_formatter(ticker.FixedFormatter(['No.%s'%s for s in np.arange(-20,180,20)]))\n",
    "ax.yaxis.set_major_formatter(ticker.FixedFormatter(['No.%s'%s for s in np.arange(-20,180,20)]))\n",
    "\n",
    "ax.set_xlabel('Sequence')\n",
    "ax.set_ylabel('Sequence')\n",
    "\n",
    "ax.set_title('TRCA Classification Coef')\n",
    "# f.savefig('../images/160times160.png',dpi=400)"
   ]
  },
  {
   "cell_type": "markdown",
   "metadata": {},
   "source": [
    "## 40 $\\times$ 40 codeset comparasion"
   ]
  },
  {
   "cell_type": "code",
   "execution_count": 18,
   "metadata": {},
   "outputs": [
    {
     "ename": "NameError",
     "evalue": "name 'factor' is not defined",
     "output_type": "error",
     "traceback": [
      "\u001b[0;31m---------------------------------------------------------------------------\u001b[0m",
      "\u001b[0;31mNameError\u001b[0m                                 Traceback (most recent call last)",
      "\u001b[0;32m/var/folders/z8/m0rtcw1d0g37chf76qrvr9pw0000gn/T/ipykernel_74363/2767341415.py\u001b[0m in \u001b[0;36m<module>\u001b[0;34m\u001b[0m\n\u001b[1;32m      5\u001b[0m \u001b[0msub\u001b[0m \u001b[0;34m=\u001b[0m \u001b[0;34m'miaoyining'\u001b[0m\u001b[0;34m\u001b[0m\u001b[0;34m\u001b[0m\u001b[0m\n\u001b[1;32m      6\u001b[0m \u001b[0;34m\u001b[0m\u001b[0m\n\u001b[0;32m----> 7\u001b[0;31m \u001b[0msubRank\u001b[0m \u001b[0;34m=\u001b[0m \u001b[0mfactor\u001b[0m\u001b[0;34m[\u001b[0m\u001b[0;34m(\u001b[0m\u001b[0mfactor\u001b[0m\u001b[0;34m.\u001b[0m\u001b[0msubject\u001b[0m \u001b[0;34m==\u001b[0m \u001b[0msub\u001b[0m\u001b[0;34m)\u001b[0m\u001b[0;34m]\u001b[0m\u001b[0;34m\u001b[0m\u001b[0;34m\u001b[0m\u001b[0m\n\u001b[0m\u001b[1;32m      8\u001b[0m \u001b[0;34m\u001b[0m\u001b[0m\n\u001b[1;32m      9\u001b[0m \u001b[0mc1\u001b[0m \u001b[0;34m=\u001b[0m \u001b[0;36m35\u001b[0m\u001b[0;34m\u001b[0m\u001b[0;34m\u001b[0m\u001b[0m\n",
      "\u001b[0;31mNameError\u001b[0m: name 'factor' is not defined"
     ]
    },
    {
     "data": {
      "image/png": "[encoded data removed]",
      "text/plain": [
       "<Figure size 1152x432 with 2 Axes>"
      ]
     },
     "metadata": {
      "needs_background": "light"
     },
     "output_type": "display_data"
    }
   ],
   "source": [
    "plt.rcParams['text.usetex'] = True\n",
    "\n",
    "f, (ax1,ax2) = plt.subplots(1, 2, figsize=(16, 6))\n",
    "\n",
    "sub = 'miaoyining'\n",
    "\n",
    "subRank = factor[(factor.subject == sub)]\n",
    "\n",
    "c1 = 35\n",
    "heats = subRank[subRank.seed == c1].pivot_table(index='class-1', columns='class-2', values='coef')\n",
    "mask  = subRank[subRank.seed == c1].pivot_table(\n",
    "    index='class-1', columns='class-2', values='correct')\n",
    "\n",
    "sns.heatmap(heats, cmap='vlag', ax=ax1, vmax=1, vmin=0.5)\n",
    "ax1.set_title('Codeset-1:%.2f'%subRank[subRank.seed == c1].accuracy.mean())\n",
    "\n",
    "c2 = 81\n",
    "heats = subRank[subRank.seed == c2].pivot_table(\n",
    "    index='class-1', columns='class-2', values='coef')\n",
    "mask  = subRank[subRank.seed == c2].pivot_table(\n",
    "    index='class-1', columns='class-2', values='correct')\n",
    "\n",
    "sns.heatmap(heats, cmap='vlag', ax=ax2,vmax=1,vmin=0.5)\n",
    "ax2.set_title('Codeset-2:%.2f' % subRank[subRank.seed == c2].accuracy.mean())\n",
    "\n",
    "ax1.set_xlabel('Class')\n",
    "ax1.set_ylabel('Class')\n",
    "ax2.set_xlabel('Class')\n",
    "ax2.set_ylabel('Class')\n",
    "\n",
    "ax1.xaxis.set_major_locator(ticker.MultipleLocator(10))\n",
    "ax1.yaxis.set_major_locator(ticker.MultipleLocator(10))\n",
    "ax1.xaxis.set_major_formatter(ticker.FixedFormatter(\n",
    "    ['No.%s' % s for s in np.arange(-10, 50, 10)]))\n",
    "ax1.yaxis.set_major_formatter(ticker.FixedFormatter(\n",
    "    ['No.%s' % s for s in np.arange(-10, 50, 10)]))\n",
    "\n",
    "\n",
    "ax2.xaxis.set_major_locator(ticker.MultipleLocator(10))\n",
    "ax2.yaxis.set_major_locator(ticker.MultipleLocator(10))\n",
    "ax2.xaxis.set_major_formatter(ticker.FixedFormatter(\n",
    "    ['No.%s' % s for s in np.arange(-10, 50, 10)]))\n",
    "ax2.yaxis.set_major_formatter(ticker.FixedFormatter(\n",
    "    ['No.%s' % s for s in np.arange(-10, 50, 10)]))\n",
    "\n",
    "# plt.tight_layout()\n",
    "plt.suptitle('Two codeset options')\n",
    "\n",
    "f.savefig('../images/contradict.png',dpi=400)"
   ]
  },
  {
   "cell_type": "markdown",
   "metadata": {},
   "source": [
    "# Extract regression relation"
   ]
  },
  {
   "cell_type": "code",
   "execution_count": 60,
   "metadata": {},
   "outputs": [
    {
     "name": "stderr",
     "output_type": "stream",
     "text": [
      "100%|██████████| 5/5 [01:39<00:00, 19.98s/it]\n"
     ]
    },
    {
     "data": {
      "text/html": [
       "<div>\n",
       "<style scoped>\n",
       "    .dataframe tbody tr th:only-of-type {\n",
       "        vertical-align: middle;\n",
       "    }\n",
       "\n",
       "    .dataframe tbody tr th {\n",
       "        vertical-align: top;\n",
       "    }\n",
       "\n",
       "    .dataframe thead th {\n",
       "        text-align: right;\n",
       "    }\n",
       "</style>\n",
       "<table border=\"1\" class=\"dataframe\">\n",
       "  <thead>\n",
       "    <tr style=\"text-align: right;\">\n",
       "      <th></th>\n",
       "      <th>p</th>\n",
       "      <th>cv</th>\n",
       "      <th>class</th>\n",
       "      <th>seed</th>\n",
       "      <th>score</th>\n",
       "      <th>skew</th>\n",
       "      <th>kurt</th>\n",
       "      <th>ave</th>\n",
       "      <th>std</th>\n",
       "      <th>mp</th>\n",
       "      <th>zstd</th>\n",
       "      <th>subject</th>\n",
       "    </tr>\n",
       "  </thead>\n",
       "  <tbody>\n",
       "    <tr>\n",
       "      <th>0</th>\n",
       "      <td>0.291961</td>\n",
       "      <td>0</td>\n",
       "      <td>0</td>\n",
       "      <td>0</td>\n",
       "      <td>0.6</td>\n",
       "      <td>2.255971</td>\n",
       "      <td>5.154871</td>\n",
       "      <td>0.113567</td>\n",
       "      <td>0.164909</td>\n",
       "      <td>0.178394</td>\n",
       "      <td>0.164909</td>\n",
       "      <td>chenyuzhen</td>\n",
       "    </tr>\n",
       "    <tr>\n",
       "      <th>1</th>\n",
       "      <td>0.043587</td>\n",
       "      <td>0</td>\n",
       "      <td>1</td>\n",
       "      <td>0</td>\n",
       "      <td>0.6</td>\n",
       "      <td>2.255971</td>\n",
       "      <td>5.154871</td>\n",
       "      <td>0.113567</td>\n",
       "      <td>0.164909</td>\n",
       "      <td>-0.069980</td>\n",
       "      <td>0.164909</td>\n",
       "      <td>chenyuzhen</td>\n",
       "    </tr>\n",
       "    <tr>\n",
       "      <th>2</th>\n",
       "      <td>0.087736</td>\n",
       "      <td>0</td>\n",
       "      <td>2</td>\n",
       "      <td>0</td>\n",
       "      <td>0.6</td>\n",
       "      <td>2.255971</td>\n",
       "      <td>5.154871</td>\n",
       "      <td>0.113567</td>\n",
       "      <td>0.164909</td>\n",
       "      <td>-0.025831</td>\n",
       "      <td>0.164909</td>\n",
       "      <td>chenyuzhen</td>\n",
       "    </tr>\n",
       "    <tr>\n",
       "      <th>3</th>\n",
       "      <td>0.495420</td>\n",
       "      <td>0</td>\n",
       "      <td>3</td>\n",
       "      <td>0</td>\n",
       "      <td>0.6</td>\n",
       "      <td>2.255971</td>\n",
       "      <td>5.154871</td>\n",
       "      <td>0.113567</td>\n",
       "      <td>0.164909</td>\n",
       "      <td>0.381853</td>\n",
       "      <td>0.164909</td>\n",
       "      <td>chenyuzhen</td>\n",
       "    </tr>\n",
       "    <tr>\n",
       "      <th>4</th>\n",
       "      <td>0.010606</td>\n",
       "      <td>0</td>\n",
       "      <td>4</td>\n",
       "      <td>0</td>\n",
       "      <td>0.6</td>\n",
       "      <td>2.255971</td>\n",
       "      <td>5.154871</td>\n",
       "      <td>0.113567</td>\n",
       "      <td>0.164909</td>\n",
       "      <td>-0.102961</td>\n",
       "      <td>0.164909</td>\n",
       "      <td>chenyuzhen</td>\n",
       "    </tr>\n",
       "  </tbody>\n",
       "</table>\n",
       "</div>"
      ],
      "text/plain": [
       "          p  cv  class  seed  score      skew      kurt       ave       std  \\\n",
       "0  0.291961   0      0     0    0.6  2.255971  5.154871  0.113567  0.164909   \n",
       "1  0.043587   0      1     0    0.6  2.255971  5.154871  0.113567  0.164909   \n",
       "2  0.087736   0      2     0    0.6  2.255971  5.154871  0.113567  0.164909   \n",
       "3  0.495420   0      3     0    0.6  2.255971  5.154871  0.113567  0.164909   \n",
       "4  0.010606   0      4     0    0.6  2.255971  5.154871  0.113567  0.164909   \n",
       "\n",
       "         mp      zstd     subject  \n",
       "0  0.178394  0.164909  chenyuzhen  \n",
       "1 -0.069980  0.164909  chenyuzhen  \n",
       "2 -0.025831  0.164909  chenyuzhen  \n",
       "3  0.381853  0.164909  chenyuzhen  \n",
       "4 -0.102961  0.164909  chenyuzhen  "
      ]
     },
     "execution_count": 60,
     "metadata": {},
     "output_type": "execute_result"
    }
   ],
   "source": [
    "from statsmodels.stats.weightstats import ttest_ind\n",
    "import copy\n",
    "\n",
    "reg = []\n",
    "\n",
    "for sub in tqdm(factor.subject.unique()):\n",
    "\n",
    "    subRank = factor[(factor.subject==sub)]\n",
    "\n",
    "    for cv in subRank.cv.unique():\n",
    "\n",
    "        for seed in subRank.seed.unique():\n",
    "            s = subRank[(subRank.seed==seed)&(subRank.cv==cv)]\n",
    "            score = s.accuracy.unique()[0]\n",
    "            s = s.pivot_table(index='label-1',columns='label-2',values='coef')\n",
    "            m = s.to_numpy()\n",
    "\n",
    "            frames = []\n",
    "\n",
    "            for i in np.arange(len(m)):\n",
    "                d = m[i,i]\n",
    "                m_ = copy.deepcopy(m)\n",
    "                m_[i,i] = None\n",
    "\n",
    "                _,p,_ = ttest_ind([d], m_[~np.isnan(m_)].flatten(), alternative='larger')\n",
    "                \n",
    "                f = pd.DataFrame({\n",
    "                    'p':[p],\n",
    "                    'cv':[cv],\n",
    "                    'class':[i],\n",
    "                    'seed':[seed],\n",
    "                    'score':[score]\n",
    "                })\n",
    "\n",
    "                frames.append(f)\n",
    "\n",
    "            frames = pd.concat(frames,ignore_index=True)\n",
    "            frames['skew'] = frames.p.skew()\n",
    "            frames['kurt'] = frames.p.kurt()\n",
    "            frames['ave'] = frames.p.mean()\n",
    "            frames['std'] = frames.p.std()\n",
    "            frames['mp'] = frames['p']-frames['p'].mean()\n",
    "            frames['zstd'] = frames['mp'].std()\n",
    "            frames['subject'] = sub\n",
    "\n",
    "            reg.append(frames)\n",
    "reg = pd.concat(reg,ignore_index=True)\n",
    "reg.head()\n"
   ]
  },
  {
   "cell_type": "code",
   "execution_count": 64,
   "metadata": {},
   "outputs": [
    {
     "name": "stdout",
     "output_type": "stream",
     "text": [
      "0.383\n"
     ]
    },
    {
     "data": {
      "image/png": "[encoded data removed]",
      "text/plain": [
       "<Figure size 360x360 with 3 Axes>"
      ]
     },
     "metadata": {},
     "output_type": "display_data"
    }
   ],
   "source": [
    "regAve = reg.groupby(['subject','seed'],as_index=False).mean()\n",
    "\n",
    "regAve['s'] = regAve['std']/regAve['ave']\n",
    "sns.set_theme(style='white')\n",
    "\n",
    "sub = 'chenyuzhen'\n",
    "from statsmodels.formula.api import ols\n",
    "model1 = ols('ave ~ score', data=regAve[regAve.subject == sub]).fit(\n",
    "    cov_type='HC3')\n",
    "\n",
    "g = sns.jointplot(data=regAve[(regAve.subject.isin([sub]))], x=\"ave\",\n",
    "                  y=\"score\", kind=\"reg\", height=5, ratio=3, marginal_kws=dict(bins=25, fill=True),)\n",
    "g.plot_marginals(sns.rugplot, color=\"r\", height=-.15, clip_on=False)\n",
    "\n",
    "print(round(model1.rsquared_adj, 3))"
   ]
  },
  {
   "cell_type": "markdown",
   "metadata": {},
   "source": [
    "# Use TDCA"
   ]
  },
  {
   "cell_type": "code",
   "execution_count": 4,
   "metadata": {},
   "outputs": [
    {
     "data": {
      "text/html": [
       "<div>\n",
       "<style scoped>\n",
       "    .dataframe tbody tr th:only-of-type {\n",
       "        vertical-align: middle;\n",
       "    }\n",
       "\n",
       "    .dataframe tbody tr th {\n",
       "        vertical-align: top;\n",
       "    }\n",
       "\n",
       "    .dataframe thead th {\n",
       "        text-align: right;\n",
       "    }\n",
       "</style>\n",
       "<table border=\"1\" class=\"dataframe\">\n",
       "  <thead>\n",
       "    <tr style=\"text-align: right;\">\n",
       "      <th></th>\n",
       "      <th>Unnamed: 0</th>\n",
       "      <th>class-1</th>\n",
       "      <th>class-2</th>\n",
       "      <th>coef</th>\n",
       "      <th>h</th>\n",
       "      <th>minmax</th>\n",
       "      <th>distance</th>\n",
       "      <th>label-1</th>\n",
       "      <th>label-2</th>\n",
       "      <th>seed</th>\n",
       "      <th>cv</th>\n",
       "      <th>accuracy</th>\n",
       "      <th>subject</th>\n",
       "    </tr>\n",
       "  </thead>\n",
       "  <tbody>\n",
       "    <tr>\n",
       "      <th>0</th>\n",
       "      <td>0</td>\n",
       "      <td>0</td>\n",
       "      <td>0</td>\n",
       "      <td>0.286932</td>\n",
       "      <td>NaN</td>\n",
       "      <td>-0.917044</td>\n",
       "      <td>7.232747</td>\n",
       "      <td>118</td>\n",
       "      <td>118</td>\n",
       "      <td>0</td>\n",
       "      <td>0</td>\n",
       "      <td>0.375</td>\n",
       "      <td>group</td>\n",
       "    </tr>\n",
       "    <tr>\n",
       "      <th>1</th>\n",
       "      <td>1</td>\n",
       "      <td>1</td>\n",
       "      <td>0</td>\n",
       "      <td>0.508632</td>\n",
       "      <td>0.839453</td>\n",
       "      <td>-0.917044</td>\n",
       "      <td>7.232747</td>\n",
       "      <td>115</td>\n",
       "      <td>118</td>\n",
       "      <td>0</td>\n",
       "      <td>0</td>\n",
       "      <td>0.375</td>\n",
       "      <td>group</td>\n",
       "    </tr>\n",
       "    <tr>\n",
       "      <th>2</th>\n",
       "      <td>2</td>\n",
       "      <td>2</td>\n",
       "      <td>0</td>\n",
       "      <td>-0.048273</td>\n",
       "      <td>0.316619</td>\n",
       "      <td>-0.917044</td>\n",
       "      <td>7.232747</td>\n",
       "      <td>33</td>\n",
       "      <td>118</td>\n",
       "      <td>0</td>\n",
       "      <td>0</td>\n",
       "      <td>0.375</td>\n",
       "      <td>group</td>\n",
       "    </tr>\n",
       "    <tr>\n",
       "      <th>3</th>\n",
       "      <td>3</td>\n",
       "      <td>3</td>\n",
       "      <td>0</td>\n",
       "      <td>-0.221754</td>\n",
       "      <td>0.174905</td>\n",
       "      <td>-0.917044</td>\n",
       "      <td>7.232747</td>\n",
       "      <td>157</td>\n",
       "      <td>118</td>\n",
       "      <td>0</td>\n",
       "      <td>0</td>\n",
       "      <td>0.375</td>\n",
       "      <td>group</td>\n",
       "    </tr>\n",
       "    <tr>\n",
       "      <th>4</th>\n",
       "      <td>4</td>\n",
       "      <td>4</td>\n",
       "      <td>0</td>\n",
       "      <td>-0.269258</td>\n",
       "      <td>0.144494</td>\n",
       "      <td>-0.917044</td>\n",
       "      <td>7.232747</td>\n",
       "      <td>132</td>\n",
       "      <td>118</td>\n",
       "      <td>0</td>\n",
       "      <td>0</td>\n",
       "      <td>0.375</td>\n",
       "      <td>group</td>\n",
       "    </tr>\n",
       "  </tbody>\n",
       "</table>\n",
       "</div>"
      ],
      "text/plain": [
       "   Unnamed: 0  class-1  class-2      coef         h    minmax  distance  \\\n",
       "0           0        0        0  0.286932       NaN -0.917044  7.232747   \n",
       "1           1        1        0  0.508632  0.839453 -0.917044  7.232747   \n",
       "2           2        2        0 -0.048273  0.316619 -0.917044  7.232747   \n",
       "3           3        3        0 -0.221754  0.174905 -0.917044  7.232747   \n",
       "4           4        4        0 -0.269258  0.144494 -0.917044  7.232747   \n",
       "\n",
       "   label-1  label-2  seed  cv  accuracy subject  \n",
       "0      118      118     0   0     0.375   group  \n",
       "1      115      118     0   0     0.375   group  \n",
       "2       33      118     0   0     0.375   group  \n",
       "3      157      118     0   0     0.375   group  \n",
       "4      132      118     0   0     0.375   group  "
      ]
     },
     "execution_count": 4,
     "metadata": {},
     "output_type": "execute_result"
    }
   ],
   "source": [
    "tdca = []\n",
    "add = '../results/sweep'\n",
    "subs = os.listdir(add)\n",
    "subs.remove('.DS_Store')\n",
    "saveFILE = 'tdca.csv'\n",
    "\n",
    "for sub in subs:\n",
    "    subFolder = add+os.sep+sub \n",
    "    s = subFolder+os.sep+saveFILE\n",
    "    if os.path.exists(s):\n",
    "        # random\n",
    "        f = pd.read_csv(subFolder+os.sep+saveFILE)\n",
    "        tdca.append(f)\n",
    "        \n",
    "tdca = pd.concat(tdca,ignore_index=True)\n",
    "tdca.head()"
   ]
  },
  {
   "cell_type": "code",
   "execution_count": 17,
   "metadata": {},
   "outputs": [
    {
     "name": "stderr",
     "output_type": "stream",
     "text": [
      "/var/folders/z8/m0rtcw1d0g37chf76qrvr9pw0000gn/T/ipykernel_74363/856884113.py:9: UserWarning: FixedFormatter should only be used together with FixedLocator\n",
      "  ax.xaxis.set_major_formatter(ticker.FixedFormatter(['No.%s'%s for s in np.arange(-20,180,20)]))\n",
      "/var/folders/z8/m0rtcw1d0g37chf76qrvr9pw0000gn/T/ipykernel_74363/856884113.py:10: UserWarning: FixedFormatter should only be used together with FixedLocator\n",
      "  ax.yaxis.set_major_formatter(ticker.FixedFormatter(['No.%s'%s for s in np.arange(-20,180,20)]))\n"
     ]
    },
    {
     "data": {
      "text/plain": [
       "Text(0.5, 1.0, 'TDCA Classification Coef')"
      ]
     },
     "execution_count": 17,
     "metadata": {},
     "output_type": "execute_result"
    },
    {
     "data": {
      "image/png": "[encoded data removed]",
      "text/plain": [
       "<Figure size 720x597.6 with 2 Axes>"
      ]
     },
     "metadata": {
      "needs_background": "light"
     },
     "output_type": "display_data"
    }
   ],
   "source": [
    "f,ax = plt.subplots(1,1,figsize=(10,8.3))\n",
    "\n",
    "heats = tdca.pivot_table(index='label-1', columns='label-2', values='coef')\n",
    "sns.heatmap(heats, cmap='vlag', ax=ax)\n",
    "\n",
    "\n",
    "ax.xaxis.set_major_locator(ticker.MultipleLocator(20))\n",
    "ax.yaxis.set_major_locator(ticker.MultipleLocator(20))\n",
    "ax.xaxis.set_major_formatter(ticker.FixedFormatter(['No.%s'%s for s in np.arange(-20,180,20)]))\n",
    "ax.yaxis.set_major_formatter(ticker.FixedFormatter(['No.%s'%s for s in np.arange(-20,180,20)]))\n",
    "\n",
    "ax.set_xlabel('Sequence')\n",
    "ax.set_ylabel('Sequence')\n",
    "\n",
    "ax.set_title('TDCA Classification Coef')\n",
    "# f.savefig('../images/160times160.png',dpi=400)"
   ]
  },
  {
   "cell_type": "code",
   "execution_count": 7,
   "metadata": {},
   "outputs": [
    {
     "data": {
      "text/html": [
       "<div>\n",
       "<style scoped>\n",
       "    .dataframe tbody tr th:only-of-type {\n",
       "        vertical-align: middle;\n",
       "    }\n",
       "\n",
       "    .dataframe tbody tr th {\n",
       "        vertical-align: top;\n",
       "    }\n",
       "\n",
       "    .dataframe thead th {\n",
       "        text-align: right;\n",
       "    }\n",
       "</style>\n",
       "<table border=\"1\" class=\"dataframe\">\n",
       "  <thead>\n",
       "    <tr style=\"text-align: right;\">\n",
       "      <th></th>\n",
       "      <th>subject</th>\n",
       "      <th>seed</th>\n",
       "      <th>class-1</th>\n",
       "      <th>class-2</th>\n",
       "      <th>Unnamed: 0</th>\n",
       "      <th>coef</th>\n",
       "      <th>h</th>\n",
       "      <th>minmax</th>\n",
       "      <th>distance</th>\n",
       "      <th>label-1</th>\n",
       "      <th>label-2</th>\n",
       "      <th>cv</th>\n",
       "      <th>accuracy</th>\n",
       "      <th>type</th>\n",
       "    </tr>\n",
       "  </thead>\n",
       "  <tbody>\n",
       "    <tr>\n",
       "      <th>0</th>\n",
       "      <td>chenyuzhen</td>\n",
       "      <td>0</td>\n",
       "      <td>0</td>\n",
       "      <td>0</td>\n",
       "      <td>2000000.0</td>\n",
       "      <td>0.861110</td>\n",
       "      <td>NaN</td>\n",
       "      <td>-1.006874</td>\n",
       "      <td>5.14271</td>\n",
       "      <td>70.833333</td>\n",
       "      <td>70.833333</td>\n",
       "      <td>2.5</td>\n",
       "      <td>0.333333</td>\n",
       "      <td>target</td>\n",
       "    </tr>\n",
       "    <tr>\n",
       "      <th>1</th>\n",
       "      <td>chenyuzhen</td>\n",
       "      <td>0</td>\n",
       "      <td>0</td>\n",
       "      <td>1</td>\n",
       "      <td>2000040.0</td>\n",
       "      <td>-0.396836</td>\n",
       "      <td>0.156101</td>\n",
       "      <td>-1.006874</td>\n",
       "      <td>5.14271</td>\n",
       "      <td>70.833333</td>\n",
       "      <td>75.500000</td>\n",
       "      <td>2.5</td>\n",
       "      <td>0.333333</td>\n",
       "      <td>distractor</td>\n",
       "    </tr>\n",
       "    <tr>\n",
       "      <th>2</th>\n",
       "      <td>chenyuzhen</td>\n",
       "      <td>0</td>\n",
       "      <td>0</td>\n",
       "      <td>2</td>\n",
       "      <td>2000080.0</td>\n",
       "      <td>0.217621</td>\n",
       "      <td>0.466213</td>\n",
       "      <td>-1.006874</td>\n",
       "      <td>5.14271</td>\n",
       "      <td>70.833333</td>\n",
       "      <td>86.333333</td>\n",
       "      <td>2.5</td>\n",
       "      <td>0.333333</td>\n",
       "      <td>distractor</td>\n",
       "    </tr>\n",
       "    <tr>\n",
       "      <th>3</th>\n",
       "      <td>chenyuzhen</td>\n",
       "      <td>0</td>\n",
       "      <td>0</td>\n",
       "      <td>3</td>\n",
       "      <td>2000120.0</td>\n",
       "      <td>0.240253</td>\n",
       "      <td>0.477324</td>\n",
       "      <td>-1.006874</td>\n",
       "      <td>5.14271</td>\n",
       "      <td>70.833333</td>\n",
       "      <td>86.000000</td>\n",
       "      <td>2.5</td>\n",
       "      <td>0.333333</td>\n",
       "      <td>distractor</td>\n",
       "    </tr>\n",
       "    <tr>\n",
       "      <th>4</th>\n",
       "      <td>chenyuzhen</td>\n",
       "      <td>0</td>\n",
       "      <td>0</td>\n",
       "      <td>4</td>\n",
       "      <td>2000160.0</td>\n",
       "      <td>0.206784</td>\n",
       "      <td>0.444293</td>\n",
       "      <td>-1.006874</td>\n",
       "      <td>5.14271</td>\n",
       "      <td>70.833333</td>\n",
       "      <td>77.333333</td>\n",
       "      <td>2.5</td>\n",
       "      <td>0.333333</td>\n",
       "      <td>distractor</td>\n",
       "    </tr>\n",
       "  </tbody>\n",
       "</table>\n",
       "</div>"
      ],
      "text/plain": [
       "      subject  seed  class-1  class-2  Unnamed: 0      coef         h  \\\n",
       "0  chenyuzhen     0        0        0   2000000.0  0.861110       NaN   \n",
       "1  chenyuzhen     0        0        1   2000040.0 -0.396836  0.156101   \n",
       "2  chenyuzhen     0        0        2   2000080.0  0.217621  0.466213   \n",
       "3  chenyuzhen     0        0        3   2000120.0  0.240253  0.477324   \n",
       "4  chenyuzhen     0        0        4   2000160.0  0.206784  0.444293   \n",
       "\n",
       "     minmax  distance    label-1    label-2   cv  accuracy        type  \n",
       "0 -1.006874   5.14271  70.833333  70.833333  2.5  0.333333      target  \n",
       "1 -1.006874   5.14271  70.833333  75.500000  2.5  0.333333  distractor  \n",
       "2 -1.006874   5.14271  70.833333  86.333333  2.5  0.333333  distractor  \n",
       "3 -1.006874   5.14271  70.833333  86.000000  2.5  0.333333  distractor  \n",
       "4 -1.006874   5.14271  70.833333  77.333333  2.5  0.333333  distractor  "
      ]
     },
     "execution_count": 7,
     "metadata": {},
     "output_type": "execute_result"
    }
   ],
   "source": [
    "Ave = tdca.groupby(['subject','seed','class-1','class-2'],as_index=False).mean()\n",
    "Ave['type'] = 'target'\n",
    "Ave.loc[Ave['class-1']!=Ave['class-2'],'type']='distractor'\n",
    "Ave.head()"
   ]
  },
  {
   "cell_type": "code",
   "execution_count": 7,
   "metadata": {},
   "outputs": [
    {
     "name": "stderr",
     "output_type": "stream",
     "text": [
      "/var/folders/z8/m0rtcw1d0g37chf76qrvr9pw0000gn/T/ipykernel_79621/3572047814.py:12: UserWarning: FixedFormatter should only be used together with FixedLocator\n",
      "  ax[0].xaxis.set_major_formatter(ticker.FixedFormatter(['%s'%s for s in np.arange(-10,41,10)]))\n",
      "/var/folders/z8/m0rtcw1d0g37chf76qrvr9pw0000gn/T/ipykernel_79621/3572047814.py:13: UserWarning: FixedFormatter should only be used together with FixedLocator\n",
      "  ax[0].yaxis.set_major_formatter(ticker.FixedFormatter(['%s'%s for s in np.arange(-10,41,10)]))\n"
     ]
    },
    {
     "data": {
      "image/png": "[encoded data removed]",
      "text/plain": [
       "<Figure size 792x288 with 3 Axes>"
      ]
     },
     "metadata": {
      "needs_background": "light"
     },
     "output_type": "display_data"
    }
   ],
   "source": [
    "f, ax = plt.subplots(1, 2, figsize=(11, 4))\n",
    "sns.set_theme(style='white')\n",
    "\n",
    "oneSeed = Ave[(Ave.subject=='miaoyining')&(Ave.seed==1)]\n",
    "heat = oneSeed.pivot_table(columns='class-2',index='class-1',values='coef')\n",
    "handle = sns.heatmap(data=heat,ax=ax[0],cmap='vlag',vmin=0.4,cbar_kws={'label':'Pearson Correlation'})\n",
    "\n",
    "sns.histplot(data=oneSeed, x='coef',hue='type',palette='Set1',alpha=0.5,ax=ax[1],bins=50,element='step')\n",
    "\n",
    "ax[0].xaxis.set_major_locator(ticker.MultipleLocator(10))\n",
    "ax[0].yaxis.set_major_locator(ticker.MultipleLocator(10))\n",
    "ax[0].xaxis.set_major_formatter(ticker.FixedFormatter(['%s'%s for s in np.arange(-10,41,10)]))\n",
    "ax[0].yaxis.set_major_formatter(ticker.FixedFormatter(['%s'%s for s in np.arange(-10,41,10)]))\n",
    "\n",
    "ax[0].set_xlabel('Class')\n",
    "ax[0].set_ylabel('Class')\n",
    "\n",
    "ax[1].set_xlabel('Pearson Correlation')\n",
    "\n",
    "f.savefig('../images/illustrate.png',dpi=300)"
   ]
  },
  {
   "cell_type": "code",
   "execution_count": 63,
   "metadata": {},
   "outputs": [
    {
     "data": {
      "image/png": "[encoded data removed]",
      "text/plain": [
       "<Figure size 792x288 with 2 Axes>"
      ]
     },
     "metadata": {},
     "output_type": "display_data"
    }
   ],
   "source": [
    "f,ax = plt.subplots(1,2,figsize=(11,4))\n",
    "sns.set_theme(style='white')\n",
    "\n",
    "sub = 'chenyuzhen'\n",
    "sns.histplot(data=Ave[(Ave.subject==sub)], x='coef',hue='type',palette='Set1',alpha=1,ax=ax[0])\n",
    "ax[0].set_title('Bad subject')\n",
    "\n",
    "sub = 'miaoyining'\n",
    "sns.histplot(data=Ave[(Ave.subject==sub)], x='coef',hue='type',palette='Set1',alpha=1,ax=ax[1])\n",
    "ax[1].set_title('Good subject')\n",
    "\n",
    "f.savefig('../images/good&bad.png',dpi=300)"
   ]
  },
  {
   "cell_type": "code",
   "execution_count": 128,
   "metadata": {},
   "outputs": [
    {
     "data": {
      "text/html": [
       "<div>\n",
       "<style scoped>\n",
       "    .dataframe tbody tr th:only-of-type {\n",
       "        vertical-align: middle;\n",
       "    }\n",
       "\n",
       "    .dataframe tbody tr th {\n",
       "        vertical-align: top;\n",
       "    }\n",
       "\n",
       "    .dataframe thead th {\n",
       "        text-align: right;\n",
       "    }\n",
       "</style>\n",
       "<table border=\"1\" class=\"dataframe\">\n",
       "  <thead>\n",
       "    <tr style=\"text-align: right;\">\n",
       "      <th></th>\n",
       "      <th>seed</th>\n",
       "      <th>accuracy</th>\n",
       "    </tr>\n",
       "  </thead>\n",
       "  <tbody>\n",
       "    <tr>\n",
       "      <th>241</th>\n",
       "      <td>241</td>\n",
       "      <td>0.679167</td>\n",
       "    </tr>\n",
       "    <tr>\n",
       "      <th>269</th>\n",
       "      <td>269</td>\n",
       "      <td>0.679167</td>\n",
       "    </tr>\n",
       "    <tr>\n",
       "      <th>448</th>\n",
       "      <td>448</td>\n",
       "      <td>0.679167</td>\n",
       "    </tr>\n",
       "    <tr>\n",
       "      <th>355</th>\n",
       "      <td>355</td>\n",
       "      <td>0.670833</td>\n",
       "    </tr>\n",
       "    <tr>\n",
       "      <th>324</th>\n",
       "      <td>324</td>\n",
       "      <td>0.670833</td>\n",
       "    </tr>\n",
       "    <tr>\n",
       "      <th>...</th>\n",
       "      <td>...</td>\n",
       "      <td>...</td>\n",
       "    </tr>\n",
       "    <tr>\n",
       "      <th>414</th>\n",
       "      <td>414</td>\n",
       "      <td>0.475000</td>\n",
       "    </tr>\n",
       "    <tr>\n",
       "      <th>54</th>\n",
       "      <td>54</td>\n",
       "      <td>0.458333</td>\n",
       "    </tr>\n",
       "    <tr>\n",
       "      <th>78</th>\n",
       "      <td>78</td>\n",
       "      <td>0.458333</td>\n",
       "    </tr>\n",
       "    <tr>\n",
       "      <th>39</th>\n",
       "      <td>39</td>\n",
       "      <td>0.450000</td>\n",
       "    </tr>\n",
       "    <tr>\n",
       "      <th>303</th>\n",
       "      <td>303</td>\n",
       "      <td>0.450000</td>\n",
       "    </tr>\n",
       "  </tbody>\n",
       "</table>\n",
       "<p>500 rows × 2 columns</p>\n",
       "</div>"
      ],
      "text/plain": [
       "     seed  accuracy\n",
       "241   241  0.679167\n",
       "269   269  0.679167\n",
       "448   448  0.679167\n",
       "355   355  0.670833\n",
       "324   324  0.670833\n",
       "..    ...       ...\n",
       "414   414  0.475000\n",
       "54     54  0.458333\n",
       "78     78  0.458333\n",
       "39     39  0.450000\n",
       "303   303  0.450000\n",
       "\n",
       "[500 rows x 2 columns]"
      ]
     },
     "execution_count": 128,
     "metadata": {},
     "output_type": "execute_result"
    }
   ],
   "source": [
    "sub = 'shinanlin'\n",
    "subAve = Ave[Ave.subject==sub]\n",
    "subAve.groupby(by=['seed'],as_index=False).mean().sort_values(by='accuracy',ascending=False)[['seed','accuracy']]"
   ]
  },
  {
   "cell_type": "code",
   "execution_count": 129,
   "metadata": {},
   "outputs": [
    {
     "data": {
      "text/plain": [
       "<AxesSubplot:xlabel='coef', ylabel='Density'>"
      ]
     },
     "execution_count": 129,
     "metadata": {},
     "output_type": "execute_result"
    },
    {
     "data": {
      "image/png": "[encoded data removed]",
      "text/plain": [
       "<Figure size 792x288 with 2 Axes>"
      ]
     },
     "metadata": {},
     "output_type": "display_data"
    }
   ],
   "source": [
    "f,ax = plt.subplots(1,2,figsize=(11,4))\n",
    "\n",
    "seed = [269, 369]\n",
    "\n",
    "sns.kdeplot(data=subAve[(subAve.seed.isin(seed) & (\n",
    "    subAve.type == 'distractor'))], x='coef', hue='seed', palette='Set1', alpha=0.5, ax=ax[0],hue_order=seed)\n",
    "\n",
    "sns.kdeplot(data=subAve[(subAve.seed.isin(seed) & (\n",
    "    subAve.type == 'target'))], x='coef', hue='seed', palette='Set1', alpha=0.5, ax=ax[1], hue_order=seed)"
   ]
  },
  {
   "cell_type": "code",
   "execution_count": 7,
   "metadata": {},
   "outputs": [
    {
     "data": {
      "text/plain": [
       "Text(0.5, 1.0, 'Coef')"
      ]
     },
     "execution_count": 7,
     "metadata": {},
     "output_type": "execute_result"
    },
    {
     "data": {
      "image/png": "[encoded data removed]",
      "text/plain": [
       "<Figure size 864x360 with 4 Axes>"
      ]
     },
     "metadata": {},
     "output_type": "display_data"
    }
   ],
   "source": [
    "f,ax = plt.subplots(1,2,figsize=(12,5))\n",
    "\n",
    "i = 9\n",
    "\n",
    "heats = tdca[tdca.seed==i].pivot_table(index='class-1', columns='class-2', values='coef')\n",
    "sns.heatmap(heats, cmap='vlag', ax=ax[0],vmin=0.5)\n",
    "\n",
    "heats = tdca[tdca.seed==i].pivot_table(index='class-1', columns='class-2', values='h')\n",
    "sns.heatmap(heats, cmap='vlag', ax=ax[1],vmin=0.7)\n",
    "\n",
    "ax[1].set_title('Global P')\n",
    "ax[0].set_title('Coef')"
   ]
  },
  {
   "cell_type": "code",
   "execution_count": 16,
   "metadata": {},
   "outputs": [],
   "source": [
    "seedAve = Ave.groupby(by=['subject','seed'],as_index=False).mean()"
   ]
  },
  {
   "cell_type": "code",
   "execution_count": 15,
   "metadata": {},
   "outputs": [
    {
     "data": {
      "text/plain": [
       "<seaborn.axisgrid.FacetGrid at 0x7f8633b8e220>"
      ]
     },
     "execution_count": 15,
     "metadata": {},
     "output_type": "execute_result"
    },
    {
     "data": {
      "image/png": "[encoded data removed]",
      "text/plain": [
       "<Figure size 360x360 with 1 Axes>"
      ]
     },
     "metadata": {
      "needs_background": "light"
     },
     "output_type": "display_data"
    }
   ],
   "source": [
    "sns.lmplot(data=seedAve[seedAve.subject=='group'], x='h', y='accuracy')"
   ]
  },
  {
   "cell_type": "code",
   "execution_count": null,
   "metadata": {},
   "outputs": [],
   "source": []
  }
 ],
 "metadata": {
  "kernelspec": {
   "display_name": "Python 3.8.5 ('base')",
   "language": "python",
   "name": "python3"
  },
  "language_info": {
   "codemirror_mode": {
    "name": "ipython",
    "version": 3
   },
   "file_extension": ".py",
   "mimetype": "text/x-python",
   "name": "python",
   "nbconvert_exporter": "python",
   "pygments_lexer": "ipython3",
   "version": "3.8.5"
  },
  "orig_nbformat": 4,
  "vscode": {
   "interpreter": {
    "hash": "738b996afe2da5960d326b652730d0fe79e83941aa5e7e236ea36fecd662bb25"
   }
  }
 },
 "nbformat": 4,
 "nbformat_minor": 2
}
