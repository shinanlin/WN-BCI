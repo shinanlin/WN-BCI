{
 "cells": [
  {
   "cell_type": "code",
   "execution_count": 58,
   "metadata": {},
   "outputs": [],
   "source": [
    "from plotnine.data import *\n",
    "from plotnine import *\n",
    "from matplotlib import ticker\n",
    "import sys\n",
    "sys.path.append('.')\n",
    "sys.path.append('..')\n",
    "sys.path.append('../compare')\n",
    "\n",
    "import matplotlib.pyplot as plt\n",
    "import seaborn as sns\n",
    "import pickle\n",
    "import math\n",
    "import numpy as np\n",
    "import os\n",
    "import mne\n",
    "from scipy.io import loadmat\n",
    "import pandas as pd\n",
    "import seaborn.objects as so\n",
    "from tqdm import tqdm\n",
    "from matplotlib.pyplot import MultipleLocator\n",
    "from matplotlib.gridspec import GridSpec\n",
    "from matplotlib import cm\n",
    "from matplotlib.colors import ListedColormap, LinearSegmentedColormap"
   ]
  },
  {
   "attachments": {},
   "cell_type": "markdown",
   "metadata": {},
   "source": [
    "### default parapmeters"
   ]
  },
  {
   "cell_type": "code",
   "execution_count": 59,
   "metadata": {},
   "outputs": [],
   "source": [
    "plt.rcParams['font.size'] = '5'\n",
    "plt.rcParams[\"font.family\"] = \"sans-serif\"\n",
    "plt.rcParams['svg.fonttype'] = 'none'\n",
    "\n",
    "cm = 1/2.54\n",
    "# 每次调用font dict\n",
    "fontdict = dict(fontsize=7, family='Arial')\n",
    "\n",
    "# red\n",
    "red = '#A9373B'\n",
    "blue = '#2369BD'\n",
    "orange = '#CC8963'\n",
    "green = '#009944'"
   ]
  },
  {
   "cell_type": "code",
   "execution_count": 60,
   "metadata": {},
   "outputs": [
    {
     "data": {
      "text/html": [
       "<div>\n",
       "<style scoped>\n",
       "    .dataframe tbody tr th:only-of-type {\n",
       "        vertical-align: middle;\n",
       "    }\n",
       "\n",
       "    .dataframe tbody tr th {\n",
       "        vertical-align: top;\n",
       "    }\n",
       "\n",
       "    .dataframe thead th {\n",
       "        text-align: right;\n",
       "    }\n",
       "</style>\n",
       "<table border=\"1\" class=\"dataframe\">\n",
       "  <thead>\n",
       "    <tr style=\"text-align: right;\">\n",
       "      <th></th>\n",
       "      <th>Unnamed: 0</th>\n",
       "      <th>f</th>\n",
       "      <th>lbSNR</th>\n",
       "      <th>lbrate</th>\n",
       "      <th>ubSNR</th>\n",
       "      <th>ubrate</th>\n",
       "      <th>SS</th>\n",
       "      <th>NN</th>\n",
       "      <th>sPower</th>\n",
       "      <th>nPower</th>\n",
       "      <th>Hf</th>\n",
       "      <th>X</th>\n",
       "      <th>STI</th>\n",
       "      <th>subject</th>\n",
       "      <th>ubINFO</th>\n",
       "      <th>lbINFO</th>\n",
       "    </tr>\n",
       "  </thead>\n",
       "  <tbody>\n",
       "    <tr>\n",
       "      <th>1</th>\n",
       "      <td>1</td>\n",
       "      <td>1.0</td>\n",
       "      <td>0.369690</td>\n",
       "      <td>0.000000</td>\n",
       "      <td>0.537777</td>\n",
       "      <td>0.000000</td>\n",
       "      <td>55.229638</td>\n",
       "      <td>350.628208</td>\n",
       "      <td>2.027266e-13</td>\n",
       "      <td>5.013615e-13</td>\n",
       "      <td>1519.246488</td>\n",
       "      <td>7.040881e-13</td>\n",
       "      <td>0.000832</td>\n",
       "      <td>yangyuxing</td>\n",
       "      <td>108.456055</td>\n",
       "      <td>(27.437127465407965+0j)</td>\n",
       "    </tr>\n",
       "    <tr>\n",
       "      <th>2</th>\n",
       "      <td>2</td>\n",
       "      <td>2.0</td>\n",
       "      <td>0.362936</td>\n",
       "      <td>2.540237</td>\n",
       "      <td>2.216733</td>\n",
       "      <td>0.430523</td>\n",
       "      <td>59.854849</td>\n",
       "      <td>406.307291</td>\n",
       "      <td>2.087086e-13</td>\n",
       "      <td>1.328576e-13</td>\n",
       "      <td>1374.662779</td>\n",
       "      <td>3.415662e-13</td>\n",
       "      <td>0.001059</td>\n",
       "      <td>yangyuxing</td>\n",
       "      <td>108.456055</td>\n",
       "      <td>(27.437127465407965+0j)</td>\n",
       "    </tr>\n",
       "    <tr>\n",
       "      <th>3</th>\n",
       "      <td>3</td>\n",
       "      <td>3.0</td>\n",
       "      <td>0.604408</td>\n",
       "      <td>2.211971</td>\n",
       "      <td>6.965177</td>\n",
       "      <td>0.989042</td>\n",
       "      <td>79.422246</td>\n",
       "      <td>271.801172</td>\n",
       "      <td>3.807589e-13</td>\n",
       "      <td>7.409161e-14</td>\n",
       "      <td>8494.891478</td>\n",
       "      <td>4.548505e-13</td>\n",
       "      <td>0.000800</td>\n",
       "      <td>yangyuxing</td>\n",
       "      <td>108.456055</td>\n",
       "      <td>(27.437127465407965+0j)</td>\n",
       "    </tr>\n",
       "    <tr>\n",
       "      <th>4</th>\n",
       "      <td>4</td>\n",
       "      <td>4.0</td>\n",
       "      <td>0.829636</td>\n",
       "      <td>3.030571</td>\n",
       "      <td>8.746636</td>\n",
       "      <td>2.901413</td>\n",
       "      <td>127.685806</td>\n",
       "      <td>273.247848</td>\n",
       "      <td>3.929792e-13</td>\n",
       "      <td>6.068958e-14</td>\n",
       "      <td>11512.480073</td>\n",
       "      <td>4.536688e-13</td>\n",
       "      <td>0.000822</td>\n",
       "      <td>yangyuxing</td>\n",
       "      <td>108.456055</td>\n",
       "      <td>(27.437127465407965+0j)</td>\n",
       "    </tr>\n",
       "    <tr>\n",
       "      <th>5</th>\n",
       "      <td>5</td>\n",
       "      <td>5.0</td>\n",
       "      <td>1.572765</td>\n",
       "      <td>3.365952</td>\n",
       "      <td>7.265825</td>\n",
       "      <td>5.546282</td>\n",
       "      <td>205.019001</td>\n",
       "      <td>230.289131</td>\n",
       "      <td>3.495097e-13</td>\n",
       "      <td>6.556542e-14</td>\n",
       "      <td>18126.015112</td>\n",
       "      <td>4.150751e-13</td>\n",
       "      <td>0.000872</td>\n",
       "      <td>yangyuxing</td>\n",
       "      <td>108.456055</td>\n",
       "      <td>(27.437127465407965+0j)</td>\n",
       "    </tr>\n",
       "  </tbody>\n",
       "</table>\n",
       "</div>"
      ],
      "text/plain": [
       "   Unnamed: 0    f     lbSNR    lbrate     ubSNR    ubrate          SS  \\\n",
       "1           1  1.0  0.369690  0.000000  0.537777  0.000000   55.229638   \n",
       "2           2  2.0  0.362936  2.540237  2.216733  0.430523   59.854849   \n",
       "3           3  3.0  0.604408  2.211971  6.965177  0.989042   79.422246   \n",
       "4           4  4.0  0.829636  3.030571  8.746636  2.901413  127.685806   \n",
       "5           5  5.0  1.572765  3.365952  7.265825  5.546282  205.019001   \n",
       "\n",
       "           NN        sPower        nPower            Hf             X  \\\n",
       "1  350.628208  2.027266e-13  5.013615e-13   1519.246488  7.040881e-13   \n",
       "2  406.307291  2.087086e-13  1.328576e-13   1374.662779  3.415662e-13   \n",
       "3  271.801172  3.807589e-13  7.409161e-14   8494.891478  4.548505e-13   \n",
       "4  273.247848  3.929792e-13  6.068958e-14  11512.480073  4.536688e-13   \n",
       "5  230.289131  3.495097e-13  6.556542e-14  18126.015112  4.150751e-13   \n",
       "\n",
       "        STI     subject      ubINFO                   lbINFO  \n",
       "1  0.000832  yangyuxing  108.456055  (27.437127465407965+0j)  \n",
       "2  0.001059  yangyuxing  108.456055  (27.437127465407965+0j)  \n",
       "3  0.000800  yangyuxing  108.456055  (27.437127465407965+0j)  \n",
       "4  0.000822  yangyuxing  108.456055  (27.437127465407965+0j)  \n",
       "5  0.000872  yangyuxing  108.456055  (27.437127465407965+0j)  "
      ]
     },
     "execution_count": 60,
     "metadata": {},
     "output_type": "execute_result"
    }
   ],
   "source": [
    "capacity = []\n",
    "add = '../results/sweep'\n",
    "subs = os.listdir(add)\n",
    "\n",
    "for sub in subs:\n",
    "    subFolder = add+os.sep+sub\n",
    "    if os.path.exists(subFolder+os.sep+'info.csv'):\n",
    "        f = pd.read_csv(subFolder+os.sep+'info.csv')\n",
    "        capacity.append(f)\n",
    "\n",
    "capacity = pd.concat(capacity, ignore_index=True).drop_duplicates()\n",
    "capacity = capacity[capacity.f>=1]\n",
    "capacity.head()"
   ]
  },
  {
   "cell_type": "code",
   "execution_count": 82,
   "metadata": {},
   "outputs": [],
   "source": [
    "import pickle\n",
    "srate = 250\n",
    "expName = 'sweep'\n",
    "\n",
    "tau = np.arange(-0.5, 0.1+1/srate, 1/srate)\n",
    "ts = np.arange(0, 1, 1/srate)\n",
    "\n",
    "dir = '../data/datasets/%s.pickle' % expName\n",
    "\n",
    "with open(dir, \"rb\") as fp:\n",
    "    wholeset = pickle.load(fp)\n",
    "\n",
    "sub = wholeset[-2]\n",
    "chnNames = ['PZ', 'PO5', 'POZ', 'PO4', 'PO6', 'O1', 'OZ', 'O2', 'PO3']\n",
    "chnINX = [sub['channel'].index(i) for i in chnNames]\n",
    "X = sub['wn']['X'][:, chnINX]\n",
    "y = sub['wn']['y']\n",
    "S = sub['wn']['STI']"
   ]
  },
  {
   "cell_type": "code",
   "execution_count": 83,
   "metadata": {},
   "outputs": [],
   "source": [
    "from modeling import EEG2Code\n",
    "import sys\n",
    "sys.path.append('../compare')\n",
    "model = EEG2Code(srate=srate, winLEN=1, tmin=-0.5, tmax=0.1, S=(S,\n",
    "                 np.unique(y)), estimator=0.98, padding=True, n_band=1, component=1)\n",
    "model.fit(X, y)\n",
    "sEst = model.predict(X)\n",
    "xX = model.enhancer.transform(X)"
   ]
  },
  {
   "attachments": {},
   "cell_type": "markdown",
   "metadata": {},
   "source": [
    "## Fig a: Pics to construct a channel"
   ]
  },
  {
   "attachments": {},
   "cell_type": "markdown",
   "metadata": {},
   "source": [
    "### (a1) Spetral STI amd Resp"
   ]
  },
  {
   "cell_type": "code",
   "execution_count": 68,
   "metadata": {},
   "outputs": [
    {
     "data": {
      "image/png": "[encoded data removed]",
      "text/plain": [
       "<Figure size 177.165x78.7402 with 2 Axes>"
      ]
     },
     "metadata": {},
     "output_type": "display_data"
    }
   ],
   "source": [
    "fig, (ax,ax1) = plt.subplots(1,2,figsize=(4.5*cm, 2*cm))\n",
    "\n",
    "sns.set_theme(style='ticks', font='Arial', rc={\"lines.linewidth\": 1, 'font.size': 5, 'legend.fontsize': 5, 'legend.title_fontsize': 5, 'axes.labelsize': 5, 'xtick.labelsize': 5, 'ytick.labelsize': 5, })\n",
    "\n",
    "sns.lineplot(data=capacity[(capacity.f>3)&(capacity.f<50)], x='f', y='X', ax=ax,label='Response',color=red)\n",
    "sns.lineplot(data=capacity, x='f', y='STI', ax=ax1,color=blue)\n",
    "\n",
    "ax.set_ylabel('Response')\n",
    "ax1.set_ylabel('Stimulus')\n",
    "\n",
    "for ax in fig.axes:\n",
    "    \n",
    "    ax.tick_params(labelsize=5, width=0.5, length=2, which='both')\n",
    "    plt.setp(ax.spines.values(), linewidth=0.75)\n",
    "\n",
    "    ax.set_xlabel('Frequency(Hz)')\n",
    "    ax.set_yscale('log')\n",
    "    ax.set_xscale('log')\n",
    "\n",
    "sns.despine()\n",
    "fig.savefig('../images/mainFig1/fig1a1.png',dpi=300,bbox_inches='tight')\n",
    "fig.savefig('../images/mainFig1/fig1a1.svg',dpi=300,bbox_inches='tight')"
   ]
  },
  {
   "attachments": {},
   "cell_type": "markdown",
   "metadata": {},
   "source": [
    "### (a2) Temporal STI and Resp"
   ]
  },
  {
   "cell_type": "code",
   "execution_count": 73,
   "metadata": {},
   "outputs": [
    {
     "data": {
      "image/png": "[encoded data removed]",
      "text/plain": [
       "<Figure size 196.85x39.3701 with 2 Axes>"
      ]
     },
     "metadata": {},
     "output_type": "display_data"
    }
   ],
   "source": [
    "i = 4\n",
    "s = model.STI[np.unique(y) == i][0]\n",
    "r = model.enhanced[np.unique(y) == i][0]\n",
    "sns.set_theme(style='ticks', font='Arial', rc={\"lines.linewidth\": 1, 'font.size': 5, 'legend.fontsize': 5,\n",
    "              'legend.title_fontsize': 5, 'axes.labelsize': 5, 'xtick.labelsize': 5, 'ytick.labelsize': 5, })\n",
    "\n",
    "fig, (ax1,ax2) = plt.subplots(1, 2, figsize=(5*cm, 1*cm))\n",
    "\n",
    "plt.subplots_adjust(hspace=0.5)\n",
    "for spine in ['top', 'right', 'left']:\n",
    "    ax1.spines[spine].set_visible(False)\n",
    "    ax2.spines[spine].set_visible(False)\n",
    "ax1.spines['bottom'].set_position(('data', 0))\n",
    "ax2.spines['bottom'].set_position(('data', 0))\n",
    "\n",
    "\n",
    "ax1.step(ts, s.T, color=blue, linestyle='solid', linewidth=0.5)\n",
    "ax2.step(ts, r.T, color=red, linestyle='solid', linewidth=0.5)\n",
    "\n",
    "\n",
    "for ax in (ax1,ax2):\n",
    "    ax.tick_params(labelsize=5, width=0.5, length=2, which='both')\n",
    "    plt.setp(ax.spines.values(), linewidth=0.75)\n",
    "    ax.set_yticklabels([])\n",
    "    ax.set_yticks([])\n",
    "\n",
    "    ax.set_xlabel('Time(s)')\n",
    "\n",
    "fig.savefig('../images/mainFig1/fig1a2.png', dpi=300, bbox_inches='tight')\n",
    "fig.savefig('../images/mainFig1/fig1a2.svg', dpi=300, bbox_inches='tight')\n"
   ]
  },
  {
   "attachments": {},
   "cell_type": "markdown",
   "metadata": {},
   "source": [
    "### (a3) :TRF"
   ]
  },
  {
   "cell_type": "code",
   "execution_count": 103,
   "metadata": {},
   "outputs": [
    {
     "data": {
      "image/png": "[encoded data removed]",
      "text/plain": [
       "<Figure size 165.354x78.7402 with 2 Axes>"
      ]
     },
     "metadata": {},
     "output_type": "display_data"
    }
   ],
   "source": [
    "sns.set_theme(style='ticks', font='Arial', rc={\"lines.linewidth\": 1, 'font.size': 5, 'legend.fontsize': 5, 'legend.title_fontsize': 5, 'axes.labelsize': 5, 'xtick.labelsize': 5, 'ytick.labelsize': 5, })\n",
    "\n",
    "fig,(ax1,ax2) = plt.subplots(1,2,figsize = (4.2*cm,2*cm))\n",
    "\n",
    "ax1.plot(tau,model.trf.T,color='black')\n",
    "ax1.axvline(0, linestyle='dashed', color='black', linewidth=0.5)\n",
    "\n",
    "sns.lineplot(data=capacity[capacity.subject.isin(\n",
    "    ['yangyuxing'])], x='f', y='Hf', palette=['black'], ax=ax2, hue='subject', linewidth=0.75)\n",
    "\n",
    "for ax in (ax1,ax2):\n",
    "    ax.tick_params(labelsize=5, width=0.5, length=2, which='both')\n",
    "    plt.setp(ax.spines.values(), linewidth=0.75)\n",
    "\n",
    "ax1.set_xlabel(r'$\\tau(s)$')\n",
    "ax1.set_ylabel('Amp(a.u.)')\n",
    "\n",
    "ax2.set_yscale('log')\n",
    "ax2.set_xscale('log')\n",
    "\n",
    "sns.despine()\n",
    "fig.savefig('../images/mainFig1/fig1a3.png',dpi=300,bbox_inches='tight')\n",
    "fig.savefig('../images/mainFig1/fig1a3.svg',dpi=300,bbox_inches='tight')"
   ]
  },
  {
   "attachments": {},
   "cell_type": "markdown",
   "metadata": {},
   "source": [
    "## Fig b: Sig and noise"
   ]
  },
  {
   "attachments": {},
   "cell_type": "markdown",
   "metadata": {},
   "source": [
    "### (b1) : Spectral"
   ]
  },
  {
   "cell_type": "code",
   "execution_count": 106,
   "metadata": {},
   "outputs": [
    {
     "data": {
      "image/png": "[encoded data removed]",
      "text/plain": [
       "<Figure size 307.087x125.984 with 2 Axes>"
      ]
     },
     "metadata": {},
     "output_type": "display_data"
    }
   ],
   "source": [
    "\n",
    "sns.set_theme(style='ticks', font='Arial', rc={\"lines.linewidth\": 0.7, 'font.size': 5, 'legend.fontsize': 5, 'legend.title_fontsize': 5, 'axes.labelsize': 5, 'xtick.labelsize': 5, 'ytick.labelsize': 5, })\n",
    "\n",
    "fig,(ax1,ax2) = plt.subplots(1,2,figsize=(3.9*2*cm,3.2*cm))\n",
    "\n",
    "plt.subplots_adjust(wspace=0.5)\n",
    "\n",
    "sns.lineplot(data=capacity[capacity.f > 4],\n",
    "             x='f', y='sPower', ax=ax1, label='Evoked',color=red)\n",
    "\n",
    "sns.lineplot(data=capacity[capacity.f>4],\n",
    "             x='f', y='nPower', ax=ax1, label='Noise', color='black', linestyle='dashdot')\n",
    "\n",
    "sns.lineplot(data=capacity,\n",
    "             x='f', y='SS', ax=ax2, label='Est.S', color=blue)\n",
    "\n",
    "sns.lineplot(data=capacity,\n",
    "             x='f', y='NN', ax=ax2, label='Stimulus Noise', color='black', linestyle='dashdot')\n",
    "\n",
    "# ax1.set_ylim(0, 1.5e-5)\n",
    "# ax2.set_ylim(5e-2, 1.5e2)\n",
    "\n",
    "for ax in fig.axes:\n",
    "\n",
    "    ax.set_xlabel('Frequency(Hz)')\n",
    "    ax1.set_ylabel(r'Power(V**2/H z)')\n",
    "\n",
    "    ax.set_xlim(4, 50)\n",
    "    ax.tick_params(labelsize=5, width=0.5, length=2, which='both')\n",
    "    plt.setp(ax.spines.values(), linewidth=0.75)\n",
    "\n",
    "    # ax.set_yscale('log')\n",
    "    # ax.set_xscale('log')\n",
    "\n",
    "fig.savefig('../images/mainFig1/fig1b1.png',dpi=300,bbox_inches='tight')\n",
    "fig.savefig('../images//mainFig1/fig1b1.svg',dpi=300,bbox_inches='tight')"
   ]
  },
  {
   "attachments": {},
   "cell_type": "markdown",
   "metadata": {},
   "source": [
    "### (b2) Temporal"
   ]
  },
  {
   "cell_type": "code",
   "execution_count": 108,
   "metadata": {},
   "outputs": [
    {
     "data": {
      "image/png": "[encoded data removed]",
      "text/plain": [
       "<Figure size 157.48x98.4252 with 2 Axes>"
      ]
     },
     "metadata": {},
     "output_type": "display_data"
    }
   ],
   "source": [
    "i = 7\n",
    "s = model.STI[np.unique(y) == i]\n",
    "s = np.repeat(s, repeats=6, axis=0)\n",
    "es = sEst[y == i]\n",
    "noise = s-es\n",
    "\n",
    "sns.set_theme(style='ticks', font='Arial', rc={\"lines.linewidth\": 1, 'font.size': 5, 'legend.fontsize': 5,\n",
    "              'legend.title_fontsize': 5, 'axes.labelsize': 5, 'xtick.labelsize': 5, 'ytick.labelsize': 5, })\n",
    "\n",
    "fig, (ax1, ax2) = plt.subplots(2, 1, figsize=(4*cm, 2.5*cm))\n",
    "\n",
    "plt.subplots_adjust(hspace=0.5)\n",
    "for spine in ['top', 'right', 'left']:\n",
    "    ax1.spines[spine].set_visible(False)\n",
    "    ax2.spines[spine].set_visible(False)\n",
    "ax2.spines['bottom'].set_visible(False)\n",
    "ax1.spines['bottom'].set_position(('data', 0))\n",
    "\n",
    "ax1.step(ts, es.T, alpha=0.6, linewidth=0.5)\n",
    "ax1.step(ts, s.T, color='white', linestyle='solid', linewidth=1.2)\n",
    "ax1.step(ts, s.T, color=blue, linestyle='solid', linewidth=0.5)\n",
    "\n",
    "ax2.step(ts, noise.T, alpha=0.6, linewidth=0.5)\n",
    "\n",
    "for ax in (ax1, ax2):\n",
    "    ax.tick_params(labelsize=5, width=0.5, length=2, which='both')\n",
    "    plt.setp(ax.spines.values(), linewidth=0.75)\n",
    "    ax.set_yticklabels([])\n",
    "    ax.set_yticks([])\n",
    "\n",
    "ax1.set_ylim(0, 1)\n",
    "ax2.set_ylim(-.6, .6)\n",
    "ax1.set_xlabel('Time(s)')\n",
    "\n",
    "ax2.set_xticklabels([])\n",
    "ax2.set_xticks([])\n",
    "\n",
    "fig.savefig('../images/mainFig1/fig1b21.png', dpi=300, bbox_inches='tight')\n",
    "fig.savefig('../images/mainFig1/fig1b21.svg', dpi=300, bbox_inches='tight')"
   ]
  },
  {
   "cell_type": "code",
   "execution_count": 109,
   "metadata": {},
   "outputs": [
    {
     "data": {
      "image/png": "[encoded data removed]",
      "text/plain": [
       "<Figure size 157.48x98.4252 with 2 Axes>"
      ]
     },
     "metadata": {},
     "output_type": "display_data"
    }
   ],
   "source": [
    "i = 4\n",
    "s = model.enhanced[np.unique(y) == i][0]\n",
    "s = np.repeat(s, repeats=6, axis=0)\n",
    "x = np.squeeze(xX[y == i])\n",
    "noise = x-s\n",
    "\n",
    "sns.set_theme(style='ticks', font='Arial', rc={\"lines.linewidth\": 1, 'font.size': 5, 'legend.fontsize': 5,\n",
    "              'legend.title_fontsize': 5, 'axes.labelsize': 5, 'xtick.labelsize': 5, 'ytick.labelsize': 5, })\n",
    "\n",
    "fig, (ax1, ax2) = plt.subplots(2, 1, figsize=(4*cm, 2.5*cm))\n",
    "\n",
    "plt.subplots_adjust(hspace=0.5)\n",
    "for spine in ['top', 'right', 'left']:\n",
    "    ax1.spines[spine].set_visible(False)\n",
    "    ax2.spines[spine].set_visible(False)\n",
    "ax2.spines['bottom'].set_visible(False)\n",
    "ax1.spines['bottom'].set_position(('data', 0))\n",
    "\n",
    "ax1.step(ts, x.T, alpha=0.6, linewidth=0.5)\n",
    "ax1.step(ts, s.T, color='white', linestyle='solid', linewidth=1.2)\n",
    "ax1.step(ts, s.T, color=red, linestyle='solid', linewidth=0.5)\n",
    "\n",
    "ax2.step(ts, noise.T, alpha=0.6, linewidth=0.5)\n",
    "\n",
    "for ax in (ax1, ax2):\n",
    "    ax.tick_params(labelsize=5, width=0.5, length=2, which='both')\n",
    "    plt.setp(ax.spines.values(), linewidth=0.75)\n",
    "    ax.set_yticklabels([])\n",
    "    ax.set_yticks([])\n",
    "\n",
    "ax1.set_xlabel('Time(s)')\n",
    "\n",
    "ax2.set_xticklabels([])\n",
    "ax2.set_xticks([])\n",
    "\n",
    "fig.savefig('../images/mainFig1/fig1b22.png', dpi=300, bbox_inches='tight')\n",
    "fig.savefig('../images/mainFig1/fig1b22.svg', dpi=300, bbox_inches='tight')\n"
   ]
  },
  {
   "attachments": {},
   "cell_type": "markdown",
   "metadata": {},
   "source": [
    "## Fig c: SNR"
   ]
  },
  {
   "cell_type": "code",
   "execution_count": 155,
   "metadata": {},
   "outputs": [
    {
     "data": {
      "image/png": "[encoded data removed]",
      "text/plain": [
       "<Figure size 177.165x173.228 with 2 Axes>"
      ]
     },
     "metadata": {},
     "output_type": "display_data"
    }
   ],
   "source": [
    "sns.set_theme(style='ticks', font='Arial', rc={\"lines.linewidth\": 1, 'font.size': 5, 'legend.fontsize': 5, 'legend.title_fontsize': 5, 'axes.labelsize': 5, 'xtick.labelsize': 5, 'ytick.labelsize': 5, })\n",
    "\n",
    "fig,(ax1) = plt.subplots(1,1,figsize=(4.5*cm,4.4*cm))\n",
    "ax2 = ax1.twinx()\n",
    "\n",
    "plt.subplots_adjust(wspace=0.5)\n",
    "\n",
    "sns.lineplot(data=capacity, x='f', y='ubSNR', ax=ax1,color=red)\n",
    "\n",
    "sns.lineplot(data=capacity, x='f', y='lbSNR', ax=ax1, color=blue)\n",
    "\n",
    "sns.lineplot(data=capacity, x='f', y='ubrate',\n",
    "             ax=ax2, label='upper bound', color=red, linestyle='dashed')\n",
    "\n",
    "sns.lineplot(data=capacity, x='f', y='lbrate', ax=ax2,label='lower bound',color=blue,linestyle='dashed')\n",
    "\n",
    "for ax in fig.axes:\n",
    "\n",
    "    ax.set_xlim(4, 125)\n",
    "    ax.tick_params(labelsize=5, width=0.5, length=2, which='both')\n",
    "    plt.setp(ax.spines.values(), linewidth=0.75)\n",
    "    ax.set_xscale('log')\n",
    "    ax.set_xlabel('Frequency(Hz)')\n",
    "\n",
    "# ax2.axhline(y=24,color='black',linewidth=0.5,linestyle='dashed')\n",
    "ax1.set_ylabel('SNR(dB)')\n",
    "ax2.set_ylabel('Information (bit)')\n",
    "\n",
    "ax2.set_ylim(2, 100)\n",
    "ax1.set_ylim(0, 7)\n",
    "\n",
    "# ax2.set_yscale('log')\n",
    "\n",
    "fig.savefig('../images/mainFig1/fig1c.png',dpi=300,bbox_inches='tight')\n",
    "fig.savefig('../images/mainFig1/fig1c.svg',dpi=300,bbox_inches='tight')"
   ]
  },
  {
   "attachments": {},
   "cell_type": "markdown",
   "metadata": {},
   "source": [
    "## Fig D: Linearity"
   ]
  },
  {
   "cell_type": "code",
   "execution_count": 157,
   "metadata": {},
   "outputs": [
    {
     "name": "stderr",
     "output_type": "stream",
     "text": [
      "/var/folders/z8/m0rtcw1d0g37chf76qrvr9pw0000gn/T/ipykernel_93373/1100692315.py:13: FutureWarning: The default value of numeric_only in DataFrameGroupBy.mean is deprecated. In a future version, numeric_only will default to False. Either specify numeric_only or select only columns which should be valid for the function.\n"
     ]
    },
    {
     "data": {
      "text/html": [
       "<div>\n",
       "<style scoped>\n",
       "    .dataframe tbody tr th:only-of-type {\n",
       "        vertical-align: middle;\n",
       "    }\n",
       "\n",
       "    .dataframe tbody tr th {\n",
       "        vertical-align: top;\n",
       "    }\n",
       "\n",
       "    .dataframe thead th {\n",
       "        text-align: right;\n",
       "    }\n",
       "</style>\n",
       "<table border=\"1\" class=\"dataframe\">\n",
       "  <thead>\n",
       "    <tr style=\"text-align: right;\">\n",
       "      <th></th>\n",
       "      <th>subject</th>\n",
       "      <th>mode</th>\n",
       "      <th>Unnamed: 0</th>\n",
       "      <th>accuracy</th>\n",
       "      <th>winLEN</th>\n",
       "      <th>ITR</th>\n",
       "      <th>cv</th>\n",
       "      <th>seed</th>\n",
       "      <th>score</th>\n",
       "    </tr>\n",
       "  </thead>\n",
       "  <tbody>\n",
       "    <tr>\n",
       "      <th>10</th>\n",
       "      <td>miaoyining</td>\n",
       "      <td>linear</td>\n",
       "      <td>2999.5</td>\n",
       "      <td>0.988479</td>\n",
       "      <td>0.86</td>\n",
       "      <td>228.868145</td>\n",
       "      <td>2.5</td>\n",
       "      <td>499.5</td>\n",
       "      <td>0.978125</td>\n",
       "    </tr>\n",
       "    <tr>\n",
       "      <th>11</th>\n",
       "      <td>miaoyining</td>\n",
       "      <td>nonlinear</td>\n",
       "      <td>8999.5</td>\n",
       "      <td>0.580246</td>\n",
       "      <td>0.86</td>\n",
       "      <td>94.815432</td>\n",
       "      <td>2.5</td>\n",
       "      <td>499.5</td>\n",
       "      <td>0.365625</td>\n",
       "    </tr>\n",
       "    <tr>\n",
       "      <th>12</th>\n",
       "      <td>shinanlin</td>\n",
       "      <td>full</td>\n",
       "      <td>13499.5</td>\n",
       "      <td>1.000000</td>\n",
       "      <td>0.86</td>\n",
       "      <td>234.790945</td>\n",
       "      <td>1.0</td>\n",
       "      <td>499.5</td>\n",
       "      <td>1.000000</td>\n",
       "    </tr>\n",
       "    <tr>\n",
       "      <th>13</th>\n",
       "      <td>shinanlin</td>\n",
       "      <td>linear</td>\n",
       "      <td>2999.5</td>\n",
       "      <td>0.893896</td>\n",
       "      <td>0.86</td>\n",
       "      <td>189.273399</td>\n",
       "      <td>2.5</td>\n",
       "      <td>499.5</td>\n",
       "      <td>0.817708</td>\n",
       "    </tr>\n",
       "    <tr>\n",
       "      <th>14</th>\n",
       "      <td>shinanlin</td>\n",
       "      <td>nonlinear</td>\n",
       "      <td>8999.5</td>\n",
       "      <td>0.551117</td>\n",
       "      <td>0.86</td>\n",
       "      <td>87.579489</td>\n",
       "      <td>2.5</td>\n",
       "      <td>499.5</td>\n",
       "      <td>0.355208</td>\n",
       "    </tr>\n",
       "  </tbody>\n",
       "</table>\n",
       "</div>"
      ],
      "text/plain": [
       "       subject       mode  Unnamed: 0  accuracy  winLEN         ITR   cv  \\\n",
       "10  miaoyining     linear      2999.5  0.988479    0.86  228.868145  2.5   \n",
       "11  miaoyining  nonlinear      8999.5  0.580246    0.86   94.815432  2.5   \n",
       "12   shinanlin       full     13499.5  1.000000    0.86  234.790945  1.0   \n",
       "13   shinanlin     linear      2999.5  0.893896    0.86  189.273399  2.5   \n",
       "14   shinanlin  nonlinear      8999.5  0.551117    0.86   87.579489  2.5   \n",
       "\n",
       "     seed     score  \n",
       "10  499.5  0.978125  \n",
       "11  499.5  0.365625  \n",
       "12  499.5  1.000000  \n",
       "13  499.5  0.817708  \n",
       "14  499.5  0.355208  "
      ]
     },
     "execution_count": 157,
     "metadata": {},
     "output_type": "execute_result"
    }
   ],
   "source": [
    "LN = []\n",
    "add = '../results/sweep'\n",
    "subs = os.listdir(add)\n",
    "\n",
    "for sub in subs:\n",
    "    subFolder = add+os.sep+sub\n",
    "    if os.path.exists(subFolder+os.sep+'LN.csv'):\n",
    "        f = pd.read_csv(subFolder+os.sep+'LN.csv')\n",
    "        LN.append(f)\n",
    "\n",
    "LN = pd.concat(LN, ignore_index=True, axis=0)\n",
    "\n",
    "aveLN = LN.groupby(by=['subject', 'mode'], as_index=False).mean()\n",
    "aveLN.head()\n",
    "aveLN.tail()"
   ]
  },
  {
   "attachments": {},
   "cell_type": "markdown",
   "metadata": {},
   "source": [
    "### (d1) classification"
   ]
  },
  {
   "cell_type": "code",
   "execution_count": 164,
   "metadata": {},
   "outputs": [
    {
     "data": {
      "image/png": "[encoded data removed]",
      "text/plain": [
       "<Figure size 70.8661x192.913 with 1 Axes>"
      ]
     },
     "metadata": {},
     "output_type": "display_data"
    }
   ],
   "source": [
    "sns.set_theme(style='ticks', font='Arial', rc={\"lines.linewidth\": 1, 'font.size': 5, 'legend.fontsize': 5,\n",
    "              'legend.title_fontsize': 5, 'axes.labelsize': 5, 'xtick.labelsize': 5, 'ytick.labelsize': 5, })\n",
    "\n",
    "f,ax = plt.subplots(figsize=(1.8*cm,4.9*cm))\n",
    "sns.barplot(data=aveLN,x='score',y='mode',palette='Set1')\n",
    "sns.swarmplot(data=aveLN,x='score',y='mode',hue='subject',legend=False,size=3)\n",
    "\n",
    "ax.tick_params(labelsize=5, width=0.5, length=2, which='both')\n",
    "plt.setp(ax.spines.values(), linewidth=0.75)\n",
    "\n",
    "ax.set_ylabel('')\n",
    "ax.set_xlabel('Accuracy')\n",
    "\n",
    "plt.savefig('../images/mainFig1/fig1d1.png',dpi=400,bbox_inches='tight')\n",
    "plt.savefig('../images/mainFig1/fig1d1.svg',dpi=400,bbox_inches='tight')"
   ]
  },
  {
   "attachments": {},
   "cell_type": "markdown",
   "metadata": {},
   "source": [
    "### (d2) temporal waveform"
   ]
  },
  {
   "cell_type": "code",
   "execution_count": 118,
   "metadata": {},
   "outputs": [],
   "source": [
    "from sklearn.model_selection import LeaveOneOut\n",
    "from compare.spatialFilters import *\n",
    "sub = wholeset[-2]\n",
    "tag='wn'\n",
    "X = sub[tag]['X']\n",
    "y = sub[tag]['y']\n",
    "S = sub[tag]['STI']\n",
    "_class = np.unique(y)\n",
    "\n",
    "X = np.stack([X[y == i] for i in np.unique(y)])\n",
    "y = np.stack([y[y == i] for i in np.unique(y)])\n",
    "\n",
    "# classification\n",
    "X = np.transpose(X, axes=(1, 0, -2, -1))\n",
    "y = np.transpose(y, axes=(-1, 0))\n",
    "\n",
    "loo = LeaveOneOut()\n",
    "loo.get_n_splits(X)\n",
    "\n",
    "for cv, (train_index, test_index) in enumerate(loo.split(X, y)):\n",
    "\n",
    "    X_train, X_test = np.concatenate(\n",
    "        X[train_index]), np.concatenate(X[test_index])\n",
    "    y_train, y_test = np.concatenate(\n",
    "        y[train_index]), np.concatenate(y[test_index])\n",
    "\n",
    "    model = LN(S=(S,_class),n_band=1,winLEN=0.86,lag=.14,mode='linear',montage=160)\n",
    "    model.fit(X_train,y_train)\n",
    "    acc = model.score(X_test,y_test)\n",
    "    break"
   ]
  },
  {
   "cell_type": "code",
   "execution_count": 142,
   "metadata": {},
   "outputs": [
    {
     "data": {
      "image/png": "[encoded data removed]",
      "text/plain": [
       "<Figure size 236.22x59.0551 with 1 Axes>"
      ]
     },
     "metadata": {},
     "output_type": "display_data"
    }
   ],
   "source": [
    "t = np.arange(0.14,1,1/srate)\n",
    "sns.set_theme(style='ticks', font='Arial', rc={\"lines.linewidth\": 1, 'font.size': 5, 'legend.fontsize': 5,\n",
    "              'legend.title_fontsize': 5, 'axes.labelsize': 5, 'xtick.labelsize': 5, 'ytick.labelsize': 5, })\n",
    "f,ax = plt.subplots(figsize=(6.0*cm,1.5*cm))\n",
    "\n",
    "classINX = 11\n",
    "\n",
    "ax.plot(t,model.full[classINX].T,color='black',linewidth=1)\n",
    "\n",
    "ax.plot(t,model.linear[classINX].T,color='white',linewidth=1)\n",
    "ax.plot(t,model.linear[classINX].T,color=red,linewidth=0.75)\n",
    "\n",
    "ax.plot(t, model.nonlinear[classINX].T, color='white',linestyle='solid',linewidth=1)\n",
    "ax.plot(t, model.nonlinear[classINX].T, color=blue,linestyle='dashed',linewidth=0.75)\n",
    "\n",
    "ax.tick_params(labelsize=5, width=0.5, length=2, which='both')\n",
    "plt.setp(ax.spines.values(), linewidth=0.75)\n",
    "\n",
    "ax.set_xlabel('Time(s)')\n",
    "plt.savefig('../images/mainFig1/fig1d2.png',dpi=400,bbox_inches='tight')\n",
    "plt.savefig('../images/mainFig1/fig1d2.svg',dpi=400,bbox_inches='tight')"
   ]
  },
  {
   "attachments": {},
   "cell_type": "markdown",
   "metadata": {},
   "source": [
    "### (d3) Transfer Matrix"
   ]
  },
  {
   "cell_type": "code",
   "execution_count": 144,
   "metadata": {},
   "outputs": [
    {
     "data": {
      "text/html": [
       "<div>\n",
       "<style scoped>\n",
       "    .dataframe tbody tr th:only-of-type {\n",
       "        vertical-align: middle;\n",
       "    }\n",
       "\n",
       "    .dataframe tbody tr th {\n",
       "        vertical-align: top;\n",
       "    }\n",
       "\n",
       "    .dataframe thead th {\n",
       "        text-align: right;\n",
       "    }\n",
       "</style>\n",
       "<table border=\"1\" class=\"dataframe\">\n",
       "  <thead>\n",
       "    <tr style=\"text-align: right;\">\n",
       "      <th></th>\n",
       "      <th>Unnamed: 0</th>\n",
       "      <th>j</th>\n",
       "      <th>i</th>\n",
       "      <th>rho</th>\n",
       "      <th>subject</th>\n",
       "      <th>method</th>\n",
       "      <th>mode</th>\n",
       "      <th>winLEN</th>\n",
       "      <th>cv</th>\n",
       "    </tr>\n",
       "  </thead>\n",
       "  <tbody>\n",
       "    <tr>\n",
       "      <th>2764795</th>\n",
       "      <td>460795</td>\n",
       "      <td>156</td>\n",
       "      <td>160</td>\n",
       "      <td>-0.441458</td>\n",
       "      <td>fanzixiao</td>\n",
       "      <td>wn</td>\n",
       "      <td>full</td>\n",
       "      <td>0.86</td>\n",
       "      <td>5</td>\n",
       "    </tr>\n",
       "    <tr>\n",
       "      <th>2764796</th>\n",
       "      <td>460796</td>\n",
       "      <td>157</td>\n",
       "      <td>160</td>\n",
       "      <td>0.046900</td>\n",
       "      <td>fanzixiao</td>\n",
       "      <td>wn</td>\n",
       "      <td>full</td>\n",
       "      <td>0.86</td>\n",
       "      <td>5</td>\n",
       "    </tr>\n",
       "    <tr>\n",
       "      <th>2764797</th>\n",
       "      <td>460797</td>\n",
       "      <td>158</td>\n",
       "      <td>160</td>\n",
       "      <td>-0.436399</td>\n",
       "      <td>fanzixiao</td>\n",
       "      <td>wn</td>\n",
       "      <td>full</td>\n",
       "      <td>0.86</td>\n",
       "      <td>5</td>\n",
       "    </tr>\n",
       "    <tr>\n",
       "      <th>2764798</th>\n",
       "      <td>460798</td>\n",
       "      <td>159</td>\n",
       "      <td>160</td>\n",
       "      <td>-0.171659</td>\n",
       "      <td>fanzixiao</td>\n",
       "      <td>wn</td>\n",
       "      <td>full</td>\n",
       "      <td>0.86</td>\n",
       "      <td>5</td>\n",
       "    </tr>\n",
       "    <tr>\n",
       "      <th>2764799</th>\n",
       "      <td>460799</td>\n",
       "      <td>160</td>\n",
       "      <td>160</td>\n",
       "      <td>2.180855</td>\n",
       "      <td>fanzixiao</td>\n",
       "      <td>wn</td>\n",
       "      <td>full</td>\n",
       "      <td>0.86</td>\n",
       "      <td>5</td>\n",
       "    </tr>\n",
       "  </tbody>\n",
       "</table>\n",
       "</div>"
      ],
      "text/plain": [
       "         Unnamed: 0    j    i       rho    subject method  mode  winLEN  cv\n",
       "2764795      460795  156  160 -0.441458  fanzixiao     wn  full    0.86   5\n",
       "2764796      460796  157  160  0.046900  fanzixiao     wn  full    0.86   5\n",
       "2764797      460797  158  160 -0.436399  fanzixiao     wn  full    0.86   5\n",
       "2764798      460798  159  160 -0.171659  fanzixiao     wn  full    0.86   5\n",
       "2764799      460799  160  160  2.180855  fanzixiao     wn  full    0.86   5"
      ]
     },
     "execution_count": 144,
     "metadata": {},
     "output_type": "execute_result"
    }
   ],
   "source": [
    "LNcM = []\n",
    "add = '../results/sweep'\n",
    "subs = os.listdir(add)\n",
    "\n",
    "for sub in subs:\n",
    "    subFolder = add+os.sep+sub\n",
    "    if os.path.exists(subFolder+os.sep+'LNcM.csv'):\n",
    "        f = pd.read_csv(subFolder+os.sep+'LNcM.csv')\n",
    "        LNcM.append(f)\n",
    "\n",
    "LNcM = pd.concat(LNcM, ignore_index=True, axis=0)\n",
    "LNcM = LNcM[LNcM.subject == 'fanzixiao']\n",
    "LNcM.tail()\n"
   ]
  },
  {
   "cell_type": "code",
   "execution_count": 147,
   "metadata": {},
   "outputs": [],
   "source": [
    "LNcM_linear = LNcM[LNcM['mode']=='linear'].pivot_table(index='i',columns='j',values='rho')\n",
    "LNcM_nonlinear = LNcM[LNcM['mode']=='nonlinear'].pivot_table(index='i',columns='j',values='rho')\n",
    "LNcM_full = LNcM[LNcM['mode']=='full'].pivot_table(index='i',columns='j',values='rho')"
   ]
  },
  {
   "cell_type": "code",
   "execution_count": 148,
   "metadata": {},
   "outputs": [],
   "source": [
    "vmin = np.min(np.concatenate([LNcM_full,  LNcM_linear, LNcM_nonlinear]))\n",
    "vmax = np.max(np.concatenate([LNcM_full, LNcM_linear, LNcM_nonlinear]))"
   ]
  },
  {
   "cell_type": "code",
   "execution_count": 150,
   "metadata": {},
   "outputs": [
    {
     "data": {
      "image/png": "[encoded data removed]",
      "text/plain": [
       "<Figure size 236.22x78.7402 with 3 Axes>"
      ]
     },
     "metadata": {},
     "output_type": "display_data"
    }
   ],
   "source": [
    "sns.set_theme(style='ticks', font='Arial', rc={\"lines.linewidth\": 1, 'font.size': 5, 'legend.fontsize': 5,\n",
    "              'legend.title_fontsize': 5, 'axes.labelsize': 5, 'xtick.labelsize': 5, 'ytick.labelsize': 5, })\n",
    "\n",
    "f, axes = plt.subplots(1, 3, figsize=(3*2*cm, 2*cm))\n",
    "\n",
    "axes[0].imshow(LNcM_full.to_numpy(), cmap='vlag',\n",
    "               interpolation='none', vmin=vmin, vmax=vmax)\n",
    "axes[1].imshow(LNcM_linear.to_numpy(), cmap='vlag',\n",
    "               interpolation='none', vmin=vmin, vmax=vmax)\n",
    "axes[2].imshow(LNcM_nonlinear.to_numpy(), cmap='vlag',\n",
    "               interpolation='none', vmin=vmin, vmax=vmax)\n",
    "\n",
    "for ax in axes:\n",
    "    ax.tick_params(labelsize=5, width=0.5, length=2, which='both')\n",
    "    plt.setp(ax.spines.values(), linewidth=0.75)\n",
    "\n",
    "plt.savefig('../images/mainFig1/fig1d3.png', dpi=400, bbox_inches='tight')\n",
    "plt.savefig('../images/mainFig1/fig1d3.svg', dpi=400, bbox_inches='tight')"
   ]
  },
  {
   "attachments": {},
   "cell_type": "markdown",
   "metadata": {},
   "source": [
    "## Fig E: Broadband and Narrowband SNR"
   ]
  },
  {
   "cell_type": "code",
   "execution_count": 151,
   "metadata": {},
   "outputs": [
    {
     "data": {
      "text/html": [
       "<div>\n",
       "<style scoped>\n",
       "    .dataframe tbody tr th:only-of-type {\n",
       "        vertical-align: middle;\n",
       "    }\n",
       "\n",
       "    .dataframe tbody tr th {\n",
       "        vertical-align: top;\n",
       "    }\n",
       "\n",
       "    .dataframe thead th {\n",
       "        text-align: right;\n",
       "    }\n",
       "</style>\n",
       "<table border=\"1\" class=\"dataframe\">\n",
       "  <thead>\n",
       "    <tr style=\"text-align: right;\">\n",
       "      <th></th>\n",
       "      <th>Unnamed: 0</th>\n",
       "      <th>f</th>\n",
       "      <th>ubSNR</th>\n",
       "      <th>ubrate</th>\n",
       "      <th>sPower</th>\n",
       "      <th>nPower</th>\n",
       "      <th>X</th>\n",
       "      <th>exp</th>\n",
       "      <th>subject</th>\n",
       "      <th>ubINFO</th>\n",
       "      <th>tag</th>\n",
       "    </tr>\n",
       "  </thead>\n",
       "  <tbody>\n",
       "    <tr>\n",
       "      <th>4495</th>\n",
       "      <td>745</td>\n",
       "      <td>123.333333</td>\n",
       "      <td>0.291379</td>\n",
       "      <td>20.294302</td>\n",
       "      <td>8.959373e-17</td>\n",
       "      <td>3.389574e-16</td>\n",
       "      <td>4.285511e-16</td>\n",
       "      <td>NBB</td>\n",
       "      <td>miaoyining</td>\n",
       "      <td>20.289833</td>\n",
       "      <td>SSVEP</td>\n",
       "    </tr>\n",
       "    <tr>\n",
       "      <th>4496</th>\n",
       "      <td>746</td>\n",
       "      <td>123.666667</td>\n",
       "      <td>0.291082</td>\n",
       "      <td>20.346596</td>\n",
       "      <td>8.697818e-17</td>\n",
       "      <td>3.303583e-16</td>\n",
       "      <td>4.173365e-16</td>\n",
       "      <td>NBB</td>\n",
       "      <td>miaoyining</td>\n",
       "      <td>20.289833</td>\n",
       "      <td>SSVEP</td>\n",
       "    </tr>\n",
       "    <tr>\n",
       "      <th>4497</th>\n",
       "      <td>747</td>\n",
       "      <td>124.000000</td>\n",
       "      <td>0.290963</td>\n",
       "      <td>20.292253</td>\n",
       "      <td>8.508497e-17</td>\n",
       "      <td>3.241029e-16</td>\n",
       "      <td>4.091879e-16</td>\n",
       "      <td>NBB</td>\n",
       "      <td>miaoyining</td>\n",
       "      <td>20.289833</td>\n",
       "      <td>SSVEP</td>\n",
       "    </tr>\n",
       "    <tr>\n",
       "      <th>4498</th>\n",
       "      <td>748</td>\n",
       "      <td>124.333333</td>\n",
       "      <td>0.290931</td>\n",
       "      <td>20.344310</td>\n",
       "      <td>8.380105e-17</td>\n",
       "      <td>3.198457e-16</td>\n",
       "      <td>4.036467e-16</td>\n",
       "      <td>NBB</td>\n",
       "      <td>miaoyining</td>\n",
       "      <td>20.289833</td>\n",
       "      <td>SSVEP</td>\n",
       "    </tr>\n",
       "    <tr>\n",
       "      <th>4499</th>\n",
       "      <td>749</td>\n",
       "      <td>124.666667</td>\n",
       "      <td>0.290933</td>\n",
       "      <td>20.289833</td>\n",
       "      <td>8.305622e-17</td>\n",
       "      <td>3.173704e-16</td>\n",
       "      <td>4.004266e-16</td>\n",
       "      <td>NBB</td>\n",
       "      <td>miaoyining</td>\n",
       "      <td>20.289833</td>\n",
       "      <td>SSVEP</td>\n",
       "    </tr>\n",
       "  </tbody>\n",
       "</table>\n",
       "</div>"
      ],
      "text/plain": [
       "      Unnamed: 0           f     ubSNR     ubrate        sPower        nPower  \\\n",
       "4495         745  123.333333  0.291379  20.294302  8.959373e-17  3.389574e-16   \n",
       "4496         746  123.666667  0.291082  20.346596  8.697818e-17  3.303583e-16   \n",
       "4497         747  124.000000  0.290963  20.292253  8.508497e-17  3.241029e-16   \n",
       "4498         748  124.333333  0.290931  20.344310  8.380105e-17  3.198457e-16   \n",
       "4499         749  124.666667  0.290933  20.289833  8.305622e-17  3.173704e-16   \n",
       "\n",
       "                 X  exp     subject     ubINFO    tag  \n",
       "4495  4.285511e-16  NBB  miaoyining  20.289833  SSVEP  \n",
       "4496  4.173365e-16  NBB  miaoyining  20.289833  SSVEP  \n",
       "4497  4.091879e-16  NBB  miaoyining  20.289833  SSVEP  \n",
       "4498  4.036467e-16  NBB  miaoyining  20.289833  SSVEP  \n",
       "4499  4.004266e-16  NBB  miaoyining  20.289833  SSVEP  "
      ]
     },
     "execution_count": 151,
     "metadata": {},
     "output_type": "execute_result"
    }
   ],
   "source": [
    "compare = []\n",
    "\n",
    "exps = ['NBB']\n",
    "\n",
    "for exp in exps:\n",
    "\n",
    "    add = '../results/%s'%exp\n",
    "    subs = os.listdir(add)\n",
    "\n",
    "    for sub in subs:\n",
    "        subFolder = add+os.sep+sub\n",
    "        if os.path.exists(subFolder+os.sep+'NaB_info.csv'):\n",
    "            f = pd.read_csv(subFolder+os.sep+'NaB_info.csv')\n",
    "            compare.append(f)\n",
    "\n",
    "compare = pd.concat(compare, ignore_index=True, axis=0)\n",
    "compare.tail()"
   ]
  },
  {
   "cell_type": "code",
   "execution_count": 154,
   "metadata": {},
   "outputs": [
    {
     "data": {
      "image/png": "[encoded data removed]",
      "text/plain": [
       "<Figure size 173.228x173.228 with 2 Axes>"
      ]
     },
     "metadata": {},
     "output_type": "display_data"
    }
   ],
   "source": [
    "sns.set_theme(style='ticks', font='Arial', rc={\"lines.linewidth\": 1, 'font.size': 5, 'legend.fontsize': 5,'legend.title_fontsize': 5, 'axes.labelsize': 5, 'xtick.labelsize': 5, 'ytick.labelsize': 5, })\n",
    "\n",
    "fig, (ax1) = plt.subplots(1, 1, figsize=(4.4*cm, 4.4*cm))\n",
    "ax2 = ax1.twinx()\n",
    "\n",
    "plt.subplots_adjust(wspace=0.3)\n",
    "\n",
    "sns.lineplot(data=compare[(compare.f > 2) & (compare.f < 100)],\n",
    "             x='f', y='ubSNR', hue='tag', ax=ax1, legend=False, style='tag')\n",
    "\n",
    "sns.lineplot(data=compare[(compare.f>2)&(compare.f<100)],\n",
    "             x='f', y='ubrate', hue='tag', ax=ax2, style='tag',legend=False)\n",
    "\n",
    "ax1.set_ylabel('SNR')\n",
    "ax2.set_ylabel('Info(bit)')\n",
    "ax2.set_xlabel('Frequency(Hz)')\n",
    "\n",
    "for ax in (ax1, ax2):\n",
    "    ax.tick_params(labelsize=5, width=0.5, length=2, which='both')\n",
    "    plt.setp(ax.spines.values(), linewidth=0.75)\n",
    "    ax.set_xscale('log')\n",
    "\n",
    "plt.savefig('../images/mainFig1/fig1e.png',dpi=400,bbox_inches='tight')\n",
    "plt.savefig('../images/mainFig1/fig1e.svg',dpi=400,bbox_inches='tight')"
   ]
  }
 ],
 "metadata": {
  "kernelspec": {
   "display_name": "base",
   "language": "python",
   "name": "python3"
  },
  "language_info": {
   "codemirror_mode": {
    "name": "ipython",
    "version": 3
   },
   "file_extension": ".py",
   "mimetype": "text/x-python",
   "name": "python",
   "nbconvert_exporter": "python",
   "pygments_lexer": "ipython3",
   "version": "3.8.5"
  },
  "orig_nbformat": 4,
  "vscode": {
   "interpreter": {
    "hash": "738b996afe2da5960d326b652730d0fe79e83941aa5e7e236ea36fecd662bb25"
   }
  }
 },
 "nbformat": 4,
 "nbformat_minor": 2
}
