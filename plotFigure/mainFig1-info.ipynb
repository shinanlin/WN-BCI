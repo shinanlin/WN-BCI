{
 "cells": [
  {
   "cell_type": "code",
   "execution_count": 1,
   "metadata": {},
   "outputs": [
    {
     "name": "stderr",
     "output_type": "stream",
     "text": [
      "/Users/shinanlin/opt/anaconda3/lib/python3.8/site-packages/pandas/core/computation/expressions.py:20: UserWarning: Pandas requires version '2.7.3' or newer of 'numexpr' (version '2.7.1' currently installed).\n",
      "  from pandas.core.computation.check import NUMEXPR_INSTALLED\n",
      "/Users/shinanlin/opt/anaconda3/lib/python3.8/site-packages/numba/core/types/__init__.py:108: FutureWarning: In the future `np.long` will be defined as the corresponding NumPy scalar.  (This may have returned Python scalars in past versions.\n"
     ]
    }
   ],
   "source": [
    "from plotnine.data import *\n",
    "from plotnine import *\n",
    "from matplotlib import ticker\n",
    "import sys\n",
    "sys.path.append('.')\n",
    "sys.path.append('..')\n",
    "sys.path.append('../compare')\n",
    "\n",
    "import matplotlib.pyplot as plt\n",
    "import seaborn as sns\n",
    "import pickle\n",
    "import math\n",
    "import numpy as np\n",
    "import os\n",
    "import mne\n",
    "from scipy.io import loadmat\n",
    "import pandas as pd\n",
    "import seaborn.objects as so\n",
    "from tqdm import tqdm\n",
    "from matplotlib.pyplot import MultipleLocator\n",
    "from matplotlib.gridspec import GridSpec\n",
    "from matplotlib import cm\n",
    "from matplotlib.colors import ListedColormap, LinearSegmentedColormap"
   ]
  },
  {
   "attachments": {},
   "cell_type": "markdown",
   "metadata": {},
   "source": [
    "### default parapmeters"
   ]
  },
  {
   "cell_type": "code",
   "execution_count": 2,
   "metadata": {},
   "outputs": [],
   "source": [
    "plt.rcParams['font.size'] = '5'\n",
    "plt.rcParams[\"font.family\"] = \"sans-serif\"\n",
    "plt.rcParams['svg.fonttype'] = 'none'\n",
    "\n",
    "cm = 1/2.54\n",
    "# 每次调用font dict\n",
    "fontdict = dict(fontsize=7, family='Arial')\n",
    "\n",
    "# red\n",
    "red = '#A9373B'\n",
    "blue = '#2369BD'\n",
    "orange = '#CC8963'\n",
    "green = '#009944'"
   ]
  },
  {
   "cell_type": "code",
   "execution_count": 1,
   "metadata": {},
   "outputs": [
    {
     "ename": "NameError",
     "evalue": "name 'os' is not defined",
     "output_type": "error",
     "traceback": [
      "\u001b[0;31m---------------------------------------------------------------------------\u001b[0m",
      "\u001b[0;31mNameError\u001b[0m                                 Traceback (most recent call last)",
      "\u001b[1;32m/Users/shinanlin/Desktop/WN-BCI/plotFigure/mainFig1-info.ipynb Cell 4\u001b[0m in \u001b[0;36m3\n\u001b[1;32m      <a href='vscode-notebook-cell://ssh-remote%2B183.173.32.95/Users/shinanlin/Desktop/WN-BCI/plotFigure/mainFig1-info.ipynb#W3sdnNjb2RlLXJlbW90ZQ%3D%3D?line=0'>1</a>\u001b[0m capacity \u001b[39m=\u001b[39m []\n\u001b[1;32m      <a href='vscode-notebook-cell://ssh-remote%2B183.173.32.95/Users/shinanlin/Desktop/WN-BCI/plotFigure/mainFig1-info.ipynb#W3sdnNjb2RlLXJlbW90ZQ%3D%3D?line=1'>2</a>\u001b[0m add \u001b[39m=\u001b[39m \u001b[39m'\u001b[39m\u001b[39m../results/sweep\u001b[39m\u001b[39m'\u001b[39m\n\u001b[0;32m----> <a href='vscode-notebook-cell://ssh-remote%2B183.173.32.95/Users/shinanlin/Desktop/WN-BCI/plotFigure/mainFig1-info.ipynb#W3sdnNjb2RlLXJlbW90ZQ%3D%3D?line=2'>3</a>\u001b[0m subs \u001b[39m=\u001b[39m os\u001b[39m.\u001b[39mlistdir(add)\n\u001b[1;32m      <a href='vscode-notebook-cell://ssh-remote%2B183.173.32.95/Users/shinanlin/Desktop/WN-BCI/plotFigure/mainFig1-info.ipynb#W3sdnNjb2RlLXJlbW90ZQ%3D%3D?line=4'>5</a>\u001b[0m \u001b[39mfor\u001b[39;00m sub \u001b[39min\u001b[39;00m subs:\n\u001b[1;32m      <a href='vscode-notebook-cell://ssh-remote%2B183.173.32.95/Users/shinanlin/Desktop/WN-BCI/plotFigure/mainFig1-info.ipynb#W3sdnNjb2RlLXJlbW90ZQ%3D%3D?line=5'>6</a>\u001b[0m     subFolder \u001b[39m=\u001b[39m add\u001b[39m+\u001b[39mos\u001b[39m.\u001b[39msep\u001b[39m+\u001b[39msub\n",
      "\u001b[0;31mNameError\u001b[0m: name 'os' is not defined"
     ]
    }
   ],
   "source": [
    "capacity = []\n",
    "add = '../results/sweep'\n",
    "subs = os.listdir(add)\n",
    "\n",
    "for sub in subs:\n",
    "    subFolder = add+os.sep+sub\n",
    "    if os.path.exists(subFolder+os.sep+'NaB_info.csv'):\n",
    "        f = pd.read_csv(subFolder+os.sep+'info.csv')\n",
    "        capacity.append(f)\n",
    "\n",
    "capacity = pd.concat(capacity, ignore_index=True).drop_duplicates()\n",
    "capacity = capacity[capacity.f>=1]\n",
    "capacity.head()"
   ]
  },
  {
   "cell_type": "code",
   "execution_count": 45,
   "metadata": {},
   "outputs": [],
   "source": [
    "import pickle\n",
    "srate = 250\n",
    "expName = 'sweep'\n",
    "\n",
    "tau = np.arange(-0.5, 0.1+1/srate, 1/srate)\n",
    "ts = np.arange(0, 1, 1/srate)\n",
    "\n",
    "dir = '../data/datasets/%s.pickle' % expName\n",
    "\n",
    "with open(dir, \"rb\") as fp:\n",
    "    wholeset = pickle.load(fp)\n",
    "\n",
    "sub = wholeset[-2]\n",
    "chnNames = ['PZ', 'PO5', 'POZ', 'PO4', 'PO6', 'O1', 'OZ', 'O2', 'PO3']\n",
    "chnINX = [sub['channel'].index(i) for i in chnNames]\n",
    "X = sub['wn']['X'][:, chnINX]\n",
    "y = sub['wn']['y']\n",
    "S = sub['wn']['STI']"
   ]
  },
  {
   "cell_type": "code",
   "execution_count": 46,
   "metadata": {},
   "outputs": [],
   "source": [
    "from modeling import EEG2Code\n",
    "import sys\n",
    "sys.path.append('../compare')\n",
    "model = EEG2Code(srate=srate, winLEN=1, tmin=-0.5, tmax=0.1, S=(S,\n",
    "                 np.unique(y)), estimator=0.98, padding=True, n_band=1, component=1)\n",
    "model.fit(X, y)\n",
    "sEst = model.predict(X)\n",
    "xX = model.enhancer.transform(X)"
   ]
  },
  {
   "attachments": {},
   "cell_type": "markdown",
   "metadata": {},
   "source": [
    "## Fig a: Pics to construct a channel"
   ]
  },
  {
   "attachments": {},
   "cell_type": "markdown",
   "metadata": {},
   "source": [
    "### (a1) Spetral STI amd Resp"
   ]
  },
  {
   "cell_type": "code",
   "execution_count": 30,
   "metadata": {},
   "outputs": [
    {
     "data": {
      "image/png": "[encoded data removed]",
      "text/plain": [
       "<Figure size 177.165x59.0551 with 2 Axes>"
      ]
     },
     "metadata": {},
     "output_type": "display_data"
    }
   ],
   "source": [
    "fig, (ax,ax1) = plt.subplots(1,2,figsize=(4.5*cm, 1.5*cm))\n",
    "\n",
    "sns.set_theme(style='ticks', font='Arial', rc={\"lines.linewidth\": 1, 'font.size': 5, 'legend.fontsize': 5, 'legend.title_fontsize': 5, 'axes.labelsize': 5, 'xtick.labelsize': 5, 'ytick.labelsize': 5, })\n",
    "\n",
    "sns.lineplot(data=capacity[(capacity.f>3)&(capacity.f<40)], x='f', y='X', ax=ax,color=red)\n",
    "sns.lineplot(data=capacity, x='f', y='STI', ax=ax1,color=blue)\n",
    "\n",
    "ax.set_ylabel('PSD')\n",
    "ax1.set_ylabel('Stimulus')\n",
    "\n",
    "for ax in fig.axes:\n",
    "    \n",
    "    ax.tick_params(labelsize=5, width=0.5, length=2, which='both')\n",
    "    plt.setp(ax.spines.values(), linewidth=0.75)\n",
    "\n",
    "    ax.set_xlabel('Frequency(Hz)')\n",
    "    ax.set_yscale('log')\n",
    "    ax.set_xscale('log')\n",
    "\n",
    "sns.despine()\n",
    "fig.savefig('../images/mainFig1/fig1a1.png',dpi=300,bbox_inches='tight')\n",
    "fig.savefig('../images/mainFig1/fig1a1.svg',dpi=300,bbox_inches='tight')"
   ]
  },
  {
   "attachments": {},
   "cell_type": "markdown",
   "metadata": {},
   "source": [
    "### (a2) Temporal STI and Resp"
   ]
  },
  {
   "cell_type": "code",
   "execution_count": 73,
   "metadata": {},
   "outputs": [
    {
     "data": {
      "image/png": "[encoded data removed]",
      "text/plain": [
       "<Figure size 196.85x39.3701 with 2 Axes>"
      ]
     },
     "metadata": {},
     "output_type": "display_data"
    }
   ],
   "source": [
    "i = 4\n",
    "s = model.STI[np.unique(y) == i][0]\n",
    "r = model.enhanced[np.unique(y) == i][0]\n",
    "sns.set_theme(style='ticks', font='Arial', rc={\"lines.linewidth\": 1, 'font.size': 5, 'legend.fontsize': 5,\n",
    "              'legend.title_fontsize': 5, 'axes.labelsize': 5, 'xtick.labelsize': 5, 'ytick.labelsize': 5, })\n",
    "\n",
    "fig, (ax1,ax2) = plt.subplots(1, 2, figsize=(5*cm, 1*cm))\n",
    "\n",
    "plt.subplots_adjust(hspace=0.5)\n",
    "for spine in ['top', 'right', 'left']:\n",
    "    ax1.spines[spine].set_visible(False)\n",
    "    ax2.spines[spine].set_visible(False)\n",
    "ax1.spines['bottom'].set_position(('data', 0))\n",
    "ax2.spines['bottom'].set_position(('data', 0))\n",
    "\n",
    "\n",
    "ax1.step(ts, s.T, color=blue, linestyle='solid', linewidth=0.5)\n",
    "ax2.step(ts, r.T, color=red, linestyle='solid', linewidth=0.5)\n",
    "\n",
    "\n",
    "for ax in (ax1,ax2):\n",
    "    ax.tick_params(labelsize=5, width=0.5, length=2, which='both')\n",
    "    plt.setp(ax.spines.values(), linewidth=0.75)\n",
    "    ax.set_yticklabels([])\n",
    "    ax.set_yticks([])\n",
    "\n",
    "    ax.set_xlabel('Time(s)')\n",
    "\n",
    "fig.savefig('../images/mainFig1/fig1a2.png', dpi=300, bbox_inches='tight')\n",
    "fig.savefig('../images/mainFig1/fig1a2.svg', dpi=300, bbox_inches='tight')\n"
   ]
  },
  {
   "attachments": {},
   "cell_type": "markdown",
   "metadata": {},
   "source": [
    "### (a3) :TRF"
   ]
  },
  {
   "cell_type": "code",
   "execution_count": 103,
   "metadata": {},
   "outputs": [
    {
     "data": {
      "image/png": "[encoded data removed]",
      "text/plain": [
       "<Figure size 165.354x78.7402 with 2 Axes>"
      ]
     },
     "metadata": {},
     "output_type": "display_data"
    }
   ],
   "source": [
    "sns.set_theme(style='ticks', font='Arial', rc={\"lines.linewidth\": 1, 'font.size': 5, 'legend.fontsize': 5, 'legend.title_fontsize': 5, 'axes.labelsize': 5, 'xtick.labelsize': 5, 'ytick.labelsize': 5, })\n",
    "\n",
    "fig,(ax1,ax2) = plt.subplots(1,2,figsize = (4.2*cm,2*cm))\n",
    "\n",
    "ax1.plot(tau,model.trf.T,color='black')\n",
    "ax1.axvline(0, linestyle='dashed', color='black', linewidth=0.5)\n",
    "\n",
    "sns.lineplot(data=capacity[capacity.subject.isin(\n",
    "    ['yangyuxing'])], x='f', y='Hf', palette=['black'], ax=ax2, hue='subject', linewidth=0.75)\n",
    "\n",
    "for ax in (ax1,ax2):\n",
    "    ax.tick_params(labelsize=5, width=0.5, length=2, which='both')\n",
    "    plt.setp(ax.spines.values(), linewidth=0.75)\n",
    "\n",
    "ax1.set_xlabel(r'$\\tau(s)$')\n",
    "ax1.set_ylabel('Amp(a.u.)')\n",
    "\n",
    "ax2.set_yscale('log')\n",
    "ax2.set_xscale('log')\n",
    "\n",
    "sns.despine()\n",
    "fig.savefig('../images/mainFig1/fig1a3.png',dpi=300,bbox_inches='tight')\n",
    "fig.savefig('../images/mainFig1/fig1a3.svg',dpi=300,bbox_inches='tight')"
   ]
  },
  {
   "attachments": {},
   "cell_type": "markdown",
   "metadata": {},
   "source": [
    "## Fig b: Sig and noise"
   ]
  },
  {
   "attachments": {},
   "cell_type": "markdown",
   "metadata": {},
   "source": [
    "### (b1) : Spectral"
   ]
  },
  {
   "cell_type": "code",
   "execution_count": 106,
   "metadata": {},
   "outputs": [
    {
     "data": {
      "image/png": "[encoded data removed]",
      "text/plain": [
       "<Figure size 307.087x125.984 with 2 Axes>"
      ]
     },
     "metadata": {},
     "output_type": "display_data"
    }
   ],
   "source": [
    "\n",
    "sns.set_theme(style='ticks', font='Arial', rc={\"lines.linewidth\": 0.7, 'font.size': 5, 'legend.fontsize': 5, 'legend.title_fontsize': 5, 'axes.labelsize': 5, 'xtick.labelsize': 5, 'ytick.labelsize': 5, })\n",
    "\n",
    "fig,(ax1,ax2) = plt.subplots(1,2,figsize=(3.9*2*cm,3.2*cm))\n",
    "\n",
    "plt.subplots_adjust(wspace=0.5)\n",
    "\n",
    "sns.lineplot(data=capacity[capacity.f > 4],\n",
    "             x='f', y='sPower', ax=ax1, label='Evoked',color=red)\n",
    "\n",
    "sns.lineplot(data=capacity[capacity.f>4],\n",
    "             x='f', y='nPower', ax=ax1, label='Noise', color='black', linestyle='dashdot')\n",
    "\n",
    "sns.lineplot(data=capacity,\n",
    "             x='f', y='SS', ax=ax2, label='Est.S', color=blue)\n",
    "\n",
    "sns.lineplot(data=capacity,\n",
    "             x='f', y='NN', ax=ax2, label='Stimulus Noise', color='black', linestyle='dashdot')\n",
    "\n",
    "# ax1.set_ylim(0, 1.5e-5)\n",
    "# ax2.set_ylim(5e-2, 1.5e2)\n",
    "\n",
    "for ax in fig.axes:\n",
    "\n",
    "    ax.set_xlabel('Frequency(Hz)')\n",
    "    ax1.set_ylabel(r'Power(V**2/H z)')\n",
    "\n",
    "    ax.set_xlim(4, 50)\n",
    "    ax.tick_params(labelsize=5, width=0.5, length=2, which='both')\n",
    "    plt.setp(ax.spines.values(), linewidth=0.75)\n",
    "\n",
    "    # ax.set_yscale('log')\n",
    "    # ax.set_xscale('log')\n",
    "\n",
    "fig.savefig('../images/mainFig1/fig1b1.png',dpi=300,bbox_inches='tight')\n",
    "fig.savefig('../images//mainFig1/fig1b1.svg',dpi=300,bbox_inches='tight')"
   ]
  },
  {
   "attachments": {},
   "cell_type": "markdown",
   "metadata": {},
   "source": [
    "### (b2) Temporal"
   ]
  },
  {
   "cell_type": "code",
   "execution_count": 108,
   "metadata": {},
   "outputs": [
    {
     "data": {
      "image/png": "[encoded data removed]",
      "text/plain": [
       "<Figure size 157.48x98.4252 with 2 Axes>"
      ]
     },
     "metadata": {},
     "output_type": "display_data"
    }
   ],
   "source": [
    "i = 7\n",
    "s = model.STI[np.unique(y) == i]\n",
    "s = np.repeat(s, repeats=6, axis=0)\n",
    "es = sEst[y == i]\n",
    "noise = s-es\n",
    "\n",
    "sns.set_theme(style='ticks', font='Arial', rc={\"lines.linewidth\": 1, 'font.size': 5, 'legend.fontsize': 5,\n",
    "              'legend.title_fontsize': 5, 'axes.labelsize': 5, 'xtick.labelsize': 5, 'ytick.labelsize': 5, })\n",
    "\n",
    "fig, (ax1, ax2) = plt.subplots(2, 1, figsize=(4*cm, 2.5*cm))\n",
    "\n",
    "plt.subplots_adjust(hspace=0.5)\n",
    "for spine in ['top', 'right', 'left']:\n",
    "    ax1.spines[spine].set_visible(False)\n",
    "    ax2.spines[spine].set_visible(False)\n",
    "ax2.spines['bottom'].set_visible(False)\n",
    "ax1.spines['bottom'].set_position(('data', 0))\n",
    "\n",
    "ax1.step(ts, es.T, alpha=0.6, linewidth=0.5)\n",
    "ax1.step(ts, s.T, color='white', linestyle='solid', linewidth=1.2)\n",
    "ax1.step(ts, s.T, color=blue, linestyle='solid', linewidth=0.5)\n",
    "\n",
    "ax2.step(ts, noise.T, alpha=0.6, linewidth=0.5)\n",
    "\n",
    "for ax in (ax1, ax2):\n",
    "    ax.tick_params(labelsize=5, width=0.5, length=2, which='both')\n",
    "    plt.setp(ax.spines.values(), linewidth=0.75)\n",
    "    ax.set_yticklabels([])\n",
    "    ax.set_yticks([])\n",
    "\n",
    "ax1.set_ylim(0, 1)\n",
    "ax2.set_ylim(-.6, .6)\n",
    "ax1.set_xlabel('Time(s)')\n",
    "\n",
    "ax2.set_xticklabels([])\n",
    "ax2.set_xticks([])\n",
    "\n",
    "fig.savefig('../images/mainFig1/fig1b21.png', dpi=300, bbox_inches='tight')\n",
    "fig.savefig('../images/mainFig1/fig1b21.svg', dpi=300, bbox_inches='tight')"
   ]
  },
  {
   "cell_type": "code",
   "execution_count": 109,
   "metadata": {},
   "outputs": [
    {
     "data": {
      "image/png": "[encoded data removed]",
      "text/plain": [
       "<Figure size 157.48x98.4252 with 2 Axes>"
      ]
     },
     "metadata": {},
     "output_type": "display_data"
    }
   ],
   "source": [
    "i = 4\n",
    "s = model.enhanced[np.unique(y) == i][0]\n",
    "s = np.repeat(s, repeats=6, axis=0)\n",
    "x = np.squeeze(xX[y == i])\n",
    "noise = x-s\n",
    "\n",
    "sns.set_theme(style='ticks', font='Arial', rc={\"lines.linewidth\": 1, 'font.size': 5, 'legend.fontsize': 5,\n",
    "              'legend.title_fontsize': 5, 'axes.labelsize': 5, 'xtick.labelsize': 5, 'ytick.labelsize': 5, })\n",
    "\n",
    "fig, (ax1, ax2) = plt.subplots(2, 1, figsize=(4*cm, 2.5*cm))\n",
    "\n",
    "plt.subplots_adjust(hspace=0.5)\n",
    "for spine in ['top', 'right', 'left']:\n",
    "    ax1.spines[spine].set_visible(False)\n",
    "    ax2.spines[spine].set_visible(False)\n",
    "ax2.spines['bottom'].set_visible(False)\n",
    "ax1.spines['bottom'].set_position(('data', 0))\n",
    "\n",
    "ax1.step(ts, x.T, alpha=0.6, linewidth=0.5)\n",
    "ax1.step(ts, s.T, color='white', linestyle='solid', linewidth=1.2)\n",
    "ax1.step(ts, s.T, color=red, linestyle='solid', linewidth=0.5)\n",
    "\n",
    "ax2.step(ts, noise.T, alpha=0.6, linewidth=0.5)\n",
    "\n",
    "for ax in (ax1, ax2):\n",
    "    ax.tick_params(labelsize=5, width=0.5, length=2, which='both')\n",
    "    plt.setp(ax.spines.values(), linewidth=0.75)\n",
    "    ax.set_yticklabels([])\n",
    "    ax.set_yticks([])\n",
    "\n",
    "ax1.set_xlabel('Time(s)')\n",
    "\n",
    "ax2.set_xticklabels([])\n",
    "ax2.set_xticks([])\n",
    "\n",
    "fig.savefig('../images/mainFig1/fig1b22.png', dpi=300, bbox_inches='tight')\n",
    "fig.savefig('../images/mainFig1/fig1b22.svg', dpi=300, bbox_inches='tight')\n"
   ]
  },
  {
   "attachments": {},
   "cell_type": "markdown",
   "metadata": {},
   "source": [
    "## Fig c: SNR"
   ]
  },
  {
   "cell_type": "code",
   "execution_count": 129,
   "metadata": {},
   "outputs": [
    {
     "data": {
      "image/png": "[encoded data removed]",
      "text/plain": [
       "<Figure size 177.165x173.228 with 2 Axes>"
      ]
     },
     "metadata": {},
     "output_type": "display_data"
    }
   ],
   "source": [
    "sns.set_theme(style='ticks', font='Arial', rc={\"lines.linewidth\": 1, 'font.size': 5, 'legend.fontsize': 5, 'legend.title_fontsize': 5, 'axes.labelsize': 5, 'xtick.labelsize': 5, 'ytick.labelsize': 5, })\n",
    "\n",
    "fig,(ax1,ax2) = plt.subplots(2,1,figsize=(4.5*cm,4.4*cm))\n",
    "\n",
    "plt.subplots_adjust(wspace=0.5)\n",
    "\n",
    "sns.lineplot(data=capacity, x='f', y='ubSNR', ax=ax1,color=red)\n",
    "\n",
    "sns.lineplot(data=capacity, x='f', y='lbSNR', ax=ax1, color=blue)\n",
    "\n",
    "sns.lineplot(data=capacity, x='f', y='ubrate', ax=ax2, label='upper bound', color=red, linestyle='dashed')\n",
    "\n",
    "sns.lineplot(data=capacity, x='f', y='lbrate', ax=ax2,label='lower bound',color=blue,linestyle='dashed')\n",
    "\n",
    "ax2.yaxis.tick_right()\n",
    "\n",
    "for ax in fig.axes:\n",
    "\n",
    "    ax.set_xlim(4, 125)\n",
    "    ax.tick_params(labelsize=5, width=0.5, length=2, which='both')\n",
    "    plt.setp(ax.spines.values(), linewidth=0.75)\n",
    "    ax.set_xscale('log')\n",
    "    ax.set_xlabel('Frequency(Hz)')\n",
    "\n",
    "\n",
    "ax1.set_ylabel('SNR(dB)')\n",
    "ax2.set_ylabel('Information (bps)')\n",
    "\n",
    "ax2.set_ylim(2, 80)\n",
    "ax1.set_ylim(0, 7)\n",
    "\n",
    "\n",
    "fig.savefig('../images/mainFig1/fig1c.png',dpi=300,bbox_inches='tight')\n",
    "fig.savefig('../images/mainFig1/fig1c.svg',dpi=300,bbox_inches='tight')"
   ]
  },
  {
   "attachments": {},
   "cell_type": "markdown",
   "metadata": {},
   "source": [
    "## Fig D: Linearity"
   ]
  },
  {
   "cell_type": "code",
   "execution_count": 35,
   "metadata": {},
   "outputs": [
    {
     "name": "stderr",
     "output_type": "stream",
     "text": [
      "/var/folders/z8/m0rtcw1d0g37chf76qrvr9pw0000gn/T/ipykernel_7406/1100692315.py:13: FutureWarning: The default value of numeric_only in DataFrameGroupBy.mean is deprecated. In a future version, numeric_only will default to False. Either specify numeric_only or select only columns which should be valid for the function.\n"
     ]
    },
    {
     "data": {
      "text/html": [
       "<div>\n",
       "<style scoped>\n",
       "    .dataframe tbody tr th:only-of-type {\n",
       "        vertical-align: middle;\n",
       "    }\n",
       "\n",
       "    .dataframe tbody tr th {\n",
       "        vertical-align: top;\n",
       "    }\n",
       "\n",
       "    .dataframe thead th {\n",
       "        text-align: right;\n",
       "    }\n",
       "</style>\n",
       "<table border=\"1\" class=\"dataframe\">\n",
       "  <thead>\n",
       "    <tr style=\"text-align: right;\">\n",
       "      <th></th>\n",
       "      <th>subject</th>\n",
       "      <th>mode</th>\n",
       "      <th>Unnamed: 0</th>\n",
       "      <th>accuracy</th>\n",
       "      <th>winLEN</th>\n",
       "      <th>ITR</th>\n",
       "      <th>cv</th>\n",
       "      <th>seed</th>\n",
       "      <th>score</th>\n",
       "    </tr>\n",
       "  </thead>\n",
       "  <tbody>\n",
       "    <tr>\n",
       "      <th>25</th>\n",
       "      <td>yaofeifan</td>\n",
       "      <td>linear</td>\n",
       "      <td>2999.5</td>\n",
       "      <td>0.952379</td>\n",
       "      <td>0.86</td>\n",
       "      <td>212.397896</td>\n",
       "      <td>2.5</td>\n",
       "      <td>499.5</td>\n",
       "      <td>0.900000</td>\n",
       "    </tr>\n",
       "    <tr>\n",
       "      <th>26</th>\n",
       "      <td>yaofeifan</td>\n",
       "      <td>nonlinear</td>\n",
       "      <td>8999.5</td>\n",
       "      <td>0.838325</td>\n",
       "      <td>0.86</td>\n",
       "      <td>170.784176</td>\n",
       "      <td>2.5</td>\n",
       "      <td>499.5</td>\n",
       "      <td>0.692708</td>\n",
       "    </tr>\n",
       "    <tr>\n",
       "      <th>27</th>\n",
       "      <td>zhangtiantian</td>\n",
       "      <td>full</td>\n",
       "      <td>14999.5</td>\n",
       "      <td>0.994654</td>\n",
       "      <td>0.86</td>\n",
       "      <td>232.148406</td>\n",
       "      <td>2.5</td>\n",
       "      <td>499.5</td>\n",
       "      <td>0.994792</td>\n",
       "    </tr>\n",
       "    <tr>\n",
       "      <th>28</th>\n",
       "      <td>zhangtiantian</td>\n",
       "      <td>linear</td>\n",
       "      <td>2999.5</td>\n",
       "      <td>0.820471</td>\n",
       "      <td>0.86</td>\n",
       "      <td>163.790404</td>\n",
       "      <td>2.5</td>\n",
       "      <td>499.5</td>\n",
       "      <td>0.683333</td>\n",
       "    </tr>\n",
       "    <tr>\n",
       "      <th>29</th>\n",
       "      <td>zhangtiantian</td>\n",
       "      <td>nonlinear</td>\n",
       "      <td>8999.5</td>\n",
       "      <td>0.804767</td>\n",
       "      <td>0.86</td>\n",
       "      <td>158.581990</td>\n",
       "      <td>2.5</td>\n",
       "      <td>499.5</td>\n",
       "      <td>0.652083</td>\n",
       "    </tr>\n",
       "  </tbody>\n",
       "</table>\n",
       "</div>"
      ],
      "text/plain": [
       "          subject       mode  Unnamed: 0  accuracy  winLEN         ITR   cv  \\\n",
       "25      yaofeifan     linear      2999.5  0.952379    0.86  212.397896  2.5   \n",
       "26      yaofeifan  nonlinear      8999.5  0.838325    0.86  170.784176  2.5   \n",
       "27  zhangtiantian       full     14999.5  0.994654    0.86  232.148406  2.5   \n",
       "28  zhangtiantian     linear      2999.5  0.820471    0.86  163.790404  2.5   \n",
       "29  zhangtiantian  nonlinear      8999.5  0.804767    0.86  158.581990  2.5   \n",
       "\n",
       "     seed     score  \n",
       "25  499.5  0.900000  \n",
       "26  499.5  0.692708  \n",
       "27  499.5  0.994792  \n",
       "28  499.5  0.683333  \n",
       "29  499.5  0.652083  "
      ]
     },
     "execution_count": 35,
     "metadata": {},
     "output_type": "execute_result"
    }
   ],
   "source": [
    "LN = []\n",
    "add = '../results/sweep'\n",
    "subs = os.listdir(add)\n",
    "\n",
    "for sub in subs:\n",
    "    subFolder = add+os.sep+sub\n",
    "    if os.path.exists(subFolder+os.sep+'LN.csv'):\n",
    "        f = pd.read_csv(subFolder+os.sep+'LN.csv')\n",
    "        LN.append(f)\n",
    "\n",
    "LN = pd.concat(LN, ignore_index=True, axis=0)\n",
    "\n",
    "aveLN = LN.groupby(by=['subject', 'mode'], as_index=False).mean()\n",
    "aveLN.head()\n",
    "aveLN.tail()"
   ]
  },
  {
   "attachments": {},
   "cell_type": "markdown",
   "metadata": {},
   "source": [
    "### (d1) classification"
   ]
  },
  {
   "cell_type": "code",
   "execution_count": 98,
   "metadata": {},
   "outputs": [
    {
     "name": "stderr",
     "output_type": "stream",
     "text": [
      "/Users/shinanlin/opt/anaconda3/lib/python3.8/site-packages/seaborn/categorical.py:3544: UserWarning: 10.0% of the points cannot be placed; you may want to decrease the size of the markers or use stripplot.\n"
     ]
    },
    {
     "data": {
      "image/png": "[encoded data removed]",
      "text/plain": [
       "<Figure size 196.85x70.8661 with 1 Axes>"
      ]
     },
     "metadata": {},
     "output_type": "display_data"
    }
   ],
   "source": [
    "sns.set_theme(style='ticks', font='Arial', rc={\"lines.linewidth\": 1, 'font.size': 5, 'legend.fontsize': 5,\n",
    "              'legend.title_fontsize': 5, 'axes.labelsize': 5, 'xtick.labelsize': 5, 'ytick.labelsize': 5, })\n",
    "\n",
    "f,ax = plt.subplots(figsize=(5*cm,1.8*cm))\n",
    "\n",
    "\n",
    "sns.barplot(data=aveLN, x='mode', y='score',\n",
    "            linewidth=0.5, errwidth=1, capsize=0.1, edgecolor='black', facecolor=(0, 0, 0, 0),)\n",
    "sns.swarmplot(data=aveLN, x='mode', y='score', hue='subject',\n",
    "              legend=False, size=3, palette='vlag')\n",
    "\n",
    "ax.tick_params(labelsize=5, width=0.5, length=2, which='both',)\n",
    "plt.setp(ax.spines.values(), linewidth=0.75)\n",
    "\n",
    "ax.set_ylim(0,1.2)\n",
    "ax.xaxis.set_major_locator(ticker.MultipleLocator(0.5))\n",
    "ax.set_ylabel('')\n",
    "ax.set_ylabel('Accuracy')\n",
    "\n",
    "plt.savefig('../images/mainFig1/fig1d1.png',dpi=400,bbox_inches='tight')\n",
    "plt.savefig('../images/mainFig1/fig1d1.svg',dpi=400,bbox_inches='tight')"
   ]
  },
  {
   "attachments": {},
   "cell_type": "markdown",
   "metadata": {},
   "source": [
    "### (d2) temporal waveform"
   ]
  },
  {
   "cell_type": "code",
   "execution_count": 47,
   "metadata": {},
   "outputs": [],
   "source": [
    "from sklearn.model_selection import LeaveOneOut\n",
    "from compare.spatialFilters import *\n",
    "sub = wholeset[-2]\n",
    "tag='wn'\n",
    "X = sub[tag]['X']\n",
    "y = sub[tag]['y']\n",
    "S = sub[tag]['STI']\n",
    "_class = np.unique(y)\n",
    "\n",
    "X = np.stack([X[y == i] for i in np.unique(y)])\n",
    "y = np.stack([y[y == i] for i in np.unique(y)])\n",
    "\n",
    "# classification\n",
    "X = np.transpose(X, axes=(1, 0, -2, -1))\n",
    "y = np.transpose(y, axes=(-1, 0))\n",
    "\n",
    "loo = LeaveOneOut()\n",
    "loo.get_n_splits(X)\n",
    "\n",
    "for cv, (train_index, test_index) in enumerate(loo.split(X, y)):\n",
    "\n",
    "    X_train, X_test = np.concatenate(\n",
    "        X[train_index]), np.concatenate(X[test_index])\n",
    "    y_train, y_test = np.concatenate(\n",
    "        y[train_index]), np.concatenate(y[test_index])\n",
    "\n",
    "    model = LN(S=(S,_class),n_band=1,winLEN=0.86,lag=.14,mode='linear',montage=160)\n",
    "    model.fit(X_train,y_train)\n",
    "    acc = model.score(X_test,y_test)\n",
    "    break"
   ]
  },
  {
   "cell_type": "code",
   "execution_count": 54,
   "metadata": {},
   "outputs": [
    {
     "data": {
      "image/png": "[encoded data removed]",
      "text/plain": [
       "<Figure size 236.22x59.0551 with 1 Axes>"
      ]
     },
     "metadata": {},
     "output_type": "display_data"
    }
   ],
   "source": [
    "t = np.arange(0.14,1,1/srate)\n",
    "sns.set_theme(style='ticks', font='Arial', rc={\"lines.linewidth\": 1, 'font.size': 5, 'legend.fontsize': 5,\n",
    "              'legend.title_fontsize': 5, 'axes.labelsize': 5, 'xtick.labelsize': 5, 'ytick.labelsize': 5, })\n",
    "f,ax = plt.subplots(figsize=(6.0*cm,1.5*cm))\n",
    "\n",
    "classINX = 11\n",
    "\n",
    "ax.plot(t,model.full[classINX].T,color='black',linewidth=1)\n",
    "\n",
    "ax.plot(t,model.linear[classINX].T,color='white',linewidth=1)\n",
    "ax.plot(t,model.linear[classINX].T,color=red,linewidth=0.75)\n",
    "\n",
    "ax.plot(t, model.nonlinear[classINX].T, color='white',linestyle='solid',linewidth=1)\n",
    "ax.plot(t, model.nonlinear[classINX].T, color=blue,linestyle='dashed',linewidth=0.75)\n",
    "\n",
    "\n",
    "for spine in ['top', 'right', 'left']:\n",
    "    ax.spines[spine].set_visible(False)\n",
    "ax.spines['bottom'].set_position(('data', -0.5))\n",
    "\n",
    "ax.tick_params(labelsize=5, width=0.5, length=2, which='both')\n",
    "plt.setp(ax.spines.values(), linewidth=0.75)\n",
    "\n",
    "ax.set_xlabel('Time(s)')\n",
    "\n",
    "ax.set_yticklabels([])\n",
    "ax.set_yticks([])\n",
    "\n",
    "plt.savefig('../images/mainFig1/fig1d2.png',dpi=400,bbox_inches='tight')\n",
    "plt.savefig('../images/mainFig1/fig1d2.svg',dpi=400,bbox_inches='tight')"
   ]
  },
  {
   "attachments": {},
   "cell_type": "markdown",
   "metadata": {},
   "source": [
    "### (d3) Transfer Matrix"
   ]
  },
  {
   "cell_type": "code",
   "execution_count": 55,
   "metadata": {},
   "outputs": [
    {
     "data": {
      "text/html": [
       "<div>\n",
       "<style scoped>\n",
       "    .dataframe tbody tr th:only-of-type {\n",
       "        vertical-align: middle;\n",
       "    }\n",
       "\n",
       "    .dataframe tbody tr th {\n",
       "        vertical-align: top;\n",
       "    }\n",
       "\n",
       "    .dataframe thead th {\n",
       "        text-align: right;\n",
       "    }\n",
       "</style>\n",
       "<table border=\"1\" class=\"dataframe\">\n",
       "  <thead>\n",
       "    <tr style=\"text-align: right;\">\n",
       "      <th></th>\n",
       "      <th>Unnamed: 0</th>\n",
       "      <th>j</th>\n",
       "      <th>i</th>\n",
       "      <th>rho</th>\n",
       "      <th>subject</th>\n",
       "      <th>method</th>\n",
       "      <th>mode</th>\n",
       "      <th>winLEN</th>\n",
       "      <th>cv</th>\n",
       "    </tr>\n",
       "  </thead>\n",
       "  <tbody>\n",
       "    <tr>\n",
       "      <th>2764795</th>\n",
       "      <td>460795</td>\n",
       "      <td>156</td>\n",
       "      <td>160</td>\n",
       "      <td>-0.441458</td>\n",
       "      <td>fanzixiao</td>\n",
       "      <td>wn</td>\n",
       "      <td>full</td>\n",
       "      <td>0.86</td>\n",
       "      <td>5</td>\n",
       "    </tr>\n",
       "    <tr>\n",
       "      <th>2764796</th>\n",
       "      <td>460796</td>\n",
       "      <td>157</td>\n",
       "      <td>160</td>\n",
       "      <td>0.046900</td>\n",
       "      <td>fanzixiao</td>\n",
       "      <td>wn</td>\n",
       "      <td>full</td>\n",
       "      <td>0.86</td>\n",
       "      <td>5</td>\n",
       "    </tr>\n",
       "    <tr>\n",
       "      <th>2764797</th>\n",
       "      <td>460797</td>\n",
       "      <td>158</td>\n",
       "      <td>160</td>\n",
       "      <td>-0.436399</td>\n",
       "      <td>fanzixiao</td>\n",
       "      <td>wn</td>\n",
       "      <td>full</td>\n",
       "      <td>0.86</td>\n",
       "      <td>5</td>\n",
       "    </tr>\n",
       "    <tr>\n",
       "      <th>2764798</th>\n",
       "      <td>460798</td>\n",
       "      <td>159</td>\n",
       "      <td>160</td>\n",
       "      <td>-0.171659</td>\n",
       "      <td>fanzixiao</td>\n",
       "      <td>wn</td>\n",
       "      <td>full</td>\n",
       "      <td>0.86</td>\n",
       "      <td>5</td>\n",
       "    </tr>\n",
       "    <tr>\n",
       "      <th>2764799</th>\n",
       "      <td>460799</td>\n",
       "      <td>160</td>\n",
       "      <td>160</td>\n",
       "      <td>2.180855</td>\n",
       "      <td>fanzixiao</td>\n",
       "      <td>wn</td>\n",
       "      <td>full</td>\n",
       "      <td>0.86</td>\n",
       "      <td>5</td>\n",
       "    </tr>\n",
       "  </tbody>\n",
       "</table>\n",
       "</div>"
      ],
      "text/plain": [
       "         Unnamed: 0    j    i       rho    subject method  mode  winLEN  cv\n",
       "2764795      460795  156  160 -0.441458  fanzixiao     wn  full    0.86   5\n",
       "2764796      460796  157  160  0.046900  fanzixiao     wn  full    0.86   5\n",
       "2764797      460797  158  160 -0.436399  fanzixiao     wn  full    0.86   5\n",
       "2764798      460798  159  160 -0.171659  fanzixiao     wn  full    0.86   5\n",
       "2764799      460799  160  160  2.180855  fanzixiao     wn  full    0.86   5"
      ]
     },
     "execution_count": 55,
     "metadata": {},
     "output_type": "execute_result"
    }
   ],
   "source": [
    "LNcM = []\n",
    "add = '../results/sweep'\n",
    "subs = os.listdir(add)\n",
    "\n",
    "for sub in subs:\n",
    "    subFolder = add+os.sep+sub\n",
    "    if os.path.exists(subFolder+os.sep+'LNcM.csv'):\n",
    "        f = pd.read_csv(subFolder+os.sep+'LNcM.csv')\n",
    "        LNcM.append(f)\n",
    "\n",
    "LNcM = pd.concat(LNcM, ignore_index=True, axis=0)\n",
    "LNcM = LNcM[LNcM.subject == 'fanzixiao']\n",
    "LNcM.tail()\n"
   ]
  },
  {
   "cell_type": "code",
   "execution_count": 56,
   "metadata": {},
   "outputs": [],
   "source": [
    "LNcM_linear = LNcM[LNcM['mode']=='linear'].pivot_table(index='i',columns='j',values='rho')\n",
    "LNcM_nonlinear = LNcM[LNcM['mode']=='nonlinear'].pivot_table(index='i',columns='j',values='rho')\n",
    "LNcM_full = LNcM[LNcM['mode']=='full'].pivot_table(index='i',columns='j',values='rho')"
   ]
  },
  {
   "cell_type": "code",
   "execution_count": 65,
   "metadata": {},
   "outputs": [],
   "source": [
    "vmin = np.min(np.concatenate([LNcM_full,  LNcM_linear, LNcM_nonlinear]))\n",
    "vmax = np.max(np.concatenate([LNcM_linear]))\n"
   ]
  },
  {
   "cell_type": "code",
   "execution_count": 100,
   "metadata": {},
   "outputs": [
    {
     "data": {
      "image/png": "[encoded data removed]",
      "text/plain": [
       "<Figure size 196.85x78.7402 with 4 Axes>"
      ]
     },
     "metadata": {},
     "output_type": "display_data"
    }
   ],
   "source": [
    "sns.set_theme(style='ticks', font='Arial', rc={\"lines.linewidth\": 1, 'font.size': 5, 'legend.fontsize': 5,\n",
    "              'legend.title_fontsize': 5, 'axes.labelsize': 5, 'xtick.labelsize': 5, 'ytick.labelsize': 5, })\n",
    "\n",
    "f, axes = plt.subplots(1, 3, figsize=(5*cm, 2*cm))\n",
    "\n",
    "cax = plt.axes([0.2, 0.3, 0.2, 0.05])\n",
    "\n",
    "a = axes[0].imshow(LNcM_full.to_numpy(), cmap='vlag',\n",
    "               interpolation='none', vmin=vmin, vmax=vmax)\n",
    "axes[1].imshow(LNcM_linear.to_numpy(), cmap='vlag',\n",
    "               interpolation='none', vmin=vmin, vmax=vmax)\n",
    "axes[2].imshow(LNcM_nonlinear.to_numpy(), cmap='vlag',\n",
    "               interpolation='none', vmin=vmin, vmax=vmax)\n",
    "\n",
    "\n",
    "axes[0].set_xlabel('full')\n",
    "axes[1].set_xlabel('linear')\n",
    "axes[2].set_xlabel('nonlinear')\n",
    "\n",
    "for ax in f.axes:\n",
    "    ax.tick_params(labelsize=5, width=0.5, length=2, which='both')\n",
    "    plt.setp(ax.spines.values(), linewidth=0.5)\n",
    "\n",
    "for ax in axes:\n",
    "    ax.xaxis.set_major_locator(ticker.IndexLocator(base=79, offset=0.5))\n",
    "    ax.yaxis.set_major_locator(ticker.IndexLocator(base=79, offset=0.5))\n",
    "\n",
    "plt.colorbar(a, cax=cax,orientation='horizontal')\n",
    "\n",
    "plt.savefig('../images/mainFig1/fig1d3.png', dpi=400, bbox_inches='tight')\n",
    "plt.savefig('../images/mainFig1/fig1d3.svg', dpi=400, bbox_inches='tight')"
   ]
  },
  {
   "attachments": {},
   "cell_type": "markdown",
   "metadata": {},
   "source": [
    "## Fig E: Broadband and Narrowband SNR"
   ]
  },
  {
   "cell_type": "code",
   "execution_count": 11,
   "metadata": {},
   "outputs": [
    {
     "data": {
      "text/html": [
       "<div>\n",
       "<style scoped>\n",
       "    .dataframe tbody tr th:only-of-type {\n",
       "        vertical-align: middle;\n",
       "    }\n",
       "\n",
       "    .dataframe tbody tr th {\n",
       "        vertical-align: top;\n",
       "    }\n",
       "\n",
       "    .dataframe thead th {\n",
       "        text-align: right;\n",
       "    }\n",
       "</style>\n",
       "<table border=\"1\" class=\"dataframe\">\n",
       "  <thead>\n",
       "    <tr style=\"text-align: right;\">\n",
       "      <th></th>\n",
       "      <th>Unnamed: 0</th>\n",
       "      <th>f</th>\n",
       "      <th>ubSNR</th>\n",
       "      <th>ubrate</th>\n",
       "      <th>sPower</th>\n",
       "      <th>nPower</th>\n",
       "      <th>X</th>\n",
       "      <th>exp</th>\n",
       "      <th>subject</th>\n",
       "      <th>ubINFO</th>\n",
       "      <th>tag</th>\n",
       "    </tr>\n",
       "  </thead>\n",
       "  <tbody>\n",
       "    <tr>\n",
       "      <th>2995</th>\n",
       "      <td>495</td>\n",
       "      <td>122.5</td>\n",
       "      <td>0.782376</td>\n",
       "      <td>54.624411</td>\n",
       "      <td>2.345167e-07</td>\n",
       "      <td>3.203228e-07</td>\n",
       "      <td>3.828071e-07</td>\n",
       "      <td>NBB</td>\n",
       "      <td>miaoyining</td>\n",
       "      <td>55.365195</td>\n",
       "      <td>SSVEP</td>\n",
       "    </tr>\n",
       "    <tr>\n",
       "      <th>2996</th>\n",
       "      <td>496</td>\n",
       "      <td>123.0</td>\n",
       "      <td>0.787246</td>\n",
       "      <td>55.046372</td>\n",
       "      <td>2.143930e-07</td>\n",
       "      <td>2.911435e-07</td>\n",
       "      <td>3.485164e-07</td>\n",
       "      <td>NBB</td>\n",
       "      <td>miaoyining</td>\n",
       "      <td>55.365195</td>\n",
       "      <td>SSVEP</td>\n",
       "    </tr>\n",
       "    <tr>\n",
       "      <th>2997</th>\n",
       "      <td>497</td>\n",
       "      <td>123.5</td>\n",
       "      <td>0.792069</td>\n",
       "      <td>54.996051</td>\n",
       "      <td>2.017109e-07</td>\n",
       "      <td>2.725018e-07</td>\n",
       "      <td>3.266512e-07</td>\n",
       "      <td>NBB</td>\n",
       "      <td>miaoyining</td>\n",
       "      <td>55.365195</td>\n",
       "      <td>SSVEP</td>\n",
       "    </tr>\n",
       "    <tr>\n",
       "      <th>2998</th>\n",
       "      <td>498</td>\n",
       "      <td>124.0</td>\n",
       "      <td>0.796001</td>\n",
       "      <td>55.415780</td>\n",
       "      <td>1.938662e-07</td>\n",
       "      <td>2.608675e-07</td>\n",
       "      <td>3.130214e-07</td>\n",
       "      <td>NBB</td>\n",
       "      <td>miaoyining</td>\n",
       "      <td>55.365195</td>\n",
       "      <td>SSVEP</td>\n",
       "    </tr>\n",
       "    <tr>\n",
       "      <th>2999</th>\n",
       "      <td>499</td>\n",
       "      <td>124.5</td>\n",
       "      <td>0.798542</td>\n",
       "      <td>55.365195</td>\n",
       "      <td>1.895657e-07</td>\n",
       "      <td>2.544546e-07</td>\n",
       "      <td>3.055140e-07</td>\n",
       "      <td>NBB</td>\n",
       "      <td>miaoyining</td>\n",
       "      <td>55.365195</td>\n",
       "      <td>SSVEP</td>\n",
       "    </tr>\n",
       "  </tbody>\n",
       "</table>\n",
       "</div>"
      ],
      "text/plain": [
       "      Unnamed: 0      f     ubSNR     ubrate        sPower        nPower  \\\n",
       "2995         495  122.5  0.782376  54.624411  2.345167e-07  3.203228e-07   \n",
       "2996         496  123.0  0.787246  55.046372  2.143930e-07  2.911435e-07   \n",
       "2997         497  123.5  0.792069  54.996051  2.017109e-07  2.725018e-07   \n",
       "2998         498  124.0  0.796001  55.415780  1.938662e-07  2.608675e-07   \n",
       "2999         499  124.5  0.798542  55.365195  1.895657e-07  2.544546e-07   \n",
       "\n",
       "                 X  exp     subject     ubINFO    tag  \n",
       "2995  3.828071e-07  NBB  miaoyining  55.365195  SSVEP  \n",
       "2996  3.485164e-07  NBB  miaoyining  55.365195  SSVEP  \n",
       "2997  3.266512e-07  NBB  miaoyining  55.365195  SSVEP  \n",
       "2998  3.130214e-07  NBB  miaoyining  55.365195  SSVEP  \n",
       "2999  3.055140e-07  NBB  miaoyining  55.365195  SSVEP  "
      ]
     },
     "execution_count": 11,
     "metadata": {},
     "output_type": "execute_result"
    }
   ],
   "source": [
    "compare = []\n",
    "\n",
    "exps = ['NBB']\n",
    "\n",
    "for exp in exps:\n",
    "\n",
    "    add = '../results/%s'%exp\n",
    "    subs = os.listdir(add)\n",
    "\n",
    "    for sub in subs:\n",
    "        subFolder = add+os.sep+sub\n",
    "        if os.path.exists(subFolder+os.sep+'NaB_info.csv'):\n",
    "            f = pd.read_csv(subFolder+os.sep+'NaB_info.csv')\n",
    "            compare.append(f)\n",
    "\n",
    "compare = pd.concat(compare, ignore_index=True, axis=0)\n",
    "compare.tail()"
   ]
  },
  {
   "cell_type": "code",
   "execution_count": 26,
   "metadata": {},
   "outputs": [
    {
     "data": {
      "image/png": "[encoded data removed]",
      "text/plain": [
       "<Figure size 173.228x173.228 with 2 Axes>"
      ]
     },
     "metadata": {},
     "output_type": "display_data"
    }
   ],
   "source": [
    "sns.set_theme(style='ticks', font='Arial', rc={\"lines.linewidth\": 1, 'font.size': 5, 'legend.fontsize': 5,'legend.title_fontsize': 5, 'axes.labelsize': 5, 'xtick.labelsize': 5, 'ytick.labelsize': 5, })\n",
    "\n",
    "fig, (ax1,ax2) = plt.subplots(2, 1, figsize=(4.4*cm, 4.4*cm))\n",
    "\n",
    "plt.subplots_adjust(wspace=0.3)\n",
    "\n",
    "ax1.axvspan(xmin=8,xmax=15.8,facecolor='black',alpha=0.2,lw=0.5,edgecolor='black')\n",
    "\n",
    "sns.lineplot(data=compare[(compare.f > 2) & (compare.f < 100)],\n",
    "             x='f', y='ubSNR', hue='tag', ax=ax1, legend=False, style='tag',palette=[red,'black'])\n",
    "\n",
    "sns.lineplot(data=compare[(compare.f>2)&(compare.f<100)],\n",
    "             x='f', y='ubrate', hue='tag', ax=ax2, style='tag', legend=True, palette=[red, 'black'])\n",
    "\n",
    "ax2.yaxis.tick_right()\n",
    "\n",
    "\n",
    "ax1.text(x=8, y=2, s='8 Hz')\n",
    "ax1.text(x=15.8,y=2,s='15.8 Hz')\n",
    "\n",
    "ax1.set_ylabel('SNR(dB)')\n",
    "ax2.set_ylabel('Information(bps)')\n",
    "ax2.set_xlabel('Frequency(Hz)')\n",
    "\n",
    "for ax in (ax1, ax2):\n",
    "    ax.tick_params(labelsize=5, width=0.5, length=2, which='both')\n",
    "    plt.setp(ax.spines.values(), linewidth=0.75)\n",
    "    ax.set_xscale('log')\n",
    "\n",
    "plt.savefig('../images/mainFig1/fig1e.png',dpi=400,bbox_inches='tight')\n",
    "plt.savefig('../images/mainFig1/fig1e.svg',dpi=400,bbox_inches='tight')"
   ]
  },
  {
   "cell_type": "code",
   "execution_count": 16,
   "metadata": {},
   "outputs": [
    {
     "data": {
      "image/png": "[encoded data removed]",
      "text/plain": [
       "<Figure size 173.228x173.228 with 2 Axes>"
      ]
     },
     "metadata": {},
     "output_type": "display_data"
    }
   ],
   "source": [
    "sns.set_theme(style='ticks', font='Arial', rc={\"lines.linewidth\": 1, 'font.size': 5, 'legend.fontsize': 5,'legend.title_fontsize': 5, 'axes.labelsize': 5, 'xtick.labelsize': 5, 'ytick.labelsize': 5, })\n",
    "\n",
    "fig, (ax1) = plt.subplots(1, 1, figsize=(4.4*cm, 4.4*cm))\n",
    "\n",
    "ax2 = ax1.twinx()\n",
    "plt.subplots_adjust(wspace=0.3)\n",
    "\n",
    "ax1.axvspan(xmin=8,xmax=15.8,facecolor='black',alpha=0.2)\n",
    "\n",
    "sns.lineplot(data=compare[(compare.f > 2) & (compare.f < 100)],\n",
    "             x='f', y='ubSNR', hue='tag', ax=ax1, legend=False, style='tag',palette=[red,'black'])\n",
    "\n",
    "sns.lineplot(data=compare[(compare.f>2)&(compare.f<100)],\n",
    "             x='f', y='ubrate', hue='tag', ax=ax2, style='tag', legend=False, palette=[red, 'black'])\n",
    "\n",
    "ax2.yaxis.tick_right()\n",
    "\n",
    "ax1.set_ylabel('SNR(dB)')\n",
    "ax2.set_ylabel('Information(bps)')\n",
    "ax2.set_xlabel('Frequency(Hz)')\n",
    "\n",
    "for ax in (ax1, ax2):\n",
    "    ax.tick_params(labelsize=5, width=0.5, length=2, which='both')\n",
    "    plt.setp(ax.spines.values(), linewidth=0.75)\n",
    "    ax.set_xscale('log')\n",
    "\n",
    "plt.savefig('../images/mainFig1/fig1e.png',dpi=400,bbox_inches='tight')\n",
    "plt.savefig('../images/mainFig1/fig1e.svg',dpi=400,bbox_inches='tight')"
   ]
  }
 ],
 "metadata": {
  "kernelspec": {
   "display_name": "base",
   "language": "python",
   "name": "python3"
  },
  "language_info": {
   "codemirror_mode": {
    "name": "ipython",
    "version": 3
   },
   "file_extension": ".py",
   "mimetype": "text/x-python",
   "name": "python",
   "nbconvert_exporter": "python",
   "pygments_lexer": "ipython3",
   "version": "3.8.5"
  },
  "orig_nbformat": 4,
  "vscode": {
   "interpreter": {
    "hash": "738b996afe2da5960d326b652730d0fe79e83941aa5e7e236ea36fecd662bb25"
   }
  }
 },
 "nbformat": 4,
 "nbformat_minor": 2
}
